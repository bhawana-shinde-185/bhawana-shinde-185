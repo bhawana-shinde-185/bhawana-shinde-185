{
 "cells": [
  {
   "cell_type": "code",
   "execution_count": 141,
   "id": "5a019e40",
   "metadata": {},
   "outputs": [],
   "source": [
    "def func():\n",
    "    pass\n",
    "func()"
   ]
  },
  {
   "cell_type": "code",
   "execution_count": 142,
   "id": "cb562fa6",
   "metadata": {},
   "outputs": [],
   "source": [
    "# def filt(user_input,even_or_odd):\n",
    "#     take_list = list(range(user_input+1))\n",
    "#     output_list = []\n",
    "#     if even_or_odd == \"even\":  \n",
    "#         for i in take_list:\n",
    "#             if i % 2 == 0:\n",
    "#                 output_list.append(i)\n",
    "#         print(output_list)\n",
    "#     elif even_or_odd == \"odd\":\n",
    "#         for  i in take_list:\n",
    "#             if i % 2 != 0:\n",
    "#                 output_list.append(i)\n",
    "    \n",
    "#         print(output_list)\n",
    "\n",
    "#     else:\n",
    "#         return \"you have given wrong input\"\n",
    "                \n",
    " \n",
    "# user_input = int(input(\"Please enter a number\"))\n",
    "# even_or_odd = input(\"even or odd?\")\n",
    "# filt(user_input,even_or_odd)\n",
    "\n"
   ]
  },
  {
   "cell_type": "code",
   "execution_count": 143,
   "id": "fb5e399c",
   "metadata": {},
   "outputs": [],
   "source": [
    "# def filt(even_or_odd):\n",
    "#     take_list = list(range(1,50))\n",
    "#     output_list =[]\n",
    "#     if even_or_odd == \"even\":\n",
    "#         for i in take_list:\n",
    "#             if i % 2 == 0:\n",
    "#                 output_list.append(i)\n",
    "#         print(output_list)\n",
    "#     elif even_or_odd == \"odd\":\n",
    "#         for i in take_list:\n",
    "#             if i %2 != 0:\n",
    "#                 output_list.append(i)\n",
    "#         print(output_list)  \n",
    "#     else:\n",
    "#         return \"you have given wrong input\"\n",
    "    \n",
    "# # user_input = int(input(\"Please enter a number\"))\n",
    "# even_or_odd = input(\"even or odd?\")\n",
    "# filt(even_or_odd)\n",
    "\n",
    "    \n",
    "        \n",
    "            "
   ]
  },
  {
   "cell_type": "code",
   "execution_count": 144,
   "id": "f310db45",
   "metadata": {},
   "outputs": [
    {
     "name": "stdout",
     "output_type": "stream",
     "text": [
      "[0, 2, 4, 6, 8, 10, 12, 14, 16, 18, 20, 22, 24, 26, 28, 30, 32, 34, 36, 38, 40, 42, 44, 46, 48, 50, 52, 54, 56, 58, 60, 62, 64, 66, 68, 70, 72, 74, 76, 78, 80, 82, 84, 86, 88, 90, 92, 94, 96, 98]\n",
      "[1, 3, 5, 7, 9, 11, 13, 15, 17, 19, 21, 23, 25, 27, 29, 31, 33, 35, 37, 39, 41, 43, 45, 47, 49, 51, 53, 55, 57, 59, 61, 63, 65, 67, 69, 71, 73, 75, 77, 79, 81, 83, 85, 87, 89, 91, 93, 95, 97, 99]\n"
     ]
    }
   ],
   "source": [
    "\n",
    "take_list = [i for i in range(0,100)]\n",
    "even =[]\n",
    "odd =[]\n",
    "for i in range (0,100):\n",
    "  if i%2==0:\n",
    "    even.append(i)\n",
    "  else:\n",
    "    odd.append(i)\n",
    "print(even)\n",
    "print(odd)\n",
    "\n"
   ]
  },
  {
   "cell_type": "code",
   "execution_count": 145,
   "id": "59ec63bc",
   "metadata": {},
   "outputs": [
    {
     "name": "stdout",
     "output_type": "stream",
     "text": [
      "[2, 4, 6, 8]\n",
      "[0, 1, 3, 5, 7, 9]\n"
     ]
    }
   ],
   "source": [
    "\n",
    "take_list = [i for i in range(0,10)]\n",
    "check_list =[2,4,6,8,10]\n",
    "even= []\n",
    "odd=[]\n",
    "for i in range (0,10):\n",
    "    if i in check_list:\n",
    "        even.append(i)\n",
    "    else:\n",
    "        odd.append(i)\n",
    "print(even)\n",
    "print(odd)\n",
    "\n",
    "\n"
   ]
  },
  {
   "cell_type": "code",
   "execution_count": 146,
   "id": "310b4dc0",
   "metadata": {},
   "outputs": [
    {
     "name": "stdout",
     "output_type": "stream",
     "text": [
      "your age :7\n",
      "my age is: 7\n",
      "enter the even number7\n",
      "even number is:7\n",
      "enter the odd number7\n",
      "even number is :7\n"
     ]
    }
   ],
   "source": [
    "\n",
    "username = input(\"your age :\")\n",
    "print(\"my age is: \" + username)\n",
    "\n",
    "username = input(\"enter the even number\")\n",
    "print(\"even number is:\"+username)\n",
    "\n",
    "username = input(\"enter the odd number\")\n",
    "print(\"even number is :\"+username)\n",
    "\n",
    "\n"
   ]
  },
  {
   "cell_type": "code",
   "execution_count": 147,
   "id": "9ef83a58",
   "metadata": {},
   "outputs": [
    {
     "name": "stdout",
     "output_type": "stream",
     "text": [
      "['A', 'E', 'I', 'O', 'U']\n",
      "['B', 'C', 'D', 'F', 'G', 'H', 'J', 'K', 'L', 'M', 'N', 'P', 'Q', 'R', 'S', 'T', 'V', 'W', 'X', 'Y', 'Z']\n"
     ]
    }
   ],
   "source": [
    "take_list = [chr(i)  for i in range(65,91)]\n",
    "check_list = [\"A\",\"E\", \"I\",\"O\",\"U\"]\n",
    "vowel =[]\n",
    "consonent =[]\n",
    "for i in take_list:\n",
    "  if i in check_list:\n",
    "     vowel.append(i)\n",
    "  else :\n",
    "    consonent.append(i)\n",
    "print(vowel)\n",
    "print(consonent)\n",
    "\n",
    "\n"
   ]
  },
  {
   "cell_type": "code",
   "execution_count": 148,
   "id": "572f23e0",
   "metadata": {},
   "outputs": [
    {
     "name": "stdout",
     "output_type": "stream",
     "text": [
      "[0, 2, 4, 6, 8]\n",
      "[1, 3, 5, 7, 9]\n"
     ]
    }
   ],
   "source": [
    "take_list=[i for i in range(0,10)]\n",
    "even=[]\n",
    "odd=[]\n",
    "for i in range (0,10):\n",
    "    if i%2==0:\n",
    "        even.append(i)\n",
    "    else:\n",
    "        odd.append(i)\n",
    "print(even)\n",
    "print(odd)\n"
   ]
  },
  {
   "cell_type": "code",
   "execution_count": 16,
   "id": "1c064dec",
   "metadata": {},
   "outputs": [
    {
     "name": "stdout",
     "output_type": "stream",
     "text": [
      "[0, 2, 4, 6, 8, 10, 12, 14, 16, 18]\n",
      "[1, 3, 5, 7, 9, 11, 13, 15, 17, 19]\n"
     ]
    }
   ],
   "source": [
    "take_list =[i for i in range(0,25)]\n",
    "even =[]\n",
    "odd =[]\n",
    "for i in range(0,20):\n",
    "    if i%2==0:\n",
    "        even.append(i)\n",
    "    else:\n",
    "        odd.append(i)\n",
    "print(even)\n",
    "print(odd)\n",
    "        \n"
   ]
  },
  {
   "cell_type": "code",
   "execution_count": 149,
   "id": "78a4428c",
   "metadata": {},
   "outputs": [
    {
     "name": "stdout",
     "output_type": "stream",
     "text": [
      "3\n"
     ]
    }
   ],
   "source": [
    "def function(a,b):\n",
    "   \n",
    "    sum=a+b\n",
    "    print(sum)\n",
    "function(1,2)    \n",
    "    \n",
    "        "
   ]
  },
  {
   "cell_type": "code",
   "execution_count": 150,
   "id": "7b17adaa",
   "metadata": {},
   "outputs": [],
   "source": [
    "# def filt (user_input,even_or_odd):\n",
    "#     take_list =list(range(1,user_input+1))\n",
    "#     output_list =[]\n",
    "#     if even_or_odd ==\"even\":\n",
    "#         for i in take_list:\n",
    "#             if i%2 == 0:\n",
    "#                  output_list.append(i)\n",
    "#         print(output_list)\n",
    "#     elif even_or_odd ==\"odd\":\n",
    "#         for i in take_list:\n",
    "#             if i%2 != 0:\n",
    "#                  output_list.append(i)\n",
    "#         print(output_list)\n",
    "    \n",
    "#     else:\n",
    "#         return \"you given wrong input\"\n",
    "    \n",
    "# user_input = int(input(\"Please enter a number\"))\n",
    "# even_or_odd = input(\"even or odd?\")\n",
    "# filt(user_input,even_or_odd)\n",
    "\n",
    "               \n",
    "    "
   ]
  },
  {
   "cell_type": "code",
   "execution_count": 151,
   "id": "ea775319",
   "metadata": {},
   "outputs": [],
   "source": [
    "# def filt (user_input,even_or_odd):\n",
    "#     take_list = list(range(1,user_input+1))\n",
    "#     output_list= []\n",
    "#     if even_or_odd ==\"even\":\n",
    "#         for i in take_list:\n",
    "#             if i%2 == 0:\n",
    "#                 output_list.append(i)\n",
    "#     elif even_or_odd ==\"odd\":\n",
    "#         for i in take_list:\n",
    "#             if i%2 != 0:\n",
    "#                 output_list.append(i)\n",
    "#     else:\n",
    "#         return \"you have wrong input\"\n",
    "# user_input= int(input(\"please enter the number\"))\n",
    "# even_or_odd = input(\"even or odd?\")\n",
    "# filt(user_input,even_or_odd)\n",
    "            "
   ]
  },
  {
   "cell_type": "code",
   "execution_count": 152,
   "id": "1d5e1ff1",
   "metadata": {},
   "outputs": [
    {
     "name": "stdout",
     "output_type": "stream",
     "text": [
      "\n",
      "\n",
      "* \n",
      "* * \n",
      "* * * \n"
     ]
    }
   ],
   "source": [
    "for i in range(5):\n",
    "    for j in range(0,i-1):\n",
    "        print(\"*\",end =' ')\n",
    "    print()    "
   ]
  },
  {
   "cell_type": "code",
   "execution_count": 153,
   "id": "399175db",
   "metadata": {},
   "outputs": [
    {
     "name": "stdout",
     "output_type": "stream",
     "text": [
      "         *  \n",
      "       *   *  \n",
      "     *   *   *  \n",
      "   *   *   *   *  \n",
      " *   *   *   *   *  \n"
     ]
    }
   ],
   "source": [
    "n = 5  \n",
    "for i in range(n):\n",
    "    for j in range (n-i-1):\n",
    "        print(' ',end =' ')\n",
    "    for k in range (1*i+1):\n",
    "        print(' * ',end =' ')\n",
    "    print()\n",
    "    "
   ]
  },
  {
   "cell_type": "code",
   "execution_count": 154,
   "id": "1d453633",
   "metadata": {},
   "outputs": [
    {
     "name": "stdout",
     "output_type": "stream",
     "text": [
      "* \n",
      "* * \n",
      "* * * \n",
      "* * * * \n",
      "* * * * * \n"
     ]
    }
   ],
   "source": [
    "for row in range(0,5):\n",
    "    for col in range(5,row-1):\n",
    "        print(' ',end = ' ')\n",
    "    for row in range(1*row+1):\n",
    "        print('*',end = ' ')\n",
    "    print()\n",
    "             \n",
    "        "
   ]
  },
  {
   "cell_type": "code",
   "execution_count": 155,
   "id": "48112be8",
   "metadata": {},
   "outputs": [
    {
     "name": "stdout",
     "output_type": "stream",
     "text": [
      " * \n",
      " *  * \n",
      " *  *  * \n",
      " *  *  *  * \n",
      " *  *  *  *  * \n"
     ]
    }
   ],
   "source": [
    "for row in range(0,5):\n",
    "    for col in range(5,row-1):\n",
    "        print('*',end =' ')\n",
    "    for row in range(1*row+1):\n",
    "        print(' *',end =' ')\n",
    "    print()    \n"
   ]
  },
  {
   "cell_type": "code",
   "execution_count": 156,
   "id": "faf70c64",
   "metadata": {},
   "outputs": [
    {
     "name": "stdout",
     "output_type": "stream",
     "text": [
      "rows or colums?7\n",
      "              * \n",
      "            * * * \n",
      "          * * * * * \n",
      "        * * * * * * * \n",
      "      * * * * * * * * * \n",
      "    * * * * * * * * * * * \n",
      "  * * * * * * * * * * * * * \n"
     ]
    }
   ],
   "source": [
    "def filt(rows_or_colums):\n",
    "    for i in range(0,rows_or_colums):\n",
    "        spaces = rows_or_colums-i\n",
    "        for j in range(spaces):\n",
    "            print(' ',end = ' ')\n",
    "        for k in range (2*i+1):\n",
    "            print('*',end = ' ')\n",
    "        print()\n",
    "rows_or_colums = int(input(\"rows or colums?\"))\n",
    "filt(rows_or_colums)"
   ]
  },
  {
   "cell_type": "code",
   "execution_count": 157,
   "id": "ba6f84a0",
   "metadata": {},
   "outputs": [
    {
     "name": "stdout",
     "output_type": "stream",
     "text": [
      "1 \n",
      "2 2 \n",
      "3 3 3 \n",
      "4 4 4 4 \n",
      "5 5 5 5 5 \n"
     ]
    }
   ],
   "source": [
    "for row in range(1,6):\n",
    "    for col in range(0,row):\n",
    "        print(row,end=\" \")\n",
    "    print(\"\")"
   ]
  },
  {
   "cell_type": "code",
   "execution_count": 158,
   "id": "07b5da65",
   "metadata": {},
   "outputs": [
    {
     "name": "stdout",
     "output_type": "stream",
     "text": [
      "              * \n",
      "            * * \n",
      "          * * * \n",
      "        * * * * \n",
      "      * * * * * \n",
      "    * * * * * * \n",
      "  * * * * * * * \n"
     ]
    }
   ],
   "source": [
    "def mirror_pattern(n):\n",
    "    for row in range(1,n):\n",
    "        space = n - row\n",
    "        for col in range(space):\n",
    "            print(\" \",end=\" \")\n",
    "        for i in range(row):\n",
    "            print(\"*\",end=\" \") \n",
    "        print(\"\")\n",
    "        \n",
    "mirror_pattern(8)\n"
   ]
  },
  {
   "cell_type": "code",
   "execution_count": 159,
   "id": "cd3f4973",
   "metadata": {},
   "outputs": [
    {
     "name": "stdout",
     "output_type": "stream",
     "text": [
      "1 \n",
      "2 2 \n",
      "3 3 3 \n",
      "4 4 4 4 \n",
      "5 5 5 5 5 \n",
      "6 6 6 6 6 6 \n",
      "7 7 7 7 7 7 7 \n",
      "8 8 8 8 8 8 8 8 \n"
     ]
    }
   ],
   "source": [
    "for row in range(1,9):\n",
    "    for col in range(0,row):\n",
    "        print(row,end =\" \")\n",
    "    print(\"\")\n",
    "    \n"
   ]
  },
  {
   "cell_type": "code",
   "execution_count": 160,
   "id": "022d566a",
   "metadata": {},
   "outputs": [
    {
     "name": "stdout",
     "output_type": "stream",
     "text": [
      "\n",
      "1 \n",
      "2 2 \n",
      "3 3 3 \n",
      "4 4 4 4 \n",
      "5 5 5 5 5 \n",
      "6 6 6 6 6 6 \n",
      "7 7 7 7 7 7 7 \n",
      "8 8 8 8 8 8 8 8 \n",
      "9 9 9 9 9 9 9 9 9 \n"
     ]
    }
   ],
   "source": [
    "for row in range(0,10):\n",
    "    for col in range(0,row):\n",
    "        print(row,end = \" \")\n",
    "    print(\"\") "
   ]
  },
  {
   "cell_type": "code",
   "execution_count": 161,
   "id": "23e0506a",
   "metadata": {},
   "outputs": [
    {
     "name": "stdout",
     "output_type": "stream",
     "text": [
      "\n",
      "2 \n",
      "3 3 \n",
      "4 4 4 \n"
     ]
    }
   ],
   "source": [
    "for row in range(1,5):\n",
    "    for col in range(1,row):\n",
    "        print(row,end = \" \")\n",
    "    print(\"\")   \n",
    "    "
   ]
  },
  {
   "cell_type": "code",
   "execution_count": 24,
   "id": "493f77a0",
   "metadata": {},
   "outputs": [
    {
     "name": "stdout",
     "output_type": "stream",
     "text": [
      "* \n",
      "* * \n",
      "* * * \n",
      "* * * * \n",
      "* * * * * \n"
     ]
    }
   ],
   "source": [
    "for i in range(0,5):\n",
    "    for j in range(0,i+1):\n",
    "        print(\"*\",end=\" \")\n",
    "    print(\"\")    "
   ]
  },
  {
   "cell_type": "code",
   "execution_count": 30,
   "id": "83c0159b",
   "metadata": {},
   "outputs": [
    {
     "name": "stdout",
     "output_type": "stream",
     "text": [
      "***** \n",
      "**** \n",
      "*** \n",
      "** \n",
      "* \n"
     ]
    }
   ],
   "source": [
    "for i in range(0,5):\n",
    "    for j in range(0,5-i):\n",
    "        print(\"*\",end=\"\")\n",
    "    print(\" \")    "
   ]
  },
  {
   "cell_type": "code",
   "execution_count": 162,
   "id": "71908aca",
   "metadata": {},
   "outputs": [
    {
     "name": "stdout",
     "output_type": "stream",
     "text": [
      "\n",
      "* \n",
      "* * \n",
      "* * * \n",
      "* * * * \n"
     ]
    }
   ],
   "source": [
    "for row in range (0,5):\n",
    "    for col in range(0,row):\n",
    "        print(\"*\",end=\" \")\n",
    "    print(\"\")   "
   ]
  },
  {
   "cell_type": "code",
   "execution_count": 163,
   "id": "06863379",
   "metadata": {},
   "outputs": [
    {
     "name": "stdout",
     "output_type": "stream",
     "text": [
      "* \n",
      "* * \n",
      "* * * \n",
      "* * * * \n",
      "* * * * * \n"
     ]
    }
   ],
   "source": [
    "for i in range(5):\n",
    "    for j in range(0,i+1):\n",
    "        print(\"*\",end =\" \")\n",
    "    print()"
   ]
  },
  {
   "cell_type": "code",
   "execution_count": 43,
   "id": "48c9a31b",
   "metadata": {},
   "outputs": [
    {
     "name": "stdout",
     "output_type": "stream",
     "text": [
      "          *  \n",
      "        * *  \n",
      "      * * *  \n",
      "    * * * *  \n",
      "  * * * * *  \n"
     ]
    }
   ],
   "source": [
    "for i in range(0,5):\n",
    "    for j in range(i,5):\n",
    "        print(\" \",end=\" \")\n",
    "    for k in range(0,i+1): \n",
    "        print(\"*\",end=\" \")\n",
    "    print(\" \")    "
   ]
  },
  {
   "cell_type": "code",
   "execution_count": 31,
   "id": "60d59c53",
   "metadata": {},
   "outputs": [
    {
     "name": "stdout",
     "output_type": "stream",
     "text": [
      "          * \n",
      "        * * \n",
      "      * * * \n",
      "    * * * * \n",
      "  * * * * * \n"
     ]
    }
   ],
   "source": [
    "for i in range(0,5):\n",
    "    for j in range(i,5):\n",
    "        print(\" \",end=\" \")\n",
    "    for k in range(0,i+1):\n",
    "        print(\"*\",end=\" \")\n",
    "    print()    "
   ]
  },
  {
   "cell_type": "code",
   "execution_count": 34,
   "id": "5c8a5e85",
   "metadata": {},
   "outputs": [
    {
     "name": "stdout",
     "output_type": "stream",
     "text": [
      "          * \n",
      "        * * \n",
      "      * * * \n",
      "    * * * * \n",
      "  * * * * * \n"
     ]
    }
   ],
   "source": [
    "for i in range(0,5):\n",
    "    for j in range(i,5):\n",
    "        print(\" \",end=\" \")\n",
    "    for k in range (0,i+1):\n",
    "        print(\"*\",end=\" \")\n",
    "    print()"
   ]
  },
  {
   "cell_type": "code",
   "execution_count": 45,
   "id": "bacfed32",
   "metadata": {},
   "outputs": [
    {
     "name": "stdout",
     "output_type": "stream",
     "text": [
      "          * \n",
      "        * * \n",
      "      * * * \n",
      "    * * * * \n",
      "  * * * * * \n"
     ]
    }
   ],
   "source": [
    "for i in range(0,5):\n",
    "    for j in range(i,5):\n",
    "        print(\" \",end=\" \")\n",
    "    for k in range(0,i+1):\n",
    "        print(\"*\",end=\" \")\n",
    "    print()    "
   ]
  },
  {
   "cell_type": "code",
   "execution_count": 47,
   "id": "4b59c482",
   "metadata": {},
   "outputs": [
    {
     "name": "stdout",
     "output_type": "stream",
     "text": [
      "* * * * *  \n",
      "* * * *  \n",
      "* * *  \n",
      "* *  \n",
      "*  \n"
     ]
    }
   ],
   "source": [
    "for i in range(0,5):\n",
    "    for j in range(5-i):\n",
    "        print(\"*\",end=\" \")\n",
    "    print(\" \")"
   ]
  },
  {
   "cell_type": "code",
   "execution_count": 165,
   "id": "e37dd1af",
   "metadata": {},
   "outputs": [
    {
     "name": "stdout",
     "output_type": "stream",
     "text": [
      "\n",
      " \n",
      "  \n",
      "   \n",
      "  **\n",
      " ****\n"
     ]
    }
   ],
   "source": [
    "for i in range(0,6):\n",
    "    for j in range(0,i):\n",
    "        if (j>=6-i):\n",
    "            print(\"*\",end=\"\")\n",
    "        else:\n",
    "            print(\" \",end=\"\")\n",
    "    print()    "
   ]
  },
  {
   "cell_type": "code",
   "execution_count": 166,
   "id": "e6849ff0",
   "metadata": {},
   "outputs": [
    {
     "name": "stdout",
     "output_type": "stream",
     "text": [
      "* * * * * \n",
      "* * * *   \n",
      "* * *     \n",
      "* *       \n",
      "*         \n"
     ]
    }
   ],
   "source": [
    "for i in range(0,5):\n",
    "    for j in range(0,5):\n",
    "        if (j>=5-i):\n",
    "            print(\" \",end=\" \")\n",
    "        else:\n",
    "            print(\"*\",end=\" \")\n",
    "    print()       "
   ]
  },
  {
   "cell_type": "code",
   "execution_count": 167,
   "id": "8c4dda8e",
   "metadata": {},
   "outputs": [
    {
     "name": "stdout",
     "output_type": "stream",
     "text": [
      "          * \n",
      "        * * * \n",
      "      * * * * * \n",
      "    * * * * * * * \n",
      "  * * * * * * * * * \n"
     ]
    }
   ],
   "source": [
    "for i in range(5):\n",
    "    for j in range(i,5):\n",
    "        print(' ',end=' ')\n",
    "    for k in range(0,i+1):\n",
    "        print(\"*\",end=' ')\n",
    "    for l in range(0,i):\n",
    "        print('*',end=' ')\n",
    "    print()    "
   ]
  },
  {
   "cell_type": "code",
   "execution_count": 168,
   "id": "b8dfd10e",
   "metadata": {},
   "outputs": [
    {
     "name": "stdout",
     "output_type": "stream",
     "text": [
      "          * \n",
      "        * * * \n",
      "      * * * * * \n",
      "    * * * * * * * \n",
      "  * * * * * * * * * \n"
     ]
    }
   ],
   "source": [
    "for i in range(5):\n",
    "    for j in range(i,5):\n",
    "        print(\" \",end= \" \")\n",
    "    for k in range (0,i+1):\n",
    "        print(\"*\",end= \" \")\n",
    "    for l in range (0,i):\n",
    "        print(\"*\",end=\" \")\n",
    "    print()   \n",
    "    "
   ]
  },
  {
   "cell_type": "code",
   "execution_count": 169,
   "id": "064b2ee7",
   "metadata": {},
   "outputs": [
    {
     "name": "stdout",
     "output_type": "stream",
     "text": [
      "     * \n",
      "    * * * \n",
      "   * * * * * \n",
      "  * * * * * * * \n",
      " * * * * * * * * * \n"
     ]
    }
   ],
   "source": [
    "for i in range(5):\n",
    "    for j in range(i,5):\n",
    "        print(' ',end='')\n",
    "    for k in range(i):\n",
    "        print('*',end=' ')\n",
    "    for l in range(i+1):\n",
    "        print('*',end=\" \")\n",
    "    print()    \n",
    "            "
   ]
  },
  {
   "cell_type": "code",
   "execution_count": 170,
   "id": "072b1f2c",
   "metadata": {},
   "outputs": [
    {
     "name": "stdout",
     "output_type": "stream",
     "text": [
      "     *\n",
      "    **\n",
      "   ***\n",
      "  ****\n",
      " *****\n"
     ]
    }
   ],
   "source": [
    "for i in range(5):\n",
    "    for j in range(i,5):\n",
    "        print(' ',end=\"\")\n",
    "    for k in range(i+1):\n",
    "        print('*',end='')\n",
    "    print()"
   ]
  },
  {
   "cell_type": "code",
   "execution_count": 171,
   "id": "20f3db56",
   "metadata": {},
   "outputs": [
    {
     "name": "stdout",
     "output_type": "stream",
     "text": [
      "* * * * * * \n",
      "* * * * * \n",
      "* * * * \n",
      "* * * \n",
      "* * \n"
     ]
    }
   ],
   "source": [
    "for i in range (5):\n",
    "    for j in range(i-5-1):\n",
    "        print(' ',end=' ')\n",
    "    for k in range(5-i+1):\n",
    "        print(\"*\",end=' ')\n",
    "    print()    \n",
    "        "
   ]
  },
  {
   "cell_type": "code",
   "execution_count": 172,
   "id": "f9c39df7",
   "metadata": {},
   "outputs": [
    {
     "name": "stdout",
     "output_type": "stream",
     "text": [
      " ****\n",
      "  ***\n",
      "   **\n",
      "    *\n",
      "     \n"
     ]
    }
   ],
   "source": [
    "for i in range(5):\n",
    "    for j in range(0,i+1):\n",
    "        print(' ',end='')\n",
    "    for k in range(i,5-1):\n",
    "        print('*',end='')\n",
    "    print()\n",
    "    "
   ]
  },
  {
   "cell_type": "code",
   "execution_count": 173,
   "id": "c0916f14",
   "metadata": {},
   "outputs": [
    {
     "name": "stdout",
     "output_type": "stream",
     "text": [
      "\n",
      "1\n",
      "22\n",
      "333\n",
      "4444\n"
     ]
    }
   ],
   "source": [
    "for row in range(0,5):\n",
    "    for col in range(0,row):\n",
    "        print(row,end='')\n",
    "    print()   "
   ]
  },
  {
   "cell_type": "code",
   "execution_count": 174,
   "id": "aac1c559",
   "metadata": {},
   "outputs": [
    {
     "name": "stdout",
     "output_type": "stream",
     "text": [
      "\n",
      "*\n",
      "**\n",
      "***\n",
      "****\n"
     ]
    }
   ],
   "source": [
    "for col in range(0,5):\n",
    "    for row in range(0,col):\n",
    "        print(\"*\",end='')\n",
    "    print()   "
   ]
  },
  {
   "cell_type": "code",
   "execution_count": 175,
   "id": "66efc0ef",
   "metadata": {},
   "outputs": [
    {
     "name": "stdout",
     "output_type": "stream",
     "text": [
      "\n",
      "* \n",
      "* * \n",
      "* * * \n",
      "* * * * \n",
      "* * * * * \n",
      "* * * * * * \n",
      "* * * * * * * \n",
      "* * * * * * * * \n",
      "* * * * * * * * * \n",
      "* * * * * * * * * * \n",
      "* * * * * * * * * * * \n",
      "* * * * * * * * * * * * \n",
      "* * * * * * * * * * * * * \n",
      "* * * * * * * * * * * * * * \n"
     ]
    }
   ],
   "source": [
    "for row in range(0,15):\n",
    "    for col in range(0,row):\n",
    "        print(\"*\",end=' ')\n",
    "    print()    \n",
    "        "
   ]
  },
  {
   "cell_type": "code",
   "execution_count": 176,
   "id": "8c0ea3f6",
   "metadata": {},
   "outputs": [
    {
     "ename": "SyntaxError",
     "evalue": "expected ':' (3137477117.py, line 2)",
     "output_type": "error",
     "traceback": [
      "\u001b[1;36m  Input \u001b[1;32mIn [176]\u001b[1;36m\u001b[0m\n\u001b[1;33m    for row in range\u001b[0m\n\u001b[1;37m                    ^\u001b[0m\n\u001b[1;31mSyntaxError\u001b[0m\u001b[1;31m:\u001b[0m expected ':'\n"
     ]
    }
   ],
   "source": [
    "for row in range(0,5):\n",
    "    for row in range"
   ]
  },
  {
   "cell_type": "code",
   "execution_count": 202,
   "id": "68527099",
   "metadata": {},
   "outputs": [
    {
     "name": "stdout",
     "output_type": "stream",
     "text": [
      "1\n",
      "22\n",
      "333\n",
      "4444\n",
      "55555\n",
      "666666\n",
      "7777777\n",
      "88888888\n"
     ]
    }
   ],
   "source": [
    "for i in range(1,9):\n",
    "    for j in range(i):\n",
    "        print(i,end=\"\")\n",
    "    print()    "
   ]
  },
  {
   "cell_type": "code",
   "execution_count": 203,
   "id": "d941ed9f",
   "metadata": {},
   "outputs": [
    {
     "name": "stdout",
     "output_type": "stream",
     "text": [
      "* \n",
      "* * \n",
      "* * * \n",
      "* * * * \n",
      "* * * * * \n"
     ]
    }
   ],
   "source": [
    "for i in range(0,5):\n",
    "    for j in range(0,i+1):\n",
    "        print('*',end=\" \")\n",
    "    print()    "
   ]
  },
  {
   "cell_type": "code",
   "execution_count": 204,
   "id": "6f77f2f9",
   "metadata": {},
   "outputs": [
    {
     "name": "stdout",
     "output_type": "stream",
     "text": [
      "* * * * * \n",
      "* * * * \n",
      "* * * \n",
      "* * \n",
      "* \n"
     ]
    }
   ],
   "source": [
    "for i in range(0,5):\n",
    "    for j in range(0,5-i):\n",
    "        print('*',end=\" \")\n",
    "    print()    "
   ]
  },
  {
   "cell_type": "code",
   "execution_count": 205,
   "id": "618caa53",
   "metadata": {},
   "outputs": [
    {
     "name": "stdout",
     "output_type": "stream",
     "text": [
      "* * * * * \n",
      "* * * * \n",
      "* * * \n",
      "* * \n",
      "* \n"
     ]
    }
   ],
   "source": [
    "for i in range (0,5):\n",
    "    for j in range (i,5):\n",
    "        print(\"* \",end=\"\")\n",
    "    print()     "
   ]
  },
  {
   "cell_type": "code",
   "execution_count": 206,
   "id": "23733ff8",
   "metadata": {},
   "outputs": [
    {
     "name": "stdout",
     "output_type": "stream",
     "text": [
      " *  *  *  *  * \n",
      " *  *  *  *   \n",
      " *  *  *     \n",
      " *  *       \n",
      " *         \n"
     ]
    }
   ],
   "source": [
    "for i in range(0,5):\n",
    "    for j in range(0,5):\n",
    "        if (j>=5-i):\n",
    "            print(\" \",end=\" \")\n",
    "        else:\n",
    "            print(\" *\",end=\" \")\n",
    "    print()       "
   ]
  },
  {
   "cell_type": "code",
   "execution_count": 207,
   "id": "59736eb5",
   "metadata": {},
   "outputs": [
    {
     "name": "stdout",
     "output_type": "stream",
     "text": [
      "1 1 1 1 1 * \n",
      "1 1 1 1 * * \n",
      "1 1 1 * * * \n",
      "1 1 * * * * \n",
      "1 * * * * * \n"
     ]
    }
   ],
   "source": [
    "for i in range (5):\n",
    "    for j in range (i,5):\n",
    "        print(\"1\",end=\" \")\n",
    "    for k in range (i+1):\n",
    "        print(\"*\",end=\" \")\n",
    "    print()   "
   ]
  },
  {
   "cell_type": "code",
   "execution_count": 208,
   "id": "35b12cb6",
   "metadata": {},
   "outputs": [
    {
     "name": "stdout",
     "output_type": "stream",
     "text": [
      "        * \n",
      "      * * \n",
      "    * * * \n",
      "  * * * * \n",
      "* * * * * \n"
     ]
    }
   ],
   "source": [
    "for i in range (0,5):\n",
    "    for j in range (5-i-1):\n",
    "        print(\" \",end=\" \")\n",
    "    for k in range (0,i+1):\n",
    "        print(\"*\",end=\" \")\n",
    "    print()   "
   ]
  },
  {
   "cell_type": "code",
   "execution_count": 209,
   "id": "47719588",
   "metadata": {},
   "outputs": [
    {
     "name": "stdout",
     "output_type": "stream",
     "text": [
      "  * * * * * \n",
      "    * * * * \n",
      "      * * * \n",
      "        * * \n",
      "          * \n"
     ]
    }
   ],
   "source": [
    "\n",
    "for i in range (0,5):\n",
    "    for j in range(0,i+1):\n",
    "        print(' ',end=\" \")\n",
    "    for k in range (i,5):\n",
    "        print(\"*\",end=\" \")\n",
    "    \n",
    "    print()    \n",
    "        "
   ]
  },
  {
   "cell_type": "code",
   "execution_count": 210,
   "id": "211db30b",
   "metadata": {},
   "outputs": [
    {
     "name": "stdout",
     "output_type": "stream",
     "text": [
      "o o o o o * \n",
      "o o o o * * * \n",
      "o o o * * * * * \n",
      "o o * * * * * * * \n",
      "o * * * * * * * * * \n"
     ]
    }
   ],
   "source": [
    "for i in range(0,5):\n",
    "    for j in range(i,5):\n",
    "        print(\"o\",end= \" \")\n",
    "    for j in range (i+1):\n",
    "        print(\"*\",end= \" \")\n",
    "    for l in range (i):\n",
    "        print(\"*\",end=\" \")\n",
    "    print()   "
   ]
  },
  {
   "cell_type": "code",
   "execution_count": 53,
   "id": "91036cb2",
   "metadata": {},
   "outputs": [
    {
     "name": "stdout",
     "output_type": "stream",
     "text": [
      "          * \n",
      "        * * * \n",
      "      * * * * * \n",
      "    * * * * * * * \n",
      "  * * * * * * * * * \n"
     ]
    }
   ],
   "source": [
    "for i in range(0,5):\n",
    "    for j in range(i,5):\n",
    "        print(\" \",end=\" \")\n",
    "    for j in range(i+1):\n",
    "        print(\"*\",end=\" \")\n",
    "    for l in range(i):\n",
    "        print(\"*\",end=\" \")\n",
    "    print()\n",
    "        "
   ]
  },
  {
   "cell_type": "code",
   "execution_count": 54,
   "id": "88bd24e5",
   "metadata": {},
   "outputs": [
    {
     "name": "stdout",
     "output_type": "stream",
     "text": [
      "          * \n",
      "        * * * \n",
      "      * * * * * \n",
      "    * * * * * * * \n",
      "  * * * * * * * * * \n"
     ]
    }
   ],
   "source": [
    "for i in range(0,5):\n",
    "    for j in range(i,5):\n",
    "        print(\" \",end= \" \")\n",
    "    for j in range (i+1):\n",
    "        print(\"*\",end= \" \")\n",
    "    for l in range (i):\n",
    "        print(\"*\",end=\" \")\n",
    "    print()   "
   ]
  },
  {
   "cell_type": "code",
   "execution_count": 212,
   "id": "9761323b",
   "metadata": {},
   "outputs": [
    {
     "name": "stdout",
     "output_type": "stream",
     "text": [
      "A \n",
      "A B \n",
      "A B C \n",
      "A B C D \n",
      "A B C D E \n"
     ]
    }
   ],
   "source": [
    "for i in range (0,5):\n",
    "    for j in range (0,i+1):\n",
    "        print(chr(65+j),end=\" \")\n",
    "    print()    \n",
    "        "
   ]
  },
  {
   "cell_type": "code",
   "execution_count": 50,
   "id": "c04f5d74",
   "metadata": {},
   "outputs": [
    {
     "name": "stdout",
     "output_type": "stream",
     "text": [
      "A \n",
      "A B \n",
      "A B C \n",
      "A B C D \n",
      "A B C D E \n"
     ]
    }
   ],
   "source": [
    "for i in range(0,5):\n",
    "    for j in range(0,i+1):\n",
    "        print(chr(65+j),end=\" \")\n",
    "    print(\"\")    "
   ]
  },
  {
   "cell_type": "code",
   "execution_count": 57,
   "id": "4ebb9817",
   "metadata": {},
   "outputs": [
    {
     "name": "stdout",
     "output_type": "stream",
     "text": [
      "A \n",
      "A B \n",
      "A B C \n",
      "A B C D \n",
      "A B C D E \n"
     ]
    }
   ],
   "source": [
    "for i in range (0,5):\n",
    "    for j in range(0,i+1):\n",
    "        print(chr(65+j),end=\" \")\n",
    "    print(\"\")    "
   ]
  },
  {
   "cell_type": "code",
   "execution_count": 213,
   "id": "58960ee9",
   "metadata": {},
   "outputs": [
    {
     "name": "stdout",
     "output_type": "stream",
     "text": [
      "          A \n",
      "        A B \n",
      "      A B C \n",
      "    A B C D \n",
      "  A B C D E \n"
     ]
    }
   ],
   "source": [
    "for i in range (0,5):\n",
    "    for j in range (i,5):\n",
    "        print(\" \",end=\" \")\n",
    "    for k in range (0,i+1):\n",
    "        print(chr(65+k),end=\" \")\n",
    "    print()   \n",
    "    \n",
    "    \n",
    "    \n",
    "    "
   ]
  },
  {
   "cell_type": "code",
   "execution_count": 214,
   "id": "5da34dad",
   "metadata": {},
   "outputs": [
    {
     "name": "stdout",
     "output_type": "stream",
     "text": [
      "A B C D E \n",
      "B C D E \n",
      "C D E \n",
      "D E \n",
      "E \n"
     ]
    }
   ],
   "source": [
    "for i in range(0,5):\n",
    "    for j in range(i,5):\n",
    "        print(chr(65+j),end=\" \")\n",
    "    print()\n",
    "    "
   ]
  },
  {
   "cell_type": "code",
   "execution_count": 215,
   "id": "caca7d50",
   "metadata": {},
   "outputs": [
    {
     "name": "stdout",
     "output_type": "stream",
     "text": [
      "  A B C D E \n",
      "    B C D E \n",
      "      C D E \n",
      "        D E \n",
      "          E \n"
     ]
    }
   ],
   "source": [
    "for i in range (0,5):\n",
    "    for j in range(0,i+1):\n",
    "        print(' ',end=\" \")\n",
    "    for k in range (i,5):\n",
    "        print(chr(65+k),end=\" \")\n",
    "    print()          \n",
    "    \n",
    "        "
   ]
  },
  {
   "cell_type": "code",
   "execution_count": 216,
   "id": "e1d1b692",
   "metadata": {
    "scrolled": true
   },
   "outputs": [
    {
     "name": "stdout",
     "output_type": "stream",
     "text": [
      "          A \n",
      "        A B A \n",
      "      A B C A B \n",
      "    A B C D A B C \n",
      "  A B C D E A B C D \n"
     ]
    }
   ],
   "source": [
    "for i in range(5):\n",
    "    for j in range(i,5):\n",
    "        print(' ',end=' ')\n",
    "    for k in range(0,i+1):\n",
    "        print(chr(65+k),end=' ')\n",
    "    for l in range(0,i):\n",
    "        print(chr(65+l),end=' ')\n",
    "    print()    "
   ]
  },
  {
   "cell_type": "code",
   "execution_count": 58,
   "id": "858c76f2",
   "metadata": {},
   "outputs": [
    {
     "name": "stdout",
     "output_type": "stream",
     "text": [
      "          A \n",
      "        A B A \n",
      "      A B C A B \n",
      "    A B C D A B C \n",
      "  A B C D E A B C D \n"
     ]
    }
   ],
   "source": [
    "for i in range(0,5):\n",
    "    for j in range(i,5):\n",
    "        print(\" \",end=\" \")\n",
    "    for k in range(0,i+1):\n",
    "        print(chr(65+k),end=\" \")\n",
    "    for l in range(0,i):\n",
    "        print(chr(65+l),end=\" \")\n",
    "    print()    \n",
    "    "
   ]
  },
  {
   "cell_type": "code",
   "execution_count": null,
   "id": "31891c5d",
   "metadata": {},
   "outputs": [],
   "source": [
    "for i in range(0,5):\n",
    "    for j in range(i,5):\n",
    "        print(\" \")"
   ]
  },
  {
   "cell_type": "code",
   "execution_count": 217,
   "id": "3e8640ad",
   "metadata": {},
   "outputs": [
    {
     "name": "stdout",
     "output_type": "stream",
     "text": [
      "    C D             \n",
      "  B C D E           \n",
      "A B C D E F         \n",
      "A B C D E F G       \n",
      "A B C D E F G H     \n"
     ]
    }
   ],
   "source": [
    "for i in range(0,5):\n",
    "    for j in range(0,10):\n",
    "        if(j>=2-i and j<=3+i):\n",
    "            print(chr(65+j),end=' ')\n",
    "        else:\n",
    "            print(\" \",end=\" \")\n",
    "    print()       \n",
    "        "
   ]
  },
  {
   "cell_type": "code",
   "execution_count": 218,
   "id": "0e080152",
   "metadata": {},
   "outputs": [
    {
     "name": "stdout",
     "output_type": "stream",
     "text": [
      "                \n",
      "        *       \n",
      "      * * *     \n",
      "    * * * * *   \n",
      "  * * * * * * * \n"
     ]
    }
   ],
   "source": [
    "for i in range(0,5):\n",
    "    for j in range(0,8):\n",
    "        if (j>=5-i and j<=3+i):\n",
    "            print(\"*\",end=\" \")\n",
    "        else:\n",
    "            print(\" \",end=\" \")\n",
    "    print()\n",
    "            "
   ]
  },
  {
   "cell_type": "code",
   "execution_count": 219,
   "id": "c149f10b",
   "metadata": {},
   "outputs": [
    {
     "name": "stdout",
     "output_type": "stream",
     "text": [
      "A \n",
      "A B \n",
      "A B C \n",
      "A B C D \n",
      "A B C D E \n"
     ]
    }
   ],
   "source": [
    "for i in range(0,5):\n",
    "    for j in range(0,i+1):\n",
    "        print(chr(65+j),end=' ')\n",
    "    print()    "
   ]
  },
  {
   "cell_type": "code",
   "execution_count": 220,
   "id": "be6b5d5e",
   "metadata": {},
   "outputs": [
    {
     "name": "stdout",
     "output_type": "stream",
     "text": [
      "A B C D E \n",
      "B C D E \n",
      "C D E \n",
      "D E \n",
      "E \n"
     ]
    }
   ],
   "source": [
    "for i in range(0,5):\n",
    "    for j in range(i,5):\n",
    "        print(chr(65+j),end=\" \")\n",
    "    print()   "
   ]
  },
  {
   "cell_type": "code",
   "execution_count": 221,
   "id": "0af2e4d8",
   "metadata": {},
   "outputs": [
    {
     "name": "stdout",
     "output_type": "stream",
     "text": [
      "A B C D E \n",
      "A B C D \n",
      "A B C \n",
      "A B \n",
      "A \n"
     ]
    }
   ],
   "source": [
    "for i in range(0,5):\n",
    "    for j in range(5-i):\n",
    "        print(chr(65+j),end=\" \")\n",
    "    print()  \n",
    "    "
   ]
  },
  {
   "cell_type": "code",
   "execution_count": 201,
   "id": "f43351ab",
   "metadata": {},
   "outputs": [
    {
     "name": "stdout",
     "output_type": "stream",
     "text": [
      "          A \n",
      "        A B \n",
      "      A B C \n",
      "    A B C D \n",
      "  A B C D E \n"
     ]
    }
   ],
   "source": [
    "for i in range(0,5):\n",
    "    for j in range(i,5):\n",
    "        print(\" \",end=\" \")\n",
    "    for k in range(0,i+1):\n",
    "        print(chr(65+k),end=\" \")\n",
    "    print()    "
   ]
  },
  {
   "cell_type": "code",
   "execution_count": 223,
   "id": "c0714f83",
   "metadata": {},
   "outputs": [
    {
     "name": "stdout",
     "output_type": "stream",
     "text": [
      "          A \n",
      "        A B \n",
      "      A B C \n",
      "    A B C D \n",
      "  A B C D E \n"
     ]
    }
   ],
   "source": [
    "for i in range(0,5):\n",
    "    for j in range(i,5):\n",
    "        print(\" \",end=\" \")\n",
    "    for k in range(0,i+1):\n",
    "        print(chr(65+k),end=\" \")\n",
    "    print()    "
   ]
  },
  {
   "cell_type": "code",
   "execution_count": 222,
   "id": "cf3c3e56",
   "metadata": {},
   "outputs": [
    {
     "name": "stdout",
     "output_type": "stream",
     "text": [
      "A B C D E \n",
      "B C D E \n",
      "C D E \n",
      "D E \n",
      "E \n"
     ]
    }
   ],
   "source": [
    "for i in range(0,5):\n",
    "    for j in range(i,5):\n",
    "        if (j>=5-i,j<=3+i):\n",
    "            print(chr(65+j),end=\" \")\n",
    "        else:\n",
    "            print(\" \",end=\" \")\n",
    "    print()   \n",
    "        \n",
    "        \n",
    "        "
   ]
  },
  {
   "cell_type": "code",
   "execution_count": 224,
   "id": "2fbfd08f",
   "metadata": {},
   "outputs": [
    {
     "name": "stdout",
     "output_type": "stream",
     "text": [
      "          A \n",
      "        A B A \n",
      "      A B C A B \n",
      "    A B C D A B C \n",
      "  A B C D E A B C D \n"
     ]
    }
   ],
   "source": [
    "for i in range(0,5):\n",
    "    for j in range(i,5):\n",
    "        print(\" \",end=\" \")\n",
    "    for k in range(0,i+1):\n",
    "        print(chr(65+k),end=\" \")\n",
    "    for l in range(0,i):\n",
    "        print(chr(65+l),end=\" \")\n",
    "    print()    \n",
    "        "
   ]
  },
  {
   "cell_type": "code",
   "execution_count": 225,
   "id": "ef35ea1d",
   "metadata": {},
   "outputs": [
    {
     "name": "stdout",
     "output_type": "stream",
     "text": [
      "  A B C D E \n",
      "    B C D E \n",
      "      C D E \n",
      "        D E \n",
      "          E \n"
     ]
    }
   ],
   "source": [
    "for i in range(0,5):\n",
    "    for j in range(0,i+1):\n",
    "        print(\" \",end=\" \")\n",
    "    for k in range(i,5):\n",
    "        print(chr(65+k),end=\" \")\n",
    "    print()    "
   ]
  },
  {
   "cell_type": "code",
   "execution_count": 226,
   "id": "d3413f88",
   "metadata": {},
   "outputs": [
    {
     "name": "stdout",
     "output_type": "stream",
     "text": [
      "A B C D E \n",
      "A B C D \n",
      "A B C \n",
      "A B \n",
      "A \n"
     ]
    }
   ],
   "source": [
    "for i in range(0,5):\n",
    "    for j in range(5-i):\n",
    "        print(chr(65+j),end=\" \")\n",
    "    print()    "
   ]
  },
  {
   "cell_type": "code",
   "execution_count": 227,
   "id": "a015a656",
   "metadata": {},
   "outputs": [
    {
     "name": "stdout",
     "output_type": "stream",
     "text": [
      "A B C D E F \n",
      "A B C D E \n",
      "A B C D \n",
      "A B C \n",
      "A B \n"
     ]
    }
   ],
   "source": [
    "for i in range(0,5):\n",
    "    for j in range(5-i+1):\n",
    "        print(chr(65+j),end=\" \")\n",
    "    print()    \n"
   ]
  },
  {
   "cell_type": "code",
   "execution_count": 228,
   "id": "a5f342b7",
   "metadata": {},
   "outputs": [
    {
     "name": "stdout",
     "output_type": "stream",
     "text": [
      "1 \n",
      "1 2 \n",
      "1 2 3 \n",
      "1 2 3 4 \n",
      "1 2 3 4 5 \n"
     ]
    }
   ],
   "source": [
    "for i in range(0,5):\n",
    "    for j in range(i+1):\n",
    "        print(int(1+j),end=\" \")\n",
    "    print()    \n",
    "        "
   ]
  },
  {
   "cell_type": "code",
   "execution_count": 229,
   "id": "2c43afc2",
   "metadata": {},
   "outputs": [
    {
     "name": "stdout",
     "output_type": "stream",
     "text": [
      "\n",
      "\n",
      "\n",
      "\n",
      "\n",
      "\n",
      "E F \n",
      "D E F G \n",
      "C D E F G H \n",
      "B C D E F G H I \n"
     ]
    }
   ],
   "source": [
    "for i in range(0,10):\n",
    "    for j in range(0,i):\n",
    "        if (j>=10-i):\n",
    "            print(chr(65+j),end=\" \")\n",
    "    print()"
   ]
  },
  {
   "cell_type": "code",
   "execution_count": 230,
   "id": "138dc64c",
   "metadata": {},
   "outputs": [
    {
     "name": "stdout",
     "output_type": "stream",
     "text": [
      "  * * * * * * * * * \n",
      "    * * * * * * * \n",
      "      * * * * * \n",
      "        * * * \n",
      "          * \n"
     ]
    }
   ],
   "source": [
    "for i in range(0,5):\n",
    "    for j in range(i+1):\n",
    "        print(\" \",end=\" \")\n",
    "    for k in range(i,5):\n",
    "        print(\"*\",end=\" \")\n",
    "    for l in range(i,5-1):\n",
    "        print(\"*\",end=\" \")\n",
    "    print()"
   ]
  },
  {
   "cell_type": "code",
   "execution_count": 231,
   "id": "9beb4922",
   "metadata": {},
   "outputs": [
    {
     "name": "stdout",
     "output_type": "stream",
     "text": [
      "*           * * * * * \n",
      "* *         * * * * \n",
      "* * *       * * * \n",
      "* * * *     * * \n",
      "* * * * *   * \n"
     ]
    }
   ],
   "source": [
    "for i in range(0,5):\n",
    "    for j in range(i+1):\n",
    "        print(\"*\",end=\" \")\n",
    "    for k in range(i,5):\n",
    "        print(\" \",end=\" \")\n",
    "    for l in range(i,5):\n",
    "        print(\"*\",end=\" \")\n",
    "    print()    "
   ]
  },
  {
   "cell_type": "code",
   "execution_count": 234,
   "id": "499c111e",
   "metadata": {},
   "outputs": [
    {
     "name": "stdout",
     "output_type": "stream",
     "text": [
      "  * * * * * * * * * \n",
      "    * * * * * * * \n",
      "      * * * * * \n",
      "        * * * \n",
      "          * \n"
     ]
    }
   ],
   "source": [
    "for i in range(0,5):\n",
    "    for j in range(i+1):\n",
    "        print(\" \",end=\" \")\n",
    "    for k in range(i,5):\n",
    "        print(\"*\",end=\" \")\n",
    "    for l in range(i,5-1):\n",
    "        print(\"*\",end=\" \")\n",
    "    \n",
    "    print()        \n",
    "        "
   ]
  },
  {
   "cell_type": "code",
   "execution_count": 233,
   "id": "0dc7787d",
   "metadata": {},
   "outputs": [
    {
     "name": "stdout",
     "output_type": "stream",
     "text": [
      "          * \n",
      "        * * * \n",
      "      * * * * * \n",
      "    * * * * * * * \n",
      "  * * * * * * * * * \n"
     ]
    }
   ],
   "source": [
    "rows_or_colums = 5\n",
    "for i in range(0,rows_or_colums):\n",
    "    spaces = rows_or_colums-i\n",
    "    for j in range(spaces):\n",
    "        print(' ',end = ' ')\n",
    "    for k in range(2*i+1):\n",
    "        print('*',end = ' ')\n",
    "    print()"
   ]
  },
  {
   "cell_type": "code",
   "execution_count": 235,
   "id": "e21d4568",
   "metadata": {},
   "outputs": [
    {
     "name": "stdout",
     "output_type": "stream",
     "text": [
      "    A \n",
      "   B C \n",
      "  D E F \n",
      " G H I J \n"
     ]
    }
   ],
   "source": [
    "alphabets = 65\n",
    "for row in range(1,5):\n",
    "    spaces = 5 - row\n",
    "    for space in range(spaces):\n",
    "        print(\" \",end=\"\")\n",
    "    for character in range(row):\n",
    "        print(chr(alphabets),end=\" \")\n",
    "        alphabets+=1\n",
    "    print()          \n",
    "            "
   ]
  },
  {
   "cell_type": "code",
   "execution_count": 236,
   "id": "495a371f",
   "metadata": {},
   "outputs": [
    {
     "data": {
      "text/plain": [
       "65"
      ]
     },
     "execution_count": 236,
     "metadata": {},
     "output_type": "execute_result"
    }
   ],
   "source": [
    "ord(\"A\")"
   ]
  },
  {
   "cell_type": "code",
   "execution_count": null,
   "id": "1a7e05ad",
   "metadata": {},
   "outputs": [],
   "source": [
    "chr(65)"
   ]
  },
  {
   "cell_type": "code",
   "execution_count": 237,
   "id": "9b0cc548",
   "metadata": {},
   "outputs": [
    {
     "name": "stdout",
     "output_type": "stream",
     "text": [
      "* \n",
      "* * \n",
      "* * * \n",
      "* * * * \n",
      "* * * * * \n",
      "* * * * * * \n"
     ]
    }
   ],
   "source": [
    "for row in range(0,6):\n",
    "    for col in range(row+1):\n",
    "        print(\"*\",end=\" \")\n",
    "    print()    "
   ]
  },
  {
   "cell_type": "code",
   "execution_count": 238,
   "id": "c315bc21",
   "metadata": {},
   "outputs": [
    {
     "name": "stdout",
     "output_type": "stream",
     "text": [
      "          * \n",
      "        * * \n",
      "      * * * \n",
      "    * * * * \n",
      "  * * * * * \n",
      "* * * * * * \n"
     ]
    }
   ],
   "source": [
    "for row in range(0,6):\n",
    "    for col in range(row,5):\n",
    "        print(\" \",end=\" \")\n",
    "    for row in range(row+1):\n",
    "        print(\"*\",end=\" \")\n",
    "    print()    \n",
    "    \n",
    "       "
   ]
  },
  {
   "cell_type": "code",
   "execution_count": 239,
   "id": "8e9d320b",
   "metadata": {},
   "outputs": [
    {
     "name": "stdout",
     "output_type": "stream",
     "text": [
      "  * \n",
      "  * * \n",
      "  * * * \n",
      "  * * * * \n",
      "  * * * * * \n",
      "  * * * * * * \n"
     ]
    }
   ],
   "source": [
    "for row in range(0,6):\n",
    "    space=row-5\n",
    "    for space in range(spaces):\n",
    "        print(\" \",end=\" \")\n",
    "    for col in range(row+1):\n",
    "        print(\"*\",end=\" \")\n",
    "    print()       \n",
    "        "
   ]
  },
  {
   "cell_type": "code",
   "execution_count": 240,
   "id": "9d8d6883",
   "metadata": {},
   "outputs": [
    {
     "name": "stdout",
     "output_type": "stream",
     "text": [
      "please enter the number5\n",
      "rows or colums?rows\n",
      "* \n",
      "* * \n",
      "* * * \n",
      "* * * * \n",
      "* * * * * \n"
     ]
    }
   ],
   "source": [
    "def filt(user_input,rows_or_colums):\n",
    "    for i in range(0,5):\n",
    "        for j in range(0,i+1):\n",
    "            print(\"*\",end=\" \")\n",
    "        print()    \n",
    "user_input= int(input(\"please enter the number\"))\n",
    "rows_or_colums =input(\"rows or colums?\")\n",
    "\n",
    "filt(user_input,rows_or_colums)"
   ]
  },
  {
   "cell_type": "code",
   "execution_count": 241,
   "id": "75b6e95d",
   "metadata": {},
   "outputs": [
    {
     "name": "stdout",
     "output_type": "stream",
     "text": [
      "please enter the number5\n",
      "rows or colums?rows\n",
      "* * * * * \n",
      "* * * * \n",
      "* * * \n",
      "* * \n",
      "* \n"
     ]
    }
   ],
   "source": [
    "def filt(user_input,rows_or_colums):\n",
    "    for i in range(0,5):\n",
    "        for j in range(5-i):\n",
    "            print(\"*\",end=\" \")\n",
    "        print()\n",
    "user_input = int(input(\"please enter the number\"))\n",
    "rows_or_columms = input(\"rows or colums?\")\n",
    "\n",
    "filt(user_input,rows_or_colums)"
   ]
  },
  {
   "cell_type": "code",
   "execution_count": 242,
   "id": "70f3b43c",
   "metadata": {},
   "outputs": [
    {
     "name": "stdout",
     "output_type": "stream",
     "text": [
      "please enter the number5\n",
      "rows or colums?rows\n",
      "          * \n",
      "        * * \n",
      "      * * * \n",
      "    * * * * \n",
      "  * * * * * \n"
     ]
    }
   ],
   "source": [
    "def filt(user_input,rows_or_colums):\n",
    "    for i in range(0,5):\n",
    "        for j in range(i,5):\n",
    "            print(\" \",end=\" \")\n",
    "        for k in range(0,i+1):\n",
    "            print(\"*\",end=\" \")\n",
    "        print()\n",
    "user_input =int(input(\"please enter the number\"))\n",
    "rows_or_colums = input(\"rows or colums?\")\n",
    "filt(user_input,rows_or_colums)\n",
    "        \n",
    "    "
   ]
  },
  {
   "cell_type": "code",
   "execution_count": 243,
   "id": "07b6ded7",
   "metadata": {},
   "outputs": [
    {
     "name": "stdout",
     "output_type": "stream",
     "text": [
      "please enter the number5\n",
      "rows or colums?rows\n",
      "  * * * * * \n",
      "    * * * * \n",
      "      * * * \n",
      "        * * \n",
      "          * \n"
     ]
    }
   ],
   "source": [
    "def filt(user_input,rows_or_colums):\n",
    "    for i in range(0,5):\n",
    "        for j in range(0,i+1):\n",
    "            print(\" \",end=\" \")\n",
    "        for k in range(i,5):\n",
    "            print(\"*\",end=\" \")\n",
    "        print()\n",
    "user_input= int(input(\"please enter the number\"))\n",
    "rows_or_colums =input(\"rows or colums?\")\n",
    "filt(user_input,rows_or_colums)\n",
    "       "
   ]
  },
  {
   "cell_type": "code",
   "execution_count": 244,
   "id": "7cbf58e2",
   "metadata": {},
   "outputs": [
    {
     "name": "stdout",
     "output_type": "stream",
     "text": [
      "rows or colums?5\n",
      "          * \n",
      "        * * * \n",
      "      * * * * * \n",
      "    * * * * * * * \n",
      "  * * * * * * * * * \n"
     ]
    }
   ],
   "source": [
    "def filt(rows_or_colums):\n",
    "    for i in range(0,rows_or_colums):\n",
    "        spaces = rows_or_colums-i\n",
    "        for j in range(spaces):\n",
    "            print(' ',end = ' ')\n",
    "        for k in range (2*i+1):\n",
    "            print('*',end = ' ')\n",
    "        print()\n",
    "rows_or_colums = int(input(\"rows or colums?\"))\n",
    "filt(rows_or_colums)"
   ]
  },
  {
   "cell_type": "code",
   "execution_count": 187,
   "id": "37944d6f",
   "metadata": {},
   "outputs": [
    {
     "ename": "NameError",
     "evalue": "name 'iterable_object' is not defined",
     "output_type": "error",
     "traceback": [
      "\u001b[1;31m---------------------------------------------------------------------------\u001b[0m",
      "\u001b[1;31mNameError\u001b[0m                                 Traceback (most recent call last)",
      "Input \u001b[1;32mIn [187]\u001b[0m, in \u001b[0;36m<cell line: 1>\u001b[1;34m()\u001b[0m\n\u001b[1;32m----> 1\u001b[0m \u001b[38;5;28mfilter\u001b[39m(function,\u001b[43miterable_object\u001b[49m)\n\u001b[0;32m      2\u001b[0m \u001b[38;5;28mmap\u001b[39m(function,iterable_object)\n\u001b[0;32m      3\u001b[0m \u001b[38;5;28;01mimport\u001b[39;00m \u001b[38;5;21;01mfunctool\u001b[39;00m\n",
      "\u001b[1;31mNameError\u001b[0m: name 'iterable_object' is not defined"
     ]
    }
   ],
   "source": [
    "filter(function,iterable_object)\n",
    "map(function,iterable_object)\n",
    "import functool\n"
   ]
  },
  {
   "cell_type": "code",
   "execution_count": 190,
   "id": "743f9398",
   "metadata": {},
   "outputs": [],
   "source": [
    "# num = list(range(1,21))"
   ]
  },
  {
   "cell_type": "code",
   "execution_count": 262,
   "id": "e189e5f6",
   "metadata": {},
   "outputs": [
    {
     "ename": "TypeError",
     "evalue": "'list' object is not callable",
     "output_type": "error",
     "traceback": [
      "\u001b[1;31m---------------------------------------------------------------------------\u001b[0m",
      "\u001b[1;31mTypeError\u001b[0m                                 Traceback (most recent call last)",
      "Input \u001b[1;32mIn [262]\u001b[0m, in \u001b[0;36m<cell line: 1>\u001b[1;34m()\u001b[0m\n\u001b[1;32m----> 1\u001b[0m even_num \u001b[38;5;241m=\u001b[39m \u001b[38;5;28;43mlist\u001b[39;49m\u001b[43m(\u001b[49m\u001b[38;5;28;43mfilter\u001b[39;49m\u001b[43m(\u001b[49m\u001b[38;5;28;43;01mlambda\u001b[39;49;00m\u001b[43m \u001b[49m\u001b[43mx\u001b[49m\u001b[43m \u001b[49m\u001b[43m:\u001b[49m\u001b[43m \u001b[49m\u001b[43mx\u001b[49m\u001b[38;5;241;43m%\u001b[39;49m\u001b[38;5;241;43m2\u001b[39;49m\u001b[38;5;241;43m==\u001b[39;49m\u001b[38;5;241;43m0\u001b[39;49m\u001b[43m,\u001b[49m\u001b[43mnum\u001b[49m\u001b[43m)\u001b[49m\u001b[43m)\u001b[49m\n",
      "\u001b[1;31mTypeError\u001b[0m: 'list' object is not callable"
     ]
    }
   ],
   "source": [
    "even_num = list(filter(lambda x : x%2==0,num))\n"
   ]
  },
  {
   "cell_type": "code",
   "execution_count": 245,
   "id": "f16fa8f3",
   "metadata": {},
   "outputs": [
    {
     "data": {
      "text/plain": [
       "[2, 4, 6, 8, 10, 12, 14, 16, 18, 20]"
      ]
     },
     "execution_count": 245,
     "metadata": {},
     "output_type": "execute_result"
    }
   ],
   "source": [
    "even_num"
   ]
  },
  {
   "cell_type": "code",
   "execution_count": 246,
   "id": "aa5ba941",
   "metadata": {},
   "outputs": [
    {
     "ename": "TypeError",
     "evalue": "'list' object is not callable",
     "output_type": "error",
     "traceback": [
      "\u001b[1;31m---------------------------------------------------------------------------\u001b[0m",
      "\u001b[1;31mTypeError\u001b[0m                                 Traceback (most recent call last)",
      "Input \u001b[1;32mIn [246]\u001b[0m, in \u001b[0;36m<cell line: 1>\u001b[1;34m()\u001b[0m\n\u001b[1;32m----> 1\u001b[0m num\u001b[38;5;241m=\u001b[39m \u001b[38;5;28;43mlist\u001b[39;49m\u001b[43m(\u001b[49m\u001b[38;5;28;43mrange\u001b[39;49m\u001b[43m(\u001b[49m\u001b[38;5;241;43m1\u001b[39;49m\u001b[43m,\u001b[49m\u001b[38;5;241;43m20\u001b[39;49m\u001b[43m)\u001b[49m\u001b[43m)\u001b[49m\n",
      "\u001b[1;31mTypeError\u001b[0m: 'list' object is not callable"
     ]
    }
   ],
   "source": [
    "num= list(range(1,20))\n"
   ]
  },
  {
   "cell_type": "code",
   "execution_count": null,
   "id": "aa729769",
   "metadata": {},
   "outputs": [],
   "source": [
    "odd_num = list(filter(lambda x: x%2!=0,num))\n"
   ]
  },
  {
   "cell_type": "code",
   "execution_count": null,
   "id": "6bb72634",
   "metadata": {},
   "outputs": [],
   "source": [
    "odd_num"
   ]
  },
  {
   "cell_type": "code",
   "execution_count": 248,
   "id": "9d4c948b",
   "metadata": {},
   "outputs": [
    {
     "ename": "TypeError",
     "evalue": "'list' object is not callable",
     "output_type": "error",
     "traceback": [
      "\u001b[1;31m---------------------------------------------------------------------------\u001b[0m",
      "\u001b[1;31mTypeError\u001b[0m                                 Traceback (most recent call last)",
      "Input \u001b[1;32mIn [248]\u001b[0m, in \u001b[0;36m<cell line: 1>\u001b[1;34m()\u001b[0m\n\u001b[1;32m----> 1\u001b[0m num \u001b[38;5;241m=\u001b[39m \u001b[38;5;28;43mlist\u001b[39;49m\u001b[43m(\u001b[49m\u001b[38;5;28;43mrange\u001b[39;49m\u001b[43m(\u001b[49m\u001b[38;5;241;43m1\u001b[39;49m\u001b[43m,\u001b[49m\u001b[38;5;241;43m21\u001b[39;49m\u001b[43m)\u001b[49m\u001b[43m)\u001b[49m\n\u001b[0;32m      2\u001b[0m even_num \u001b[38;5;241m=\u001b[39m \u001b[38;5;28mlist\u001b[39m(\u001b[38;5;28mfilter\u001b[39m(\u001b[38;5;28;01mlambda\u001b[39;00m x : x\u001b[38;5;241m%\u001b[39m\u001b[38;5;241m2\u001b[39m\u001b[38;5;241m==\u001b[39m\u001b[38;5;241m0\u001b[39m,num))\n\u001b[0;32m      3\u001b[0m \u001b[38;5;28mprint\u001b[39m(even_num)\n",
      "\u001b[1;31mTypeError\u001b[0m: 'list' object is not callable"
     ]
    }
   ],
   "source": [
    "num = list(range(1,21))\n",
    "even_num = list(filter(lambda x : x%2==0,num))\n",
    "print(even_num)"
   ]
  },
  {
   "cell_type": "code",
   "execution_count": 249,
   "id": "b5ab9de2",
   "metadata": {},
   "outputs": [
    {
     "name": "stdout",
     "output_type": "stream",
     "text": [
      "[2, 4, 6, 8, 10, 12, 14, 16, 18, 20]\n"
     ]
    },
    {
     "ename": "TypeError",
     "evalue": "'list' object is not callable",
     "output_type": "error",
     "traceback": [
      "\u001b[1;31m---------------------------------------------------------------------------\u001b[0m",
      "\u001b[1;31mTypeError\u001b[0m                                 Traceback (most recent call last)",
      "Input \u001b[1;32mIn [249]\u001b[0m, in \u001b[0;36m<cell line: 5>\u001b[1;34m()\u001b[0m\n\u001b[0;32m      3\u001b[0m         even_num \u001b[38;5;241m=\u001b[39m\u001b[38;5;28mlist\u001b[39m(\u001b[38;5;28mfilter\u001b[39m(\u001b[38;5;28;01mlambda\u001b[39;00m x: x\u001b[38;5;241m%\u001b[39m\u001b[38;5;241m2\u001b[39m\u001b[38;5;241m==\u001b[39m\u001b[38;5;241m0\u001b[39m,num))\n\u001b[0;32m      4\u001b[0m \u001b[38;5;28mprint\u001b[39m(even_num)\n\u001b[1;32m----> 5\u001b[0m \u001b[43mfunction\u001b[49m\u001b[43m(\u001b[49m\u001b[43m)\u001b[49m\n",
      "Input \u001b[1;32mIn [249]\u001b[0m, in \u001b[0;36mfunction\u001b[1;34m()\u001b[0m\n\u001b[0;32m      1\u001b[0m \u001b[38;5;28;01mdef\u001b[39;00m \u001b[38;5;21mfunction\u001b[39m():\n\u001b[1;32m----> 2\u001b[0m         num \u001b[38;5;241m=\u001b[39m \u001b[38;5;28;43mlist\u001b[39;49m\u001b[43m(\u001b[49m\u001b[38;5;28;43mrange\u001b[39;49m\u001b[43m(\u001b[49m\u001b[38;5;241;43m1\u001b[39;49m\u001b[43m,\u001b[49m\u001b[38;5;241;43m30\u001b[39;49m\u001b[43m)\u001b[49m\u001b[43m)\u001b[49m\n\u001b[0;32m      3\u001b[0m         even_num \u001b[38;5;241m=\u001b[39m\u001b[38;5;28mlist\u001b[39m(\u001b[38;5;28mfilter\u001b[39m(\u001b[38;5;28;01mlambda\u001b[39;00m x: x\u001b[38;5;241m%\u001b[39m\u001b[38;5;241m2\u001b[39m\u001b[38;5;241m==\u001b[39m\u001b[38;5;241m0\u001b[39m,num))\n",
      "\u001b[1;31mTypeError\u001b[0m: 'list' object is not callable"
     ]
    }
   ],
   "source": [
    "def function():\n",
    "        num = list(range(1,30))\n",
    "        even_num =list(filter(lambda x: x%2==0,num))\n",
    "print(even_num)\n",
    "function()\n",
    "\n",
    "    \n",
    "    "
   ]
  },
  {
   "cell_type": "code",
   "execution_count": 266,
   "id": "33b9a9ec",
   "metadata": {},
   "outputs": [
    {
     "name": "stdout",
     "output_type": "stream",
     "text": [
      "[1, 3, 5, 7, 9, 11, 13, 15, 17, 19]\n"
     ]
    },
    {
     "ename": "TypeError",
     "evalue": "'list' object is not callable",
     "output_type": "error",
     "traceback": [
      "\u001b[1;31m---------------------------------------------------------------------------\u001b[0m",
      "\u001b[1;31mTypeError\u001b[0m                                 Traceback (most recent call last)",
      "Input \u001b[1;32mIn [266]\u001b[0m, in \u001b[0;36m<cell line: 5>\u001b[1;34m()\u001b[0m\n\u001b[0;32m      3\u001b[0m     odd_num \u001b[38;5;241m=\u001b[39m \u001b[38;5;28mlist\u001b[39m(\u001b[38;5;28mfilter\u001b[39m(\u001b[38;5;28;01mlambda\u001b[39;00m x: x\u001b[38;5;241m%\u001b[39m\u001b[38;5;241m2\u001b[39m\u001b[38;5;241m!=\u001b[39m\u001b[38;5;241m0\u001b[39m,num))\n\u001b[0;32m      4\u001b[0m \u001b[38;5;28mprint\u001b[39m(odd_num)\n\u001b[1;32m----> 5\u001b[0m \u001b[43mfunction\u001b[49m\u001b[43m(\u001b[49m\u001b[43m)\u001b[49m\n",
      "Input \u001b[1;32mIn [266]\u001b[0m, in \u001b[0;36mfunction\u001b[1;34m()\u001b[0m\n\u001b[0;32m      1\u001b[0m \u001b[38;5;28;01mdef\u001b[39;00m \u001b[38;5;21mfunction\u001b[39m():\n\u001b[1;32m----> 2\u001b[0m     num \u001b[38;5;241m=\u001b[39m \u001b[38;5;28;43mlist\u001b[39;49m\u001b[43m(\u001b[49m\u001b[38;5;28;43mrange\u001b[39;49m\u001b[43m(\u001b[49m\u001b[38;5;241;43m1\u001b[39;49m\u001b[43m,\u001b[49m\u001b[38;5;241;43m20\u001b[39;49m\u001b[43m)\u001b[49m\u001b[43m)\u001b[49m\n\u001b[0;32m      3\u001b[0m     odd_num \u001b[38;5;241m=\u001b[39m \u001b[38;5;28mlist\u001b[39m(\u001b[38;5;28mfilter\u001b[39m(\u001b[38;5;28;01mlambda\u001b[39;00m x: x\u001b[38;5;241m%\u001b[39m\u001b[38;5;241m2\u001b[39m\u001b[38;5;241m!=\u001b[39m\u001b[38;5;241m0\u001b[39m,num))\n",
      "\u001b[1;31mTypeError\u001b[0m: 'list' object is not callable"
     ]
    }
   ],
   "source": [
    "def function():\n",
    "    num = list(range(1,20))\n",
    "    odd_num = list(filter(lambda x: x%2!=0,num))\n",
    "print(odd_num)\n",
    "function()\n",
    "\n",
    "\n"
   ]
  },
  {
   "cell_type": "code",
   "execution_count": 252,
   "id": "c5affe49",
   "metadata": {},
   "outputs": [],
   "source": [
    "def function():\n",
    "    num = list(range(1,40))\n",
    "    even_num =list(filter)"
   ]
  },
  {
   "cell_type": "code",
   "execution_count": 253,
   "id": "a5bcc576",
   "metadata": {},
   "outputs": [],
   "source": [
    "def function():\n",
    "    num =list(range)\n",
    "    "
   ]
  },
  {
   "cell_type": "code",
   "execution_count": null,
   "id": "b31896a9",
   "metadata": {},
   "outputs": [],
   "source": []
  },
  {
   "cell_type": "code",
   "execution_count": 254,
   "id": "f3ebe002",
   "metadata": {},
   "outputs": [],
   "source": [
    "random = [chr(i) for i in range(65,91)]"
   ]
  },
  {
   "cell_type": "code",
   "execution_count": 255,
   "id": "8ad96949",
   "metadata": {},
   "outputs": [
    {
     "ename": "TypeError",
     "evalue": "'list' object is not callable",
     "output_type": "error",
     "traceback": [
      "\u001b[1;31m---------------------------------------------------------------------------\u001b[0m",
      "\u001b[1;31mTypeError\u001b[0m                                 Traceback (most recent call last)",
      "Input \u001b[1;32mIn [255]\u001b[0m, in \u001b[0;36m<cell line: 1>\u001b[1;34m()\u001b[0m\n\u001b[1;32m----> 1\u001b[0m random_map \u001b[38;5;241m=\u001b[39m \u001b[38;5;28;43mlist\u001b[39;49m\u001b[43m(\u001b[49m\u001b[38;5;28;43mmap\u001b[39;49m\u001b[43m(\u001b[49m\u001b[38;5;28;43;01mlambda\u001b[39;49;00m\u001b[43m \u001b[49m\u001b[43mx\u001b[49m\u001b[43m \u001b[49m\u001b[43m:\u001b[49m\u001b[43m \u001b[49m\u001b[43mx\u001b[49m\u001b[43m \u001b[49m\u001b[38;5;241;43m+\u001b[39;49m\u001b[43m \u001b[49m\u001b[38;5;124;43m\"\u001b[39;49m\u001b[38;5;124;43mC\u001b[39;49m\u001b[38;5;124;43m\"\u001b[39;49m\u001b[43m,\u001b[49m\u001b[43mrandom\u001b[49m\u001b[43m)\u001b[49m\u001b[43m)\u001b[49m\n",
      "\u001b[1;31mTypeError\u001b[0m: 'list' object is not callable"
     ]
    }
   ],
   "source": [
    "random_map = list(map(lambda x : x + \"C\",random))"
   ]
  },
  {
   "cell_type": "code",
   "execution_count": null,
   "id": "53ab45e2",
   "metadata": {},
   "outputs": [],
   "source": [
    "random_map"
   ]
  },
  {
   "cell_type": "code",
   "execution_count": null,
   "id": "503489e0",
   "metadata": {},
   "outputs": [],
   "source": [
    "num = list(range(1,21))"
   ]
  },
  {
   "cell_type": "code",
   "execution_count": null,
   "id": "0417c55d",
   "metadata": {},
   "outputs": [],
   "source": [
    "odd_num =list(filter(lambda x: x%2!=0,num))\n"
   ]
  },
  {
   "cell_type": "code",
   "execution_count": null,
   "id": "c50aca8e",
   "metadata": {},
   "outputs": [],
   "source": [
    "odd_num\n"
   ]
  },
  {
   "cell_type": "code",
   "execution_count": null,
   "id": "cc8021be",
   "metadata": {},
   "outputs": [],
   "source": [
    "random =[chr(i)for i in range(65,91)]\n"
   ]
  },
  {
   "cell_type": "code",
   "execution_count": null,
   "id": "884c8516",
   "metadata": {},
   "outputs": [],
   "source": [
    "random_map = list(map(lambda x : x + \"E\",random ))"
   ]
  },
  {
   "cell_type": "code",
   "execution_count": null,
   "id": "9e8f814e",
   "metadata": {},
   "outputs": [],
   "source": [
    "random_map"
   ]
  },
  {
   "cell_type": "code",
   "execution_count": 200,
   "id": "ae1a8130",
   "metadata": {},
   "outputs": [
    {
     "ename": "TypeError",
     "evalue": "'list' object is not callable",
     "output_type": "error",
     "traceback": [
      "\u001b[1;31m---------------------------------------------------------------------------\u001b[0m",
      "\u001b[1;31mTypeError\u001b[0m                                 Traceback (most recent call last)",
      "Input \u001b[1;32mIn [200]\u001b[0m, in \u001b[0;36m<cell line: 2>\u001b[1;34m()\u001b[0m\n\u001b[0;32m      1\u001b[0m random \u001b[38;5;241m=\u001b[39m[i \u001b[38;5;28;01mfor\u001b[39;00m i \u001b[38;5;129;01min\u001b[39;00m \u001b[38;5;28mrange\u001b[39m(\u001b[38;5;241m0\u001b[39m,\u001b[38;5;241m10\u001b[39m)]\n\u001b[1;32m----> 2\u001b[0m random_map \u001b[38;5;241m=\u001b[39m \u001b[38;5;28;43mlist\u001b[39;49m\u001b[43m(\u001b[49m\u001b[38;5;28;43mmap\u001b[39;49m\u001b[43m(\u001b[49m\u001b[38;5;28;43;01mlambda\u001b[39;49;00m\u001b[43m \u001b[49m\u001b[43mx\u001b[49m\u001b[43m \u001b[49m\u001b[43m:\u001b[49m\u001b[43m \u001b[49m\u001b[43mx\u001b[49m\u001b[38;5;241;43m-\u001b[39;49m\u001b[38;5;241;43m3\u001b[39;49m\u001b[43m \u001b[49m\u001b[43m,\u001b[49m\u001b[43mrandom\u001b[49m\u001b[43m)\u001b[49m\u001b[43m)\u001b[49m\n\u001b[0;32m      3\u001b[0m \u001b[38;5;28mprint\u001b[39m(random_map)\n",
      "\u001b[1;31mTypeError\u001b[0m: 'list' object is not callable"
     ]
    }
   ],
   "source": [
    "random =[i for i in range(0,10)]\n",
    "random_map = list(map(lambda x : x-3 ,random))\n",
    "print(random_map)"
   ]
  },
  {
   "cell_type": "code",
   "execution_count": null,
   "id": "a3ea5a11",
   "metadata": {},
   "outputs": [],
   "source": [
    "random_map"
   ]
  },
  {
   "cell_type": "code",
   "execution_count": null,
   "id": "c95e5c21",
   "metadata": {},
   "outputs": [],
   "source": [
    "num=[1,23,24,58]"
   ]
  },
  {
   "cell_type": "code",
   "execution_count": 4,
   "id": "c7a6c86e",
   "metadata": {},
   "outputs": [
    {
     "name": "stdout",
     "output_type": "stream",
     "text": [
      "120\n"
     ]
    }
   ],
   "source": [
    "import functools\n",
    "list=[1,23,52,44]\n",
    "print(functools.reduce(lambda a, b: a+b, list))\n"
   ]
  },
  {
   "cell_type": "code",
   "execution_count": 5,
   "id": "62f48a16",
   "metadata": {},
   "outputs": [
    {
     "name": "stdout",
     "output_type": "stream",
     "text": [
      "13800\n"
     ]
    }
   ],
   "source": [
    "import functools\n",
    "list=[23,24,25]\n",
    "print(functools.reduce(lambda a,b: a*b,list ))"
   ]
  },
  {
   "cell_type": "code",
   "execution_count": 196,
   "id": "0594f28a",
   "metadata": {},
   "outputs": [
    {
     "name": "stdout",
     "output_type": "stream",
     "text": [
      "2.5\n"
     ]
    }
   ],
   "source": [
    "import functools\n",
    "take_list =[20,40,60,70]\n",
    "print(functools.reduce(lambda a,b: a/2,take_list))"
   ]
  },
  {
   "cell_type": "code",
   "execution_count": 265,
   "id": "95c003aa",
   "metadata": {},
   "outputs": [
    {
     "ename": "TypeError",
     "evalue": "'list' object is not callable",
     "output_type": "error",
     "traceback": [
      "\u001b[1;31m---------------------------------------------------------------------------\u001b[0m",
      "\u001b[1;31mTypeError\u001b[0m                                 Traceback (most recent call last)",
      "Input \u001b[1;32mIn [265]\u001b[0m, in \u001b[0;36m<cell line: 2>\u001b[1;34m()\u001b[0m\n\u001b[0;32m      1\u001b[0m numbers \u001b[38;5;241m=\u001b[39m (\u001b[38;5;28mrange\u001b[39m(\u001b[38;5;241m1\u001b[39m,\u001b[38;5;241m10\u001b[39m))\n\u001b[1;32m----> 2\u001b[0m squared \u001b[38;5;241m=\u001b[39m \u001b[38;5;28;43mlist\u001b[39;49m\u001b[43m(\u001b[49m\u001b[38;5;28;43mmap\u001b[39;49m\u001b[43m(\u001b[49m\u001b[38;5;28;43;01mlambda\u001b[39;49;00m\u001b[43m \u001b[49m\u001b[43mnum\u001b[49m\u001b[43m:\u001b[49m\u001b[43m \u001b[49m\u001b[43mnum\u001b[49m\u001b[43m \u001b[49m\u001b[38;5;241;43m*\u001b[39;49m\u001b[38;5;241;43m*\u001b[39;49m\u001b[43m \u001b[49m\u001b[38;5;241;43m2\u001b[39;49m\u001b[43m,\u001b[49m\u001b[43m \u001b[49m\u001b[43mnumbers\u001b[49m\u001b[43m)\u001b[49m\u001b[43m)\u001b[49m\n\u001b[0;32m      4\u001b[0m \u001b[38;5;28mprint\u001b[39m(squared)\n",
      "\u001b[1;31mTypeError\u001b[0m: 'list' object is not callable"
     ]
    }
   ],
   "source": [
    "numbers = (range(1,10))\n",
    "squared = list(map(lambda num: num ** 2, numbers))\n",
    "\n",
    "print(squared)"
   ]
  },
  {
   "cell_type": "code",
   "execution_count": null,
   "id": "435a1fe5",
   "metadata": {},
   "outputs": [],
   "source": [
    "numbers =list(range(2,30))\n",
    "Divisible =list(map(lambda num: num/2,numbers))\n",
    "\n",
    "print(Divisible)\n"
   ]
  },
  {
   "cell_type": "code",
   "execution_count": null,
   "id": "8208ffe4",
   "metadata": {},
   "outputs": [],
   "source": [
    "num = list(range(1,20))\n",
    "even_num =list(filter(lambda x: x%2==0,num))\n",
    "print(even_num)\n",
    "               \n",
    "        \n"
   ]
  },
  {
   "cell_type": "code",
   "execution_count": null,
   "id": "3cdf153c",
   "metadata": {},
   "outputs": [],
   "source": [
    "# num= list(range(1,30))\n",
    "odd_num = list(filter(lambda x: x%2!=0,num))\n",
    "print(odd_num)"
   ]
  },
  {
   "cell_type": "code",
   "execution_count": 261,
   "id": "4291b41e",
   "metadata": {},
   "outputs": [
    {
     "ename": "SyntaxError",
     "evalue": "invalid syntax (1515931787.py, line 2)",
     "output_type": "error",
     "traceback": [
      "\u001b[1;36m  Input \u001b[1;32mIn [261]\u001b[1;36m\u001b[0m\n\u001b[1;33m    add_num = list(filter(lambda(x: x+=0,num))\u001b[0m\n\u001b[1;37m                                ^\u001b[0m\n\u001b[1;31mSyntaxError\u001b[0m\u001b[1;31m:\u001b[0m invalid syntax\n"
     ]
    }
   ],
   "source": [
    "num= list(range(1,60))\n",
    "add_num = list(filter(lambda(x: x+=0,num))\n",
    "print(add_num)              \n"
   ]
  },
  {
   "cell_type": "code",
   "execution_count": 263,
   "id": "4d2b9729",
   "metadata": {},
   "outputs": [],
   "source": [
    "random =[chr(i)for i in range(65,91)]\n"
   ]
  },
  {
   "cell_type": "code",
   "execution_count": 264,
   "id": "b752f128",
   "metadata": {
    "scrolled": true
   },
   "outputs": [
    {
     "ename": "TypeError",
     "evalue": "'list' object is not callable",
     "output_type": "error",
     "traceback": [
      "\u001b[1;31m---------------------------------------------------------------------------\u001b[0m",
      "\u001b[1;31mTypeError\u001b[0m                                 Traceback (most recent call last)",
      "Input \u001b[1;32mIn [264]\u001b[0m, in \u001b[0;36m<cell line: 1>\u001b[1;34m()\u001b[0m\n\u001b[1;32m----> 1\u001b[0m random_map \u001b[38;5;241m=\u001b[39m \u001b[38;5;28;43mlist\u001b[39;49m\u001b[43m(\u001b[49m\u001b[38;5;28;43mmap\u001b[39;49m\u001b[43m(\u001b[49m\u001b[38;5;28;43;01mlambda\u001b[39;49;00m\u001b[43m \u001b[49m\u001b[43mx\u001b[49m\u001b[43m \u001b[49m\u001b[43m:\u001b[49m\u001b[43m \u001b[49m\u001b[43mx\u001b[49m\u001b[43m \u001b[49m\u001b[38;5;241;43m+\u001b[39;49m\u001b[43m \u001b[49m\u001b[38;5;124;43m\"\u001b[39;49m\u001b[38;5;124;43mE\u001b[39;49m\u001b[38;5;124;43m\"\u001b[39;49m\u001b[43m,\u001b[49m\u001b[43mrandom\u001b[49m\u001b[43m \u001b[49m\u001b[43m)\u001b[49m\u001b[43m)\u001b[49m\n",
      "\u001b[1;31mTypeError\u001b[0m: 'list' object is not callable"
     ]
    }
   ],
   "source": [
    "random_map = list(map(lambda x : x + \"E\",random ))\n"
   ]
  },
  {
   "cell_type": "code",
   "execution_count": null,
   "id": "1de6bacd",
   "metadata": {},
   "outputs": [],
   "source": [
    "random_map = list(map(lambda x: x + \"G\",random)"
   ]
  },
  {
   "cell_type": "code",
   "execution_count": null,
   "id": "d5056348",
   "metadata": {},
   "outputs": [],
   "source": [
    "random_map = [chr]"
   ]
  },
  {
   "cell_type": "code",
   "execution_count": 267,
   "id": "d20b2108",
   "metadata": {},
   "outputs": [
    {
     "ename": "SyntaxError",
     "evalue": "incomplete input (3737197495.py, line 1)",
     "output_type": "error",
     "traceback": [
      "\u001b[1;36m  Input \u001b[1;32mIn [267]\u001b[1;36m\u001b[0m\n\u001b[1;33m    random_map = list(map(lambda x: x + \"G\",random)\u001b[0m\n\u001b[1;37m                                                   ^\u001b[0m\n\u001b[1;31mSyntaxError\u001b[0m\u001b[1;31m:\u001b[0m incomplete input\n"
     ]
    }
   ],
   "source": [
    "random_map = list(map(lambda x: x + \"G\",random)"
   ]
  },
  {
   "cell_type": "code",
   "execution_count": null,
   "id": "3a8619c7",
   "metadata": {},
   "outputs": [],
   "source": [
    "random_map\n"
   ]
  },
  {
   "cell_type": "code",
   "execution_count": null,
   "id": "d11f6ccd",
   "metadata": {},
   "outputs": [],
   "source": [
    "# def func(x):\n",
    "#     if x>=3:\n",
    "#         return x\n",
    "# y = filter(func, (1,2,3,4))  \n",
    "# print(y)\n",
    "# print(list(y))"
   ]
  },
  {
   "cell_type": "code",
   "execution_count": 6,
   "id": "29868c5e",
   "metadata": {},
   "outputs": [],
   "source": [
    "# def func(x):\n",
    "#     if x>=15:\n",
    "#         return x\n",
    "# y = filter(func(1,2,3,4,5,6,7,8,9,10,11,12,13,14,15))"
   ]
  },
  {
   "cell_type": "code",
   "execution_count": 178,
   "id": "1979cd7f",
   "metadata": {},
   "outputs": [
    {
     "name": "stdout",
     "output_type": "stream",
     "text": [
      "(8, 10, 25, 100, 57, 65, 80, 26, 76, 64)\n"
     ]
    }
   ],
   "source": [
    "tup= (5, 7, 22, 97, 54, 62, 77, 23, 73, 61)\n",
    "newtuple = tuple(map(lambda x: x+3 , tup)) \n",
    "print(newtuple)"
   ]
  },
  {
   "cell_type": "code",
   "execution_count": 9,
   "id": "b5f74bd3",
   "metadata": {},
   "outputs": [
    {
     "name": "stdout",
     "output_type": "stream",
     "text": [
      "[27, 30, 31, 30, 28]\n"
     ]
    }
   ],
   "source": [
    "take_list =[22,25,26,25,23]\n",
    "newlist = list(map(lambda x: x+5 ,take_list))\n",
    "print(newlist)"
   ]
  },
  {
   "cell_type": "code",
   "execution_count": 7,
   "id": "1d6d1207",
   "metadata": {},
   "outputs": [
    {
     "name": "stdout",
     "output_type": "stream",
     "text": [
      "['A', 'E', 'I', 'O', 'U']\n",
      "['B', 'C', 'D', 'F', 'G', 'H', 'J', 'K', 'L', 'M', 'N', 'P', 'Q', 'R', 'S', 'T', 'V', 'W', 'X', 'Y', 'Z']\n"
     ]
    }
   ],
   "source": [
    "take_list = [chr(i)  for i in range(65,91)]\n",
    "check_list = [\"A\",\"E\", \"I\",\"O\",\"U\"]\n",
    "vowel =[]\n",
    "consonent =[]\n",
    "for i in take_list:\n",
    "  if i in check_list:\n",
    "     vowel.append(i)\n",
    "  else :\n",
    "    consonent.append(i)\n",
    "print(vowel)\n",
    "print(consonent)\n",
    "\n"
   ]
  },
  {
   "cell_type": "code",
   "execution_count": 8,
   "id": "6ea30c1f",
   "metadata": {},
   "outputs": [
    {
     "name": "stdout",
     "output_type": "stream",
     "text": [
      "['A', 'E', 'I', 'O', 'U']\n",
      "['B', 'C', 'D', 'F', 'G', 'H', 'J', 'K', 'L', 'M', 'N', 'P', 'Q', 'R', 'S', 'T', 'V', 'W', 'X', 'Y', 'Z']\n"
     ]
    }
   ],
   "source": [
    "take_list = [chr(i) for i in range(65,91)]\n",
    "check_list = [\"A\",\"E\",\"I\",\"O\",\"U\"]\n",
    "vowel =[]\n",
    "consonent =[]\n",
    "for i in take_list:\n",
    " if i in check_list:\n",
    "        vowel.append(i)\n",
    " else:\n",
    "    consonent.append(i)\n",
    "print(vowel)\n",
    "print(consonent)\n",
    "        "
   ]
  },
  {
   "cell_type": "code",
   "execution_count": 8,
   "id": "3764c154",
   "metadata": {},
   "outputs": [
    {
     "name": "stdout",
     "output_type": "stream",
     "text": [
      "['A', 'E', 'I', 'O', 'U']\n",
      "['B', 'C', 'D', 'F', 'G', 'H', 'J', 'K', 'L', 'M', 'N', 'P', 'Q', 'R', 'S', 'T', 'V', 'W', 'X', 'Y', 'Z']\n"
     ]
    }
   ],
   "source": [
    "take_list =[chr(i) for i in range(65,91)]\n",
    "check_list = [\"A\",\"E\",\"I\",\"O\",\"U\"]\n",
    "vowel = []\n",
    "consonent = []\n",
    "for i in  take_list:\n",
    " if i in check_list:\n",
    "        vowel.append(i)\n",
    " else: \n",
    "        consonent.append(i)\n",
    "print(vowel)\n",
    "print(consonent)"
   ]
  },
  {
   "cell_type": "code",
   "execution_count": 9,
   "id": "810356f6",
   "metadata": {},
   "outputs": [
    {
     "ename": "SyntaxError",
     "evalue": "invalid syntax (231833593.py, line 4)",
     "output_type": "error",
     "traceback": [
      "\u001b[1;36m  Input \u001b[1;32mIn [9]\u001b[1;36m\u001b[0m\n\u001b[1;33m    for i in range take\u001b[0m\n\u001b[1;37m                   ^\u001b[0m\n\u001b[1;31mSyntaxError\u001b[0m\u001b[1;31m:\u001b[0m invalid syntax\n"
     ]
    }
   ],
   "source": [
    "take_list=[chr(i) for i in range(65,91)]\n",
    "vowel =[]\n",
    "consonent =[]\n",
    "for i in range take_list:\n",
    "    \n",
    "    "
   ]
  },
  {
   "cell_type": "code",
   "execution_count": 11,
   "id": "fbd18271",
   "metadata": {},
   "outputs": [
    {
     "name": "stdout",
     "output_type": "stream",
     "text": [
      "['A', 'E', 'I', 'O', 'U']\n",
      "['B', 'C', 'D', 'F', 'G', 'H', 'J', 'K', 'L', 'M', 'N', 'P', 'Q', 'R', 'S', 'T', 'V', 'W', 'X', 'Y', 'Z']\n"
     ]
    }
   ],
   "source": [
    "take_list =[chr(i) for i in range(65,91)]\n",
    "vowel =[]\n",
    "consonent =[]\n",
    "for i in  take_list:\n",
    "  if i in check_list:\n",
    "    vowel.append(i)\n",
    "  else:\n",
    "    consonent.append(i)\n",
    "print(vowel)\n",
    "print(consonent)\n",
    "    \n",
    "        "
   ]
  },
  {
   "cell_type": "code",
   "execution_count": null,
   "id": "65e83159",
   "metadata": {},
   "outputs": [],
   "source": []
  }
 ],
 "metadata": {
  "kernelspec": {
   "display_name": "Python 3 (ipykernel)",
   "language": "python",
   "name": "python3"
  },
  "language_info": {
   "codemirror_mode": {
    "name": "ipython",
    "version": 3
   },
   "file_extension": ".py",
   "mimetype": "text/x-python",
   "name": "python",
   "nbconvert_exporter": "python",
   "pygments_lexer": "ipython3",
   "version": "3.10.6"
  }
 },
 "nbformat": 4,
 "nbformat_minor": 5
}
