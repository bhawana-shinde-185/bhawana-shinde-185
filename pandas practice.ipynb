{
 "cells": [
  {
   "cell_type": "markdown",
   "id": "101c31a7",
   "metadata": {},
   "source": [
    "# pandas\n"
   ]
  },
  {
   "cell_type": "code",
   "execution_count": 12,
   "id": "c7ba77f3",
   "metadata": {},
   "outputs": [
    {
     "name": "stdout",
     "output_type": "stream",
     "text": [
      "    cars  passings\n",
      "0    BMW         3\n",
      "1  Volvo         7\n",
      "2   Ford         2\n"
     ]
    }
   ],
   "source": [
    "import pandas\n",
    "\n",
    "mydataset = {\n",
    "  'cars': [\"BMW\", \"Volvo\", \"Ford\"],\n",
    "  'passings': [3, 7, 2]\n",
    "}\n",
    "\n",
    "mynew = pandas.DataFrame(mydataset)\n",
    "\n",
    "print(mynew)\n"
   ]
  },
  {
   "cell_type": "code",
   "execution_count": 8,
   "id": "77697ff4",
   "metadata": {},
   "outputs": [
    {
     "name": "stdout",
     "output_type": "stream",
     "text": [
      "     place name\n",
      "0   indore    s\n",
      "1   bhopal    b\n",
      "2  khandwa    a\n"
     ]
    }
   ],
   "source": [
    "import pandas\n",
    "\n",
    "mydataset ={\n",
    "    'place':[\"indore\",\"bhopal\",\"khandwa\"],\n",
    "    'name':['s','b','a']\n",
    "}\n",
    "df = pandas.DataFrame(mydataset)\n",
    "print(df)"
   ]
  },
  {
   "cell_type": "code",
   "execution_count": 9,
   "id": "b87e0a25",
   "metadata": {},
   "outputs": [
    {
     "name": "stdout",
     "output_type": "stream",
     "text": [
      "     name place\n",
      "0  bhopal     a\n",
      "1  indore     b\n",
      "2   nasik     r\n"
     ]
    }
   ],
   "source": [
    "import pandas\n",
    "mydataset ={\n",
    "    'name':['bhopal','indore','nasik'],\n",
    "    'place':['a','b','r']\n",
    "}\n",
    "df = pandas.DataFrame(mydataset)\n",
    "print(df)\n",
    "    \n",
    "    "
   ]
  },
  {
   "cell_type": "markdown",
   "id": "67d68345",
   "metadata": {},
   "source": [
    "# Series"
   ]
  },
  {
   "cell_type": "code",
   "execution_count": 6,
   "id": "df487f51",
   "metadata": {},
   "outputs": [
    {
     "name": "stdout",
     "output_type": "stream",
     "text": [
      "0    bhawana\n",
      "1       sonu\n",
      "2     shinde\n",
      "dtype: object\n"
     ]
    }
   ],
   "source": [
    "import pandas as pd\n",
    "a = [\"bhawana\",\"sonu\",\"shinde\"]\n",
    "new =pd.Series(a)\n",
    "print(new)\n"
   ]
  },
  {
   "cell_type": "code",
   "execution_count": 14,
   "id": "f0980c8b",
   "metadata": {},
   "outputs": [
    {
     "name": "stdout",
     "output_type": "stream",
     "text": [
      "7\n"
     ]
    }
   ],
   "source": [
    "import pandas as pd\n",
    "a =[1,7,3]\n",
    "new = pd.Series(a)\n",
    "print(new[1])"
   ]
  },
  {
   "cell_type": "code",
   "execution_count": 7,
   "id": "636a522c",
   "metadata": {},
   "outputs": [
    {
     "name": "stdout",
     "output_type": "stream",
     "text": [
      "0    1\n",
      "1    7\n",
      "2    5\n",
      "3    5\n",
      "dtype: int64\n"
     ]
    }
   ],
   "source": [
    "import pandas as pd\n",
    "b =[1,7,5,5]\n",
    "new = pd.Series(b)\n",
    "print(new)"
   ]
  },
  {
   "cell_type": "markdown",
   "id": "1f427161",
   "metadata": {},
   "source": [
    "# labels"
   ]
  },
  {
   "cell_type": "code",
   "execution_count": 15,
   "id": "f7e09c9c",
   "metadata": {},
   "outputs": [
    {
     "name": "stdout",
     "output_type": "stream",
     "text": [
      "x    1\n",
      "y    7\n",
      "z    2\n",
      "dtype: int64\n"
     ]
    }
   ],
   "source": [
    "import pandas as pd\n",
    "\n",
    "a = [1, 7, 2]\n",
    "\n",
    "mynew = pd.Series(a, index = [\"x\", \"y\", \"z\"])\n",
    "\n",
    "print(mynew)\n"
   ]
  },
  {
   "cell_type": "code",
   "execution_count": 18,
   "id": "8b1f0de0",
   "metadata": {},
   "outputs": [
    {
     "name": "stdout",
     "output_type": "stream",
     "text": [
      "day1    420\n",
      "day2    380\n",
      "dtype: int64\n"
     ]
    }
   ],
   "source": [
    "import pandas as pd\n",
    "\n",
    "calories = {\"day1\": 420, \"day2\": 380, \"day3\": 390}\n",
    "\n",
    "mynew = pd.Series(calories, index = [\"day1\", \"day2\"])\n",
    "\n",
    "print(mynew)\n"
   ]
  },
  {
   "cell_type": "code",
   "execution_count": 19,
   "id": "1611259f",
   "metadata": {},
   "outputs": [
    {
     "name": "stdout",
     "output_type": "stream",
     "text": [
      "   calories  duration\n",
      "0       420        50\n",
      "1       380        40\n",
      "2       390        45\n"
     ]
    }
   ],
   "source": [
    "import pandas as pd\n",
    "\n",
    "data = {\n",
    "  \"calories\": [420, 380, 390],\n",
    "  \"duration\": [50, 40, 45]\n",
    "}\n",
    "\n",
    "mynew = pd.DataFrame(data)\n",
    "\n",
    "print(mynew)\n"
   ]
  },
  {
   "cell_type": "code",
   "execution_count": 11,
   "id": "d1b14ecc",
   "metadata": {},
   "outputs": [
    {
     "name": "stdout",
     "output_type": "stream",
     "text": [
      "   calories  duration\n",
      "0       420        50\n",
      "2       390        45\n"
     ]
    }
   ],
   "source": [
    "import pandas as pd\n",
    "\n",
    "data = {\n",
    "  \"calories\": [420, 380, 390],\n",
    "  \"duration\": [50, 40, 45]\n",
    "}\n",
    "\n",
    "df = pd.DataFrame(data)\n",
    "\n",
    "print(df.loc[[0, 2]])\n"
   ]
  },
  {
   "cell_type": "code",
   "execution_count": null,
   "id": "e2e6f338",
   "metadata": {},
   "outputs": [],
   "source": [
    "import pandas as pd\n",
    "\n",
    "data = {\n",
    "  \"calories\": [420, 380, 390],\n",
    "  \"duration\": [50, 40, 45]\n",
    "}\n",
    "\n",
    "df = pd.DataFrame(data, index = [\"day1\", \"day2\", \"day3\"])\n",
    "\n",
    "print(df) "
   ]
  },
  {
   "cell_type": "code",
   "execution_count": 21,
   "id": "397c01e4",
   "metadata": {},
   "outputs": [
    {
     "name": "stdout",
     "output_type": "stream",
     "text": [
      "        calories  duration\n",
      "first         42         1\n",
      "second        23         2\n",
      "third         25         3\n"
     ]
    }
   ],
   "source": [
    "import pandas as pd\n",
    "data ={\n",
    "    \"calories\":[42,23,25],\n",
    "    \"duration\":[1,2,3]\n",
    "}\n",
    "df =pd.DataFrame(data,index =[\"first\",\"second\",\"third\"])\n",
    "print(df)\n"
   ]
  },
  {
   "cell_type": "code",
   "execution_count": 25,
   "id": "ef2d6e03",
   "metadata": {},
   "outputs": [
    {
     "name": "stdout",
     "output_type": "stream",
     "text": [
      "   calories  duration\n",
      "1        21         2\n",
      "2        23         3\n"
     ]
    }
   ],
   "source": [
    "import pandas as pd\n",
    "data ={\n",
    "    \"calories\":[12,21,23],\n",
    "    \"duration\":[1,2,3]\n",
    "}\n",
    "df = pd.DataFrame(data)\n",
    "print(df.loc[[1,2]])"
   ]
  },
  {
   "cell_type": "code",
   "execution_count": 27,
   "id": "a6ad3fd5",
   "metadata": {},
   "outputs": [
    {
     "name": "stdout",
     "output_type": "stream",
     "text": [
      "0    1\n",
      "1    2\n",
      "2    3\n",
      "3    4\n",
      "4    4\n",
      "dtype: int64\n"
     ]
    }
   ],
   "source": [
    "import pandas as pd \n",
    "data = [1,2,3,4,4]\n",
    "a =pd.Series(data)\n",
    "print(a)"
   ]
  },
  {
   "cell_type": "code",
   "execution_count": 34,
   "id": "96072425",
   "metadata": {},
   "outputs": [
    {
     "name": "stdout",
     "output_type": "stream",
     "text": [
      "       0\n",
      "day1  22\n",
      "day2  25\n",
      "day3  23\n"
     ]
    }
   ],
   "source": [
    "import pandas as pd\n",
    "data1 =[22,25,23]\n",
    "data2 =[12,22,23]\n",
    "df = pd.DataFrame(data1, index=[\"day1\",\"day2\",\"day3\"])\n",
    "print(df)"
   ]
  },
  {
   "cell_type": "code",
   "execution_count": 35,
   "id": "d498e42c",
   "metadata": {},
   "outputs": [
    {
     "name": "stdout",
     "output_type": "stream",
     "text": [
      "    0\n",
      "1  25\n",
      "2  23\n"
     ]
    }
   ],
   "source": [
    "import pandas as pd\n",
    "data=[12,23,41]\n",
    "df =pd.DataFrame(data1)\n",
    "print(df.loc[[1,2]])"
   ]
  },
  {
   "cell_type": "code",
   "execution_count": 1,
   "id": "bde82b11",
   "metadata": {},
   "outputs": [
    {
     "name": "stdout",
     "output_type": "stream",
     "text": [
      "[1, 2, 3]\n"
     ]
    }
   ],
   "source": [
    "import pandas as pd\n",
    "data =[1,2,3]\n",
    "A = pd.Series(data)\n",
    "print(data)"
   ]
  },
  {
   "cell_type": "code",
   "execution_count": 10,
   "id": "88200225",
   "metadata": {},
   "outputs": [
    {
     "ename": "NameError",
     "evalue": "name 'pandas' is not defined",
     "output_type": "error",
     "traceback": [
      "\u001b[1;31m---------------------------------------------------------------------------\u001b[0m",
      "\u001b[1;31mNameError\u001b[0m                                 Traceback (most recent call last)",
      "Input \u001b[1;32mIn [10]\u001b[0m, in \u001b[0;36m<cell line: 6>\u001b[1;34m()\u001b[0m\n\u001b[0;32m      1\u001b[0m \u001b[38;5;28;01mimport\u001b[39;00m \u001b[38;5;21;01mpandas\u001b[39;00m \u001b[38;5;28;01mas\u001b[39;00m \u001b[38;5;21;01mpd\u001b[39;00m\n\u001b[0;32m      2\u001b[0m data \u001b[38;5;241m=\u001b[39m {\n\u001b[0;32m      3\u001b[0m  \u001b[38;5;124m'\u001b[39m\u001b[38;5;124mname\u001b[39m\u001b[38;5;124m'\u001b[39m:[\u001b[38;5;124m\"\u001b[39m\u001b[38;5;124mbhawana\u001b[39m\u001b[38;5;124m\"\u001b[39m,\u001b[38;5;124m\"\u001b[39m\u001b[38;5;124msonu\u001b[39m\u001b[38;5;124m\"\u001b[39m,\u001b[38;5;124m\"\u001b[39m\u001b[38;5;124mjagtap\u001b[39m\u001b[38;5;124m\"\u001b[39m],\n\u001b[0;32m      4\u001b[0m  \u001b[38;5;124m'\u001b[39m\u001b[38;5;124mnumber\u001b[39m\u001b[38;5;124m'\u001b[39m:[\u001b[38;5;241m1\u001b[39m,\u001b[38;5;241m2\u001b[39m,\u001b[38;5;241m3\u001b[39m]\n\u001b[0;32m      5\u001b[0m      }\n\u001b[1;32m----> 6\u001b[0m A\u001b[38;5;241m=\u001b[39m \u001b[43mpandas\u001b[49m\u001b[38;5;241m.\u001b[39mDataFrame(data)\n\u001b[0;32m      7\u001b[0m \u001b[38;5;28mprint\u001b[39m(A)\n",
      "\u001b[1;31mNameError\u001b[0m: name 'pandas' is not defined"
     ]
    }
   ],
   "source": [
    "import pandas as pd\n",
    "data = {\n",
    " 'name':[\"bhawana\",\"sonu\",\"jagtap\"],\n",
    " 'number':[1,2,3]\n",
    "     }\n",
    "A= pandas.DataFrame(data)\n",
    "print(A)\n",
    "\n",
    "\n",
    "\n",
    "    "
   ]
  },
  {
   "cell_type": "code",
   "execution_count": null,
   "id": "f1b18237",
   "metadata": {},
   "outputs": [],
   "source": [
    "import pandas\n",
    "\n",
    "mydataset = {\n",
    "  'cars': [\"BMW\", \"Volvo\", \"Ford\"],\n",
    "  'passings': [3, 7, 2]\n",
    "}\n",
    "\n",
    "mynew = pandas.DataFrame(mydataset)\n",
    "\n",
    "print(mynew)"
   ]
  }
 ],
 "metadata": {
  "kernelspec": {
   "display_name": "Python 3 (ipykernel)",
   "language": "python",
   "name": "python3"
  },
  "language_info": {
   "codemirror_mode": {
    "name": "ipython",
    "version": 3
   },
   "file_extension": ".py",
   "mimetype": "text/x-python",
   "name": "python",
   "nbconvert_exporter": "python",
   "pygments_lexer": "ipython3",
   "version": "3.10.6"
  }
 },
 "nbformat": 4,
 "nbformat_minor": 5
}
