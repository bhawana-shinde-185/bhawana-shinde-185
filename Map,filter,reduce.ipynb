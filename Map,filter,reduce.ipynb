{
 "cells": [
  {
   "cell_type": "code",
   "execution_count": 1,
   "id": "427069a4",
   "metadata": {},
   "outputs": [
    {
     "name": "stdout",
     "output_type": "stream",
     "text": [
      "[-3, -2, -1, 0, 1, 2, 3, 4, 5, 6]\n"
     ]
    }
   ],
   "source": [
    "random =[i for i in range(0,10)]\n",
    "random_map = list(map(lambda x : x-3 ,random))\n",
    "print(random_map)"
   ]
  },
  {
   "cell_type": "code",
   "execution_count": 4,
   "id": "1b9642f1",
   "metadata": {},
   "outputs": [
    {
     "name": "stdout",
     "output_type": "stream",
     "text": [
      "[0, 2, 4, 6, 8, 10, 12, 14, 16, 18]\n"
     ]
    }
   ],
   "source": [
    "num = (range(0,20))\n",
    "even_num = list(filter(lambda x: x%2==0,num))\n",
    "print(even_num)\n",
    "\n"
   ]
  },
  {
   "cell_type": "code",
   "execution_count": 32,
   "id": "541c9fff",
   "metadata": {},
   "outputs": [
    {
     "name": "stdout",
     "output_type": "stream",
     "text": [
      "[1, 3, 5, 7, 9, 11, 13, 15, 17, 19, 21, 23, 25, 27, 29, 31, 33]\n"
     ]
    }
   ],
   "source": [
    "num = (range(0,35))\n",
    "odd_num = list(filter(lambda x: x%2!=0,num))\n",
    "print(odd_num)"
   ]
  },
  {
   "cell_type": "code",
   "execution_count": 10,
   "id": "2f7e361e",
   "metadata": {},
   "outputs": [
    {
     "name": "stdout",
     "output_type": "stream",
     "text": [
      "[2, 3, 4, 5, 6, 7, 8, 9, 10, 11, 12, 13, 14, 15, 16, 17, 18, 19, 20, 21, 22, 23, 24, 25, 26, 27, 28, 29, 30, 31]\n"
     ]
    }
   ],
   "source": [
    "numbers =( i for i in range(0,30))\n",
    "random_numbers= list(map(lambda x: x+2,numbers))\n",
    "print(random_numbers)"
   ]
  },
  {
   "cell_type": "code",
   "execution_count": 6,
   "id": "57f12bed",
   "metadata": {},
   "outputs": [],
   "source": [
    "random =[chr(i)for i in range(65,91)]"
   ]
  },
  {
   "cell_type": "code",
   "execution_count": 7,
   "id": "808947e9",
   "metadata": {},
   "outputs": [],
   "source": [
    "random_map = list(map(lambda x : x + \"E\",random ))"
   ]
  },
  {
   "cell_type": "code",
   "execution_count": 8,
   "id": "f193ad8c",
   "metadata": {},
   "outputs": [
    {
     "data": {
      "text/plain": [
       "['AE',\n",
       " 'BE',\n",
       " 'CE',\n",
       " 'DE',\n",
       " 'EE',\n",
       " 'FE',\n",
       " 'GE',\n",
       " 'HE',\n",
       " 'IE',\n",
       " 'JE',\n",
       " 'KE',\n",
       " 'LE',\n",
       " 'ME',\n",
       " 'NE',\n",
       " 'OE',\n",
       " 'PE',\n",
       " 'QE',\n",
       " 'RE',\n",
       " 'SE',\n",
       " 'TE',\n",
       " 'UE',\n",
       " 'VE',\n",
       " 'WE',\n",
       " 'XE',\n",
       " 'YE',\n",
       " 'ZE']"
      ]
     },
     "execution_count": 8,
     "metadata": {},
     "output_type": "execute_result"
    }
   ],
   "source": [
    "random_map"
   ]
  },
  {
   "cell_type": "code",
   "execution_count": 9,
   "id": "1c0a45ea",
   "metadata": {
    "scrolled": true
   },
   "outputs": [
    {
     "name": "stdout",
     "output_type": "stream",
     "text": [
      "[-3, -2, -1, 0, 1, 2, 3, 4, 5, 6]\n"
     ]
    }
   ],
   "source": [
    "random =[i for i in range(0,10)]\n",
    "random_map = list(map(lambda x : x-3 ,random))\n",
    "print(random_map)"
   ]
  },
  {
   "cell_type": "code",
   "execution_count": 97,
   "id": "15fbb53c",
   "metadata": {},
   "outputs": [
    {
     "name": "stdout",
     "output_type": "stream",
     "text": [
      "[-5, -4, -3, -2, -1, 0, 1, 2, 3, 4]\n"
     ]
    }
   ],
   "source": [
    "random =[i for i in range(0,10)]\n",
    "random_map = list(map(lambda x : x-5 ,random))\n",
    "print(random_map)\n"
   ]
  },
  {
   "cell_type": "code",
   "execution_count": 13,
   "id": "918d4a92",
   "metadata": {},
   "outputs": [],
   "source": [
    "random = [chr(i) for i in range(65,91)]\n"
   ]
  },
  {
   "cell_type": "code",
   "execution_count": null,
   "id": "47a892d4",
   "metadata": {},
   "outputs": [],
   "source": [
    "random_map = list(map(lambda x : x + \"E\",random ))\n"
   ]
  },
  {
   "cell_type": "code",
   "execution_count": 16,
   "id": "1f779e51",
   "metadata": {},
   "outputs": [
    {
     "data": {
      "text/plain": [
       "['AE',\n",
       " 'BE',\n",
       " 'CE',\n",
       " 'DE',\n",
       " 'EE',\n",
       " 'FE',\n",
       " 'GE',\n",
       " 'HE',\n",
       " 'IE',\n",
       " 'JE',\n",
       " 'KE',\n",
       " 'LE',\n",
       " 'ME',\n",
       " 'NE',\n",
       " 'OE',\n",
       " 'PE',\n",
       " 'QE',\n",
       " 'RE',\n",
       " 'SE',\n",
       " 'TE',\n",
       " 'UE',\n",
       " 'VE',\n",
       " 'WE',\n",
       " 'XE',\n",
       " 'YE',\n",
       " 'ZE']"
      ]
     },
     "execution_count": 16,
     "metadata": {},
     "output_type": "execute_result"
    }
   ],
   "source": [
    "random_map"
   ]
  },
  {
   "cell_type": "code",
   "execution_count": 18,
   "id": "5fa84656",
   "metadata": {},
   "outputs": [
    {
     "name": "stdout",
     "output_type": "stream",
     "text": [
      "[10, 11, 12, 13, 14, 15, 16, 17, 18, 19, 20, 21, 22, 23, 24, 25, 26, 27, 28, 29, 30, 31, 32, 33, 34, 35, 36, 37, 38, 39]\n"
     ]
    }
   ],
   "source": [
    "random =(range(0,30))\n",
    "random_map = list(map(lambda x:x+10,random))\n",
    "print(random_map)"
   ]
  },
  {
   "cell_type": "code",
   "execution_count": 27,
   "id": "b0d4b1d9",
   "metadata": {},
   "outputs": [
    {
     "name": "stdout",
     "output_type": "stream",
     "text": [
      "[0, 2, 4, 6, 8, 10, 12, 14, 16, 18, 20, 22, 24, 26, 28, 30, 32, 34, 36, 38, 40, 42, 44, 46, 48, 50, 52, 54, 56, 58, 60, 62, 64, 66, 68, 70, 72, 74, 76, 78, 80, 82, 84, 86, 88, 90, 92, 94, 96, 98, 100, 102, 104, 106, 108, 110, 112, 114, 116, 118, 120, 122, 124, 126, 128, 130, 132, 134, 136, 138, 140, 142, 144, 146, 148, 150, 152, 154, 156, 158, 160, 162, 164, 166, 168, 170, 172, 174, 176, 178, 180, 182, 184, 186, 188, 190, 192, 194, 196, 198, 200, 202, 204, 206, 208, 210, 212, 214, 216, 218, 220, 222, 224, 226, 228, 230, 232, 234, 236, 238]\n"
     ]
    }
   ],
   "source": [
    "random =(range(0,120))\n",
    "random_map = list(map(lambda x,:x+x,random))\n",
    "print(random_map)\n"
   ]
  },
  {
   "cell_type": "code",
   "execution_count": 36,
   "id": "851ac3e4",
   "metadata": {},
   "outputs": [
    {
     "name": "stdout",
     "output_type": "stream",
     "text": [
      "[0, 2, 4, 6, 8, 10, 12, 14, 16, 18, 20, 22, 24, 26, 28, 30, 32, 34, 36, 38, 40, 42, 44, 46, 48, 50, 52, 54, 56, 58, 60, 62, 64, 66, 68, 70, 72, 74, 76, 78, 80, 82, 84, 86, 88, 90, 92, 94, 96, 98]\n"
     ]
    }
   ],
   "source": [
    "num1=(range(0,50))\n",
    "num2=(range(0,50))\n",
    "check_list=list(map(lambda x,y:x+y,num1,num2))\n",
    "print(check_list)\n",
    "\n"
   ]
  },
  {
   "cell_type": "code",
   "execution_count": 37,
   "id": "db54d704",
   "metadata": {},
   "outputs": [
    {
     "name": "stdout",
     "output_type": "stream",
     "text": [
      "[1, 4, 9, 16, 25, 36, 49, 64, 81]\n"
     ]
    }
   ],
   "source": [
    "numbers = (range(1,10))\n",
    "squared = list(map(lambda num: num ** 2, numbers))\n",
    "\n",
    "print(squared)"
   ]
  },
  {
   "cell_type": "code",
   "execution_count": 38,
   "id": "bc960c0f",
   "metadata": {},
   "outputs": [
    {
     "name": "stdout",
     "output_type": "stream",
     "text": [
      "66\n"
     ]
    }
   ],
   "source": [
    "import functools\n",
    "numbers =(range(0,12))\n",
    "print(functools.reduce(lambda a,b: a+b,numbers))\n",
    "\n"
   ]
  },
  {
   "cell_type": "code",
   "execution_count": 59,
   "id": "8e13031c",
   "metadata": {},
   "outputs": [
    {
     "name": "stdout",
     "output_type": "stream",
     "text": [
      "[0, 2, 4, 6, 8, 10, 12, 14, 16, 18]\n"
     ]
    }
   ],
   "source": [
    "def function():\n",
    "    num = range(0,52)\n",
    "    even_num =list(filter(lambda x:x%2==0,num))\n",
    "print(even_num)\n",
    "function()\n",
    "    "
   ]
  },
  {
   "cell_type": "code",
   "execution_count": 60,
   "id": "19a5eeb1",
   "metadata": {},
   "outputs": [
    {
     "name": "stdout",
     "output_type": "stream",
     "text": [
      "[1, 3, 5, 7, 9, 11, 13, 15, 17, 19, 21, 23, 25, 27, 29, 31, 33]\n"
     ]
    }
   ],
   "source": [
    "def function():\n",
    "    num = (range(1,20))\n",
    "    odd_num = list(filter(lambda x: x%2!=0,num))\n",
    "print(odd_num)\n",
    "function()\n"
   ]
  },
  {
   "cell_type": "code",
   "execution_count": 66,
   "id": "e3eb34f9",
   "metadata": {},
   "outputs": [
    {
     "name": "stdout",
     "output_type": "stream",
     "text": [
      "range(0, 120)\n"
     ]
    }
   ],
   "source": [
    "# def function():\n",
    "#     num = (range(0,30))\n",
    "#     random=list(map(lambda x:x+5,num))\n",
    "# print(random) \n",
    "# function()\n",
    "    \n",
    "    "
   ]
  },
  {
   "cell_type": "code",
   "execution_count": 74,
   "id": "1c68c6cb",
   "metadata": {},
   "outputs": [
    {
     "name": "stdout",
     "output_type": "stream",
     "text": [
      "['AH', 'BH', 'CH', 'DH', 'EH', 'FH', 'GH', 'HH', 'IH', 'JH', 'KH', 'LH', 'MH', 'NH', 'OH', 'PH', 'QH', 'RH', 'SH', 'TH', 'UH', 'VH', 'WH', 'XH', 'YH', 'ZH']\n"
     ]
    }
   ],
   "source": [
    "random = [chr(i) for i in range(65,91)]\n",
    "random = list(map(lambda x: x+\"H\",random))\n",
    "print(random)\n"
   ]
  },
  {
   "cell_type": "code",
   "execution_count": 80,
   "id": "1dd7462d",
   "metadata": {},
   "outputs": [
    {
     "name": "stdout",
     "output_type": "stream",
     "text": [
      "['Aj', 'Bj', 'Cj', 'Dj', 'Ej', 'Fj', 'Gj', 'Hj', 'Ij', 'Jj', 'Kj', 'Lj', 'Mj', 'Nj', 'Oj', 'Pj', 'Qj', 'Rj', 'Sj', 'Tj', 'Uj', 'Vj', 'Wj', 'Xj', 'Yj', 'Zj']\n"
     ]
    }
   ],
   "source": [
    "random = [chr(i)for i in range(65,91)]\n",
    "random_map  = list(map(lambda x: x+\"j\",random))\n",
    "print(random_map) \n"
   ]
  },
  {
   "cell_type": "code",
   "execution_count": 82,
   "id": "e15dba8a",
   "metadata": {},
   "outputs": [
    {
     "name": "stdout",
     "output_type": "stream",
     "text": [
      "['Ak', 'Bk', 'Ck', 'Dk', 'Ek', 'Fk', 'Gk', 'Hk', 'Ik', 'Jk', 'Kk', 'Lk', 'Mk', 'Nk', 'Ok', 'Pk', 'Qk', 'Rk', 'Sk', 'Tk', 'Uk', 'Vk', 'Wk', 'Xk', 'Yk', 'Zk']\n"
     ]
    }
   ],
   "source": [
    "def function():\n",
    "    random = [chr(i)for i in range(65,91)]\n",
    "random_map  = list(map(lambda x: x+\"k\",random))\n",
    "print(random_map)\n",
    "function()\n",
    "\n"
   ]
  },
  {
   "cell_type": "code",
   "execution_count": 84,
   "id": "300fe787",
   "metadata": {},
   "outputs": [
    {
     "name": "stdout",
     "output_type": "stream",
     "text": [
      "['AM', 'BM', 'CM', 'DM', 'EM', 'FM', 'GM', 'HM', 'IM', 'JM', 'KM', 'LM', 'MM', 'NM', 'OM', 'PM', 'QM', 'RM', 'SM', 'TM', 'UM', 'VM', 'WM', 'XM', 'YM', 'ZM']\n"
     ]
    }
   ],
   "source": [
    "def fucntion():\n",
    "    name =range(65,91)\n",
    "random_name =list(map(lambda x: x+\"M\",random)) \n",
    "print(random_name)\n",
    "fucntion()\n",
    "    \n",
    "    "
   ]
  },
  {
   "cell_type": "code",
   "execution_count": 85,
   "id": "05f91a5f",
   "metadata": {},
   "outputs": [],
   "source": [
    "alphabets=[chr(i) for i in range(65,91)]\n",
    "vowels = list(filter(lambda x: x in [\"A\",\"E\",\"I\",\"O\",\"U\"],alphabets))\n",
    "consonent = list(filter(lambda x: x not in [\"A\",\"E\",\"I\",\"O\",\"U\"],alphabets))"
   ]
  },
  {
   "cell_type": "code",
   "execution_count": 86,
   "id": "b354d266",
   "metadata": {},
   "outputs": [
    {
     "name": "stdout",
     "output_type": "stream",
     "text": [
      "['A', 'E', 'I', 'O', 'U']\n"
     ]
    }
   ],
   "source": [
    "print(vowels)\n"
   ]
  },
  {
   "cell_type": "code",
   "execution_count": 87,
   "id": "3347eca4",
   "metadata": {},
   "outputs": [
    {
     "name": "stdout",
     "output_type": "stream",
     "text": [
      "['B', 'C', 'D', 'F', 'G', 'H', 'J', 'K', 'L', 'M', 'N', 'P', 'Q', 'R', 'S', 'T', 'V', 'W', 'X', 'Y', 'Z']\n"
     ]
    }
   ],
   "source": [
    "print(consonent)"
   ]
  },
  {
   "cell_type": "code",
   "execution_count": 89,
   "id": "f88f4970",
   "metadata": {},
   "outputs": [
    {
     "name": "stdout",
     "output_type": "stream",
     "text": [
      "['A', 'E', 'I', 'O', 'U'] ['B', 'C', 'D', 'F', 'G', 'H', 'J', 'K', 'L', 'M', 'N', 'P', 'Q', 'R', 'S', 'T', 'V', 'W', 'X', 'Y', 'Z']\n"
     ]
    }
   ],
   "source": [
    "def function():\n",
    "  alphabets=[chr(i) for i in range(65,91)]\n",
    "vowels = list(filter(lambda x: x in [\"A\",\"E\",\"I\",\"O\",\"U\"],alphabets))\n",
    "consonent = list(filter(lambda x: x not in [\"A\",\"E\",\"I\",\"O\",\"U\"],alphabets))\n",
    "print(vowels,consonent)\n",
    "function()\n"
   ]
  },
  {
   "cell_type": "code",
   "execution_count": 92,
   "id": "cc9193ee",
   "metadata": {},
   "outputs": [
    {
     "name": "stdout",
     "output_type": "stream",
     "text": [
      "8385\n"
     ]
    }
   ],
   "source": [
    "import functools\n",
    "numbers =(range(0,130))\n",
    "print(functools.reduce(lambda a,b: a+b,numbers))\n",
    "\n"
   ]
  },
  {
   "cell_type": "code",
   "execution_count": 93,
   "id": "f544263d",
   "metadata": {},
   "outputs": [
    {
     "name": "stdout",
     "output_type": "stream",
     "text": [
      "66\n"
     ]
    }
   ],
   "source": [
    "import functools\n",
    "numbers =(range(0,12))\n",
    "print(functools.reduce(lambda a,b: a+b,numbers))\n",
    "\n"
   ]
  },
  {
   "cell_type": "code",
   "execution_count": 10,
   "id": "4c2e2add",
   "metadata": {},
   "outputs": [
    {
     "name": "stdout",
     "output_type": "stream",
     "text": [
      "0.0\n"
     ]
    }
   ],
   "source": [
    "import functools\n",
    "numbers =(range(0,15))\n",
    "print(functools.reduce(lambda a,b: a/b,numbers))"
   ]
  },
  {
   "cell_type": "code",
   "execution_count": null,
   "id": "7919d3cd",
   "metadata": {},
   "outputs": [],
   "source": [
    "import functools\n",
    "numbers =(range(0,15))\n",
    "print(functools.reduce(lambda a,b: a+b,numbers))"
   ]
  },
  {
   "cell_type": "code",
   "execution_count": 96,
   "id": "43c98808",
   "metadata": {},
   "outputs": [
    {
     "name": "stdout",
     "output_type": "stream",
     "text": [
      "362880\n"
     ]
    }
   ],
   "source": [
    "import functools\n",
    "numbers =(range(1,10))\n",
    "print(functools.reduce(lambda a,b:a*b,numbers ))"
   ]
  },
  {
   "cell_type": "code",
   "execution_count": 3,
   "id": "a2c49f59",
   "metadata": {},
   "outputs": [
    {
     "name": "stdout",
     "output_type": "stream",
     "text": [
      "[2, 6, 12, 20, 30, 42, 56, 72, 90, 110, 132, 156, 182, 210, 240, 272, 306, 342]\n"
     ]
    }
   ],
   "source": [
    "num1 =(range(1,35))\n",
    "num2 =(range(2,20))\n",
    "random_num =list(map(lambda x,y:x*y,num1,num2)) \n",
    "print(random_num)"
   ]
  },
  {
   "cell_type": "code",
   "execution_count": 19,
   "id": "4e0b4747",
   "metadata": {},
   "outputs": [
    {
     "name": "stdout",
     "output_type": "stream",
     "text": [
      "16\n",
      "With an initial value: 26\n"
     ]
    }
   ],
   "source": [
    "from functools import reduce\n",
    "\n",
    "list = [2, 4, 7, 3]\n",
    "print(reduce(lambda x, y: x + y, list))\n",
    "print(\"With an initial value: \" + str(reduce(lambda x, y: x + y, list,10)))"
   ]
  },
  {
   "cell_type": "code",
   "execution_count": 22,
   "id": "03e29524",
   "metadata": {},
   "outputs": [
    {
     "name": "stdout",
     "output_type": "stream",
     "text": [
      "16\n"
     ]
    }
   ],
   "source": [
    "def add(x, y):\n",
    "    return x + y\n",
    "\n",
    "list = [2, 4, 7, 3]\n",
    "print(reduce(add, list))"
   ]
  },
  {
   "cell_type": "code",
   "execution_count": 50,
   "id": "2bfab377",
   "metadata": {},
   "outputs": [
    {
     "name": "stdout",
     "output_type": "stream",
     "text": [
      "595\n"
     ]
    }
   ],
   "source": [
    "import functools \n",
    "def range(num):\n",
    "    num =(range(1,10))\n",
    "    return x + y\n",
    "print(functools.reduce(lambda x,y :x+y,num))\n",
    "\n",
    "\n",
    "\n",
    "\n"
   ]
  },
  {
   "cell_type": "code",
   "execution_count": 58,
   "id": "9584786e",
   "metadata": {},
   "outputs": [
    {
     "name": "stdout",
     "output_type": "stream",
     "text": [
      "295232799039604140847618609643520000000\n"
     ]
    },
    {
     "ename": "TypeError",
     "evalue": "function() takes 0 positional arguments but 1 was given",
     "output_type": "error",
     "traceback": [
      "\u001b[1;31m---------------------------------------------------------------------------\u001b[0m",
      "\u001b[1;31mTypeError\u001b[0m                                 Traceback (most recent call last)",
      "Input \u001b[1;32mIn [58]\u001b[0m, in \u001b[0;36m<cell line: 5>\u001b[1;34m()\u001b[0m\n\u001b[0;32m      3\u001b[0m         num \u001b[38;5;241m=\u001b[39m(\u001b[38;5;28mrange\u001b[39m(\u001b[38;5;241m1\u001b[39m,\u001b[38;5;241m5\u001b[39m))\n\u001b[0;32m      4\u001b[0m \u001b[38;5;28mprint\u001b[39m(functools\u001b[38;5;241m.\u001b[39mreduce(\u001b[38;5;28;01mlambda\u001b[39;00m x,y:x\u001b[38;5;241m*\u001b[39my,num))\n\u001b[1;32m----> 5\u001b[0m \u001b[43mfunction\u001b[49m\u001b[43m(\u001b[49m\u001b[43mnum\u001b[49m\u001b[43m)\u001b[49m\n",
      "\u001b[1;31mTypeError\u001b[0m: function() takes 0 positional arguments but 1 was given"
     ]
    }
   ],
   "source": [
    "import functools\n",
    "def range(num):\n",
    "        num =(range(1,5))\n",
    "print(functools.reduce(lambda x,y:x*y,num))\n",
    "\n",
    "\n",
    "\n",
    "\n"
   ]
  },
  {
   "cell_type": "code",
   "execution_count": 62,
   "id": "1cdd0c42",
   "metadata": {},
   "outputs": [
    {
     "name": "stdout",
     "output_type": "stream",
     "text": [
      "Mike Olsen\n"
     ]
    }
   ],
   "source": [
    "class Person:\n",
    "  def __init__(self, fname, lname):\n",
    "    self.firstname = fname\n",
    "    self.lastname = lname\n",
    "\n",
    "  def printname(self):\n",
    "    print(self.firstname, self.lastname)\n",
    "\n",
    "class Student(Person):\n",
    "  pass\n",
    "\n",
    "x = Student(\"Mike\", \"Olsen\")\n",
    "x.printname()\n"
   ]
  },
  {
   "cell_type": "code",
   "execution_count": 3,
   "id": "6005fa0f",
   "metadata": {},
   "outputs": [
    {
     "name": "stdout",
     "output_type": "stream",
     "text": [
      "bhawana\n"
     ]
    }
   ],
   "source": [
    "class person:\n",
    " def __init__(self,name):\n",
    "    self.name=name\n",
    " def printname(self):\n",
    "    print(self.name)\n",
    "x= person('bhawana')\n",
    "x.printname()"
   ]
  },
  {
   "cell_type": "code",
   "execution_count": 2,
   "id": "e4ed0f15",
   "metadata": {},
   "outputs": [
    {
     "name": "stdout",
     "output_type": "stream",
     "text": [
      "bhawana shinde\n"
     ]
    }
   ],
   "source": [
    "class person:\n",
    "    def __init__(self,fname,lname):\n",
    "        self.firstname =fname\n",
    "        self.lastname =lname\n",
    "    def printname(self):\n",
    "        print(self.firstname,self.lastname)\n",
    "class student(person):\n",
    "    pass\n",
    "x= student(\"bhawana\",\"shinde\")\n",
    "x.printname()\n",
    "        "
   ]
  },
  {
   "cell_type": "code",
   "execution_count": 106,
   "id": "1530945c",
   "metadata": {},
   "outputs": [
    {
     "name": "stdout",
     "output_type": "stream",
     "text": [
      "Mike olsen\n"
     ]
    }
   ],
   "source": [
    "class person: \n",
    "  def __init__(self, fname, lname):\n",
    "    self.firtsname = fname\n",
    "    self.lastname = lname\n",
    "    \n",
    "  def printname(self):\n",
    "         print(self.firstname,self.lastname)\n",
    "        \n",
    "class student(person):\n",
    "   pass\n",
    "\n",
    "x = Student(\"Mike\",\"olsen\")\n",
    "x.printname()\n"
   ]
  },
  {
   "cell_type": "code",
   "execution_count": 5,
   "id": "d4536c32",
   "metadata": {},
   "outputs": [
    {
     "name": "stdout",
     "output_type": "stream",
     "text": [
      "Mike Olsen\n"
     ]
    }
   ],
   "source": [
    "class Person:\n",
    "  def __init__(self, fname, lname):\n",
    "    self.firstname = fname\n",
    "    self.lastname = lname\n",
    "\n",
    "  def printname(self):\n",
    "        print(self.firstname, self.lastname)\n",
    "x = person(\"Mike\", \"Olsen\")\n",
    "x.printname()\n"
   ]
  },
  {
   "cell_type": "code",
   "execution_count": 101,
   "id": "b42e590c",
   "metadata": {},
   "outputs": [
    {
     "ename": "TypeError",
     "evalue": "range() takes 1 positional argument but 2 were given",
     "output_type": "error",
     "traceback": [
      "\u001b[1;31m---------------------------------------------------------------------------\u001b[0m",
      "\u001b[1;31mTypeError\u001b[0m                                 Traceback (most recent call last)",
      "Input \u001b[1;32mIn [101]\u001b[0m, in \u001b[0;36m<cell line: 8>\u001b[1;34m()\u001b[0m\n\u001b[0;32m      6\u001b[0m         \u001b[38;5;28;01melse\u001b[39;00m:\n\u001b[0;32m      7\u001b[0m             \u001b[38;5;28mprint\u001b[39m(\u001b[38;5;124m\"\u001b[39m\u001b[38;5;124mlll\u001b[39m\u001b[38;5;124m\"\u001b[39m)\n\u001b[1;32m----> 8\u001b[0m \u001b[43mmyfun\u001b[49m\u001b[43m(\u001b[49m\u001b[43m)\u001b[49m\n",
      "Input \u001b[1;32mIn [101]\u001b[0m, in \u001b[0;36mmyfun\u001b[1;34m()\u001b[0m\n\u001b[0;32m      1\u001b[0m \u001b[38;5;28;01mdef\u001b[39;00m \u001b[38;5;21mmyfun\u001b[39m():\n\u001b[1;32m----> 2\u001b[0m     \u001b[38;5;28;01mfor\u001b[39;00m i \u001b[38;5;129;01min\u001b[39;00m \u001b[38;5;28;43mrange\u001b[39;49m\u001b[43m(\u001b[49m\u001b[38;5;241;43m1\u001b[39;49m\u001b[43m,\u001b[49m\u001b[38;5;241;43m10\u001b[39;49m\u001b[43m)\u001b[49m:\n\u001b[0;32m      3\u001b[0m         \u001b[38;5;28;01mif\u001b[39;00m i\u001b[38;5;241m<\u001b[39m\u001b[38;5;241m=\u001b[39m\u001b[38;5;241m10\u001b[39m:\n\u001b[0;32m      4\u001b[0m             \u001b[38;5;28mprint\u001b[39m(i)\n",
      "\u001b[1;31mTypeError\u001b[0m: range() takes 1 positional argument but 2 were given"
     ]
    }
   ],
   "source": [
    "def myfun():\n",
    "    for i in range(1,10):\n",
    "        if i<=10:\n",
    "            print(i)\n",
    "            \n",
    "        else:\n",
    "            print(\"lll\")\n",
    "myfun()       \n",
    "       \n",
    "\n"
   ]
  },
  {
   "cell_type": "code",
   "execution_count": 6,
   "id": "37f38a51",
   "metadata": {},
   "outputs": [
    {
     "name": "stdout",
     "output_type": "stream",
     "text": [
      "[2, 4, 6, 8, 10, 12, 14, 16, 18]\n"
     ]
    }
   ],
   "source": [
    "num =(range(1,20))\n",
    "even_num =list(filter(lambda x: x%2==0,num))\n",
    "print(even_num)"
   ]
  },
  {
   "cell_type": "code",
   "execution_count": 8,
   "id": "d7fe4a0f",
   "metadata": {},
   "outputs": [
    {
     "name": "stdout",
     "output_type": "stream",
     "text": [
      "[1, 2, 3, 4, 5, 6, 7, 8, 9, 10, 11, 12, 13, 14, 15, 16, 17, 18, 19, 20, 21, 22, 23, 24, 25, 26, 27, 28, 29, 30]\n"
     ]
    }
   ],
   "source": [
    "numbers = (range(0,30))\n",
    "random_numbers= list(map(lambda x: x+1,numbers))\n",
    "print(random_numbers)"
   ]
  },
  {
   "cell_type": "code",
   "execution_count": 16,
   "id": "0c05472d",
   "metadata": {},
   "outputs": [],
   "source": [
    "alphabets=[chr(i) for i in range(65,91)]\n",
    "vowels = list(filter(lambda x: x in [\"A\",\"E\",\"I\",\"O\",\"U\"],alphabets))\n",
    "consonent = list(filter(lambda x: x not in [\"A\",\"E\",\"I\",\"O\",\"U\"],alphabets))"
   ]
  },
  {
   "cell_type": "code",
   "execution_count": 14,
   "id": "f7e47ae9",
   "metadata": {},
   "outputs": [],
   "source": [
    "alphabets =[chr(i) for i in range(65,91)]\n",
    "vowels = list(map(lambda x: x in [\"A\",\"E\",\"I\",\"O\",\"U\"],alphabests))\n",
    "consonent = list(filter(lambda x: x not in[\"A\",\"E\",\"I\",\"O\",\"U\"],alphabets))"
   ]
  },
  {
   "cell_type": "code",
   "execution_count": 17,
   "id": "cde0f41d",
   "metadata": {},
   "outputs": [
    {
     "name": "stdout",
     "output_type": "stream",
     "text": [
      "['A', 'E', 'I', 'O', 'U']\n"
     ]
    }
   ],
   "source": [
    "print(vowels)\n"
   ]
  },
  {
   "cell_type": "code",
   "execution_count": 18,
   "id": "b3635fe4",
   "metadata": {},
   "outputs": [
    {
     "name": "stdout",
     "output_type": "stream",
     "text": [
      "['B', 'C', 'D', 'F', 'G', 'H', 'J', 'K', 'L', 'M', 'N', 'P', 'Q', 'R', 'S', 'T', 'V', 'W', 'X', 'Y', 'Z']\n"
     ]
    }
   ],
   "source": [
    "print(consonent)"
   ]
  },
  {
   "cell_type": "code",
   "execution_count": 23,
   "id": "3b06f2db",
   "metadata": {},
   "outputs": [
    {
     "name": "stdout",
     "output_type": "stream",
     "text": [
      "YES! We have a match!\n"
     ]
    }
   ],
   "source": [
    "import re\n",
    "\n",
    "name = \"My name is bhawana\"\n",
    "A =  re.search(\"\", name)\n",
    "if name:\n",
    "  print(\"YES! We have a match!\")\n",
    "else:\n",
    "  print(\"No match\")\n",
    "\n"
   ]
  },
  {
   "cell_type": "code",
   "execution_count": 24,
   "id": "1aa5de8e",
   "metadata": {},
   "outputs": [],
   "source": [
    "price=50\n",
    "txt = \"The price is {:.2f} dollars\""
   ]
  },
  {
   "cell_type": "code",
   "execution_count": 26,
   "id": "a8d81673",
   "metadata": {},
   "outputs": [
    {
     "name": "stdout",
     "output_type": "stream",
     "text": [
      "The price is 50.00 dollars\n"
     ]
    }
   ],
   "source": [
    "print(txt.format(price))"
   ]
  },
  {
   "cell_type": "code",
   "execution_count": 31,
   "id": "027b6822",
   "metadata": {},
   "outputs": [
    {
     "name": "stdout",
     "output_type": "stream",
     "text": [
      "bhawana\n"
     ]
    }
   ],
   "source": [
    "print(\"bhawana\")"
   ]
  },
  {
   "cell_type": "code",
   "execution_count": 19,
   "id": "2c02b898",
   "metadata": {
    "scrolled": false
   },
   "outputs": [
    {
     "name": "stdout",
     "output_type": "stream",
     "text": [
      "b'\\xff\\xd8\\xff\\xe0\\x00\\x10JFIF\\x00\\x01\\x01\\x00\\x00\\x01\\x00\\x01\\x00\\x00\\xff\\xdb\\x00\\x84\\x00\\n\\x07\\x08\\x15\\x15\\x15\\x18\\x15\\x16\\x15\\x18\\x18\\x18\\x18\\x19\\x18\\x18\\x18\\x15\\x19\\x18\\x18\\x18\\x18\\x19\\x18\\x18\\x18\\x19\\x19\\x18\\x18\\x18\\x1a\\x1c!.%\\x1c\\x1e+\\x1f\\x18\\x18&8&+/1555\\x1a$;@;4?.451\\x01\\x0c\\x0c\\x0c\\x10\\x0f\\x10\\x1a\\x12\\x12\\x1e4+!$44444444444144444444444444454444444444444444444414\\xff\\xc0\\x00\\x11\\x08\\x00\\xb7\\x01\\x13\\x03\\x01\"\\x00\\x02\\x11\\x01\\x03\\x11\\x01\\xff\\xc4\\x00\\x1b\\x00\\x00\\x02\\x02\\x03\\x01\\x00\\x00\\x00\\x00\\x00\\x00\\x00\\x00\\x00\\x00\\x00\\x03\\x04\\x02\\x05\\x00\\x01\\x06\\x07\\xff\\xc4\\x00;\\x10\\x00\\x02\\x01\\x02\\x03\\x05\\x06\\x04\\x06\\x00\\x05\\x05\\x01\\x00\\x00\\x00\\x01\\x02\\x00\\x03\\x11\\x04!1\\x05\\x12AQa\\x06\"q\\x81\\x91\\xb1\\x13\\xa1\\xc1\\xd1\\x142BR\\xe1\\xf0$br\\xa2\\xf1\\x07#C\\x92\\xc2\\x15\\xff\\xc4\\x00\\x19\\x01\\x00\\x03\\x01\\x01\\x01\\x00\\x00\\x00\\x00\\x00\\x00\\x00\\x00\\x00\\x00\\x00\\x00\\x01\\x02\\x03\\x04\\x05\\xff\\xc4\\x00&\\x11\\x00\\x03\\x01\\x00\\x02\\x02\\x02\\x02\\x01\\x05\\x01\\x00\\x00\\x00\\x00\\x00\\x00\\x01\\x02\\x11\\x03!\\x121\\x04A\"Q\\x13\\x14aq\\x81\\x912\\xff\\xda\\x00\\x0c\\x03\\x01\\x00\\x02\\x11\\x03\\x11\\x00?\\x00\\xf2\\xa6\\xc2\\x81\\x04\\xf4-\\xa4\\xb0\\xacb\\xd5\\x1cL\\xf4\\xa1eI0\\xb0\\xca$\\\\E\\xa3\\x02^kzE\\xe0\\xc3JHZ\\x1c\\xbc\\xd0x\\x12\\xd2K\\x0c\\r\\x0e\\x86\\x1c\\x18\\xbd8`d1\\x8ca\\x16\\xed,\\x82D\\xf6z\\xf1\\x96$e2\\xa7\\xd9H\\xad\\xc6E\\xc4>4\\xe7\\x02\\x04\\xb5\\xe8L\\x90\\x13\\x08\\x9b\\x13p\\x03x\\\\3\\xd4uD\\x1b\\xcc\\xc4\\x00\\'M\\xb6\\xbb\\x1ci!t}\\xf23d6\\x01W\\xfdD\\xf0\\xceXv\\x03f\\xee\\xab\\xe2Xk\\xdcK\\xff\\x00\\xb9\\x87\\xb4\\xb0\\xedEB0\\xef\\xcc\\xa3\\x9f\"m\\xed!\\xd3\\xdcE)\\xd5\\xa7\\x99\\xdaH\\t\\xa5\\x98&\\x84\\x9b\\xb4\\x90\\x13@I\\x85\\x89\\x81\\x12d\\x0b\\xc22\\x18?\\x86`\\x81\\x84\\xa4\\xbca\\xb7\\xa4\\x10ZF\\xa3\\xc6K\\xec\\x8dW\\xbc6\\x16\\x9c^\\x8a\\xdc\\xcb*I\\x13\\x06b\\x89\\xa5\\xa5s&\\xe6\\xd2t\\xdaC}\\x19\\xb6+U-\\x00\\x04o\\x13\\x12C\\x9cR5]\\x18\\xc9h=\\xfbF]\\xc5\\xa25\\xdb\\x94\\xd9\\r\\x06\\xfcL\\xdcF\\xc6j<(%V\\xeb\\x17V\\x9b\\xa8\\xf2\\x0b).\\x862*H\\xb3\\xc1\\x834LX\\x06\\x98\\xc1\\x95\\x84\\x99\\xbb(@\\xa1\\x16m\\x92m\\x04\\x1b\\x00\\x89\\n\\xa6\\td\\xc9\\x90\\xd0ie\\x81l\\xa3\\xc5\\xb2\\x958G\\xb0\\x8f\\n\\x93\\x1a]\\x96\\x98\\xbe ]\\xa4wf\\xdc\\xe7\"L\\xa4\\x04Z1\\xb30\\xadZ\\xaaS]]\\x80\\xf0\\x1cO\\xa4U\\xe7\\xa4v\\x07\\xb3\\xff\\x00\\r\\x06%\\xc1\\xdfq\\xdcS\\xfaP\\xe8|N\\xbe\\x16\\x972\\xeb\\xd1-\\x9d\\x1d\\x1c\\x06\\xea-4\\xb0E\\x01A\\xf0\\xe3np\\x1bW`-uewe\\x0c-\\xdd\\x03!\\x97?\\tpmi\\x12f\\xd3\\xc3(\\x9a\\xe4~\\x91\\xe6\\xfb\\x7f\\xb1f\\x90\\xdf\\xa2Y\\xe9\\xaa\\x12\\xf7\\xb1u*3 \\x0b\\\\\\x1f\\x94\\xe5BOq\\xdf\\xcb9\\xcbm\\xde\\xc8\\xa5K\\xbd\\x0b#\\x9c\\xcah\\x8d\\xe1\\xfbO\\xcaM\\xf1}\\xc8M\\xfe\\xcf:JQ\\xb5\\xc1\\x91\\xad\\x87\\x8c\\xb8\\xc3\\xec\\x0cB\\x12\\xcfE\\xc6\\xe8\\xcb+\\xe7\\xe5*qA\\xb7\\xbb\\xe0\\x86<\\x08#\\xder[\\xa9y\\x81\\\\\\x99\\xe8\"\\xe1/\\xca\\r\\xf0\\xb6\\x82/\\xbb\\xc4\\xc7\\xb0\\xf5\\x83\\xa9\\xcf1\\xf3\\x92\\xa9\\xfd\\x84\\xf2y<eUZ$E\\x19L\\xba\\xa9J\\xf1g\\xc3\\xcdU\\x17\\x82\\x98d\\x8f\\xac\\x85:q\\xa4L\\xa3l\\x8c\\xd6)V\\xe6A\\x0cw\\xe1H-\\x1c\\xe4h\\xeaz\\x15\\xa8M\\xa2\\x83YkR\\x84\\xacqf\\x8d\\x10\\x91\\xb6\\xa7\\xc6-PGT\\xe5\\x16\\xc4\\x89R\\xfb\\x04\\xc0\\xdad\\x8e\\xf4\\xc9e\\n\\xb2\\xc8\\xee\\xc6\\x99 Ye\\xa6Q\\xa10\\xac\\xc5\\x12w\\x80\\x03U\\x93\\xbc\\xdc\\x89\\x80\\x11\\xb4\\x90HD\\x10\\xc1blX.\\x04\\xd9XVI\\x12 \\x01\\xf0\\xc7(\\xda\\x98\\xa50M\\x80\\x04\\x9e@\\x12}\\x04\\xe8(vS\\x18\\xca\\x18R\\xb06\\xc9\\x99C\\x00x\\x90N^y\\xc9\\xf1o\\xd0\\xf7\\nW9\\xc8\\x19w\\x8d\\xec\\xa6.\\x9e\\x7f\\x0c8\\xff\\x00#o\\x1f\\xfdr?)E[y\\x0e\\xeb\\x82\\xa7\\x93\\x02\\xa7\\xd0\\xc3\\xc1\\xa0\\xd3\\xae\\xec_fF!\\xbe5A\\xff\\x00mM\\x95\\x7f{\\x8e\\x7f\\xe5\\x1f=9\\xcfL\\xdd\\xb0\\x9c\\xef`q(\\xf8D\\nsB\\xca\\xe3\\x93o\\x16\\xf6`|\\xe7Lr\\xe3y\\xd12\\x92\\x13\\x04\\x0c\\x89k\\x1e\\x93n\\xfcb\\xd5*\\xca3\\xc0\\xaef\\xe9>w\\x8b\\xfcI\\xb5h\\xd0ad^\\xf2\\xabm\\xe0i\\xd5K:_\\x93\\x0f\\xcc\\xa7\\x980\\xc9_\\x846\\xf8h4\\x9fL^\\'\\x92m]\\x9c\\xf4\\xdc\\xa3\\xe7l\\xc3~\\xe5\\xe0D_\\x0ewXZz\\x0fi\\xf6n\\xfd6`.\\xeb\\x9a\\xdb_\\xf4\\xf8O>zD\\x1c\\xf2<G\\x19\\xe7\\xf2q9\\xac^\\x89\\xf42jX\\xdai\\xdcEq\\x95,\\xf6\\xe8 EX\\xb0\\xe9\\xde\\x87\\x10\\xc6U\\xa5z\\xbc\\x90\\xad\\x06$>\\xcf5KX\\xa2T&2\\x8fh`S\\xe8b\\xaa\\xe5(\\xf1\\xa9\\xc6[\\xbd|\\xa2\\x15\\x85\\xe5i\\x92\\xe8\\xafJ\\x99In\\xdei\\xe9X\\xcd\\x83\\x04\\x86\\x03vd\\x91\\x13%\\xe8\\x02\\x06\\t\\xc4\\xb0\\xc4\\xe1\\xb8\\x88\\x93\\tR\\xf4\\xbd\\x173W\\x85e\\x93Jr\\x86\\x00M\\x85\\x8c|9\\x81!\\xa0\\x0fIq\\xb2v\\x0e\\'\\x11\\x9d:d/\\xef~\\xea\\x1f\\x02G{\\xc8\\x19\\x7f\\xd8\\xfe\\xcb%P+\\xd7[\\xa7\\xe8C\\xa3[\\xf575\\xe48\\xcfBAk\\x01`\\x05\\xadl\\x80\\xb6\\x9eR\\xe67\\xd8\\xd4\\xb6pxN\\xc10\\x04\\xd6\\xac\\x07!L_\\xd4\\xb5\\xbd\\xa0\\xb1]\\x83\\xa8lhTGRFM\\xdcp\\x0eD\\xf26\\xf1\\x13\\xd0\\xd8\\\\Fpt\\x80\\xcf\\x8f\\xb4\\xb7\\xc4\\xb0)$\\x8a\\xbd\\x85\\xd9\\xd5\\xc3S\\x08\\x9b\\xbb\\xc77\\x7f\\xd4\\xe7\\xed\\xc8K\\xa1H\\x8e7\\xe9\\xcaH\\x89\\xa3-J1\\xd6\\xc51\\t\\xfc\\x18\\x85zh\\xf9:+p\\xbb(>\\xf2\\xd6\\xa2\\xde!V\\x94<M$\\xa9\\xc3P\\xa7\\x86ri\\xa0M\\xeb\\x16\\nl\\x8d\\xc8\\xdbK\\xf5\\x12\\xe2\\x86,6z\\xfb\\x88\\x8e&\\x98+k\\x1b\\xde\\xfb\\xd7\\xd3\\xca\"\\xb5J\\xb7.\\x16\\x1a\\x7f1\\x1b)\\xd4to\\x9f\\x84E\\xd2k\\x07\\x8c\\r\\x97\\xfc\\x18J\\xcd\\x9f\\x8f\\xd2?\\x1d#\\xc1\\x8b\\x1dc\\x0b\\x02a\\x15\\xb2\\x8f\\xc4Nz4\\xcfc\\x0bA\\xed\\x00\\xc2O\\n\\xf9\\x93\\xcb!\\xf5\\x91\\x84\\xf8\\xe9d(\\x83\\xad\\xe5v\\'\\xb38j\\x8c]\\x90\\xef\\x1dX;\\x0f\\xad\\xa3?\\x8a\\xcfY/\\xc5\\xc1\\xf8\\xbe\\x99\\x9dI\\xce\\xed>\\xc2Q{\\x94wF\\xe1{:\\xf9\\x8b\\x03\\xf3\\x9c^\\xd6\\xec\\xed|6n\\xbb\\xc9\\xc2\\xa2\\xe6\\xbe|W\\xcez\\xba\\xd5\\xber,\\xe8A\\x070r \\x8b\\xdf\\xa5\\xa4W\\x1c\\xb5\\xd7@\\xa9\\xa3\\xc6Vl\\x0b\\xcb\\xee\\xd4l/\\xc3\\xb0t7\\xa6\\xec@\\x1cP\\xea\\x14\\xf3\\x16\\xbd\\x8fIINs9\\xc7\\x8c\\xd2_A\\x15f\\x99\\xe4\\xef\\x94\\x0b-\\xe2\\x1eh/\\x88o\\n\\xaf\\x06\\xc9h2\\xd0\\xc2(+\\x8b\\xc1\\x8aw\\x9aW\\x87\\xa4\"\\xc1$+\\xf8v\\x99,wfE\\xa3\\x08\\x88\\x18J\\xfcf\\x0e\\xd9\\x88\\xde\\x02\\xbd\\xc6r\\xc1\\xe9\\x06\\x11*r\\xc9\\xdf\\x13\\x92e\\xb1\\xce\\x15e\\xdd}\\x9d~\\x11\\n\\xf8\"&\\xca\\x93)Zb\\xc4_My\\x0c\\xfd\\'w\\xd9\\x8e\\xc4\\x8b-\\\\O\\x1b\\x15\\xa3\\xec\\\\\\xff\\x00\\xf3\\xeb\\xcak\\xb0\\x9d\\x9f+\\xfe&\\xaa\\xe7\\xff\\x00\\x89H\\xe1\\xfb\\xfd\\xc0\\xf5\\x9d\\xe03i\\x9f\\xb6Y\\x06@\\x00\\x00X\\x0c\\x80\\x02\\xc0\\x0e\\x16\\x12\\x17\\x12n\\xf1j\\x95&\\xe9\\x9aOa\\x8dA%C\\x12\\x01\\xcfI\\\\\\xf5m\\xc6)S\\x11\\xacxl\\xb8|\\x96\\x1dJ\\xb89\\x83\\xe76\\x0c\\xa1\\xd9[]Tn6\\\\\\x9b\\xef/\\x11\\xef\\x982N^N*\\x8a\\xc6c@\\xba\\x83\\x19\"\\xf0N\\x92\\x93&X\\x8dJR\\xb3\\x17\\x84\\xe5/X@\\xd6Qn\\x11\\xf8\\xa6tC9v\\xc4nwNG\\x9f^\\x91\\x9a\\xb8\\xf0\\xebpF\\xf0\\xb6\\xf0\\xbe\\x87\\x81\\xe8\\x0c\\x8e\\xd5\\xc2\\xa3\\x0e_\\xde\\x13\\x93+R\\x85r\\xccG\\xc3}\\xd5,Ow\\xba,\\x03\\x1bwu6\\'+\\xda\\xe4\\x0b\\xc9i\\xc3\\xd7\\xe8\\xeb\\xfe79Mj\\xfb\\xfe\\xc7W\\x81\\xc6\\x12H\\'\\xc3\\xc8\\xff\\x001\\xfau\\xc1\\x1f\\xdeS\\x9d\\x0e\\x14\\xe4\\xc0\\x8e\\x0c\\xa42\\x9e\\xa1\\x86Du\\x19BQ\\xc5\\x10\\t\\x079\\xafL\\xe9\\xe5\\xf8\\x8a\\x97\\x94\\xfd\\x97\\xf5\\xea\\x805\\xfe\\xf1\\x90j\\x9b\\xabs\\xe3iM\\x82\\xc5o\\xb3\\x17=\\xc4\\xff\\x00spQ\\xee|\\xb9\\xc6\\x85m\\xf0m\\xa7\\x0b\\xfb\\x99\\x9d/\\xd1\\xe7rp\\xb9\\xdf\\xec4\\x98\\x90x\\xe7\\xa9\\xfaM\\xfe(_\\x9fO\\xbcG\\xe1\\xc9\\xa2r\\x983\\x95\\x96\\x0b\\x89\\'/\\xef\\xac2\\xb73\\x11Ao\\xb7\\x08\\xc2\\x11\\xc6$\\xc8h\\x1e\\xd9\\xc2\\x8a\\xb4\\x1e\\x9f\\x16^\\xef\\x1e\\xf2\\xe6\\xbf1<\\xad\\x1c\\x8dg\\xb2S \\x8d-<\\x9b\\xb4\\xb8o\\x85\\x89\\xaa\\x80\\x107\\xb7\\x80<\\x9c\\x06\\xf4\\xb92mu\\xa1>\\xf0\\x00\\xab\\x0c\\xad\\x10H\\xca\\xb4\\xc5\\x9ahJ\\x8f\\x00fUy\\x14\\x82Bh\\x90Y%{L\\xb4\\x03\\xdc\\x18`\\xc7?\\x132#y\\x90\\xf1\\x00\\xb8v\\xdd\\x97\\x98<E\\xf5\\x94m\\x19\\xc2T\\x85N\\xa2*u\\x1d*\\x00D>\\x07f-Z\\x8a\\xa4\\x12\\xba\\xb5\\xad\\xf9G>\\x84\\xd8y\\xca\\xba5r\\x9d\\x17e*o;\\xf4U\\xf1\\xcc\\x9f\\xb4\\xcf\\x8f\\xff\\x00I\\x18J\\xfc\\xb0\\xea\\xceB\\xdf.\\x10l\\xd3l\\xd9E\\xdd\\xc5\\xe7n\\x9di\\x05/\\x03P\\xcd\\x17\\xe9\\x16\\xae\\xfd>r\\xa5\\x9b\\xf1\\xce\\xb1\\\\K\\x81\\xc6U\\xd6\\xc5\\xea8\\x8f\\x9c\\xd6\\xd0-\\xfd2\\x9a\\xa6\\xf0\\xd6\\xfd%\\xba\\xc3\\xd8\\xe1\\xe1X\\x98\\xe5\\x0cFl\\x0f\\x00H\\xf2\\xcf\\xda\\xfe\\x91\\xfd\\x97\\xda\\n\\x94\\xc6\\xe1\\xb3/S\\xa0\\x9c\\xa6+\\x19\\xc0\\xeb16\\x85\\xda\\xc4[\\xc7\\xe53\\xfeE\\xb8i|\\\\uNk;\\xcf\\xfaz\\x96\\xcf\\xdb\\xc8\\xe4\\x02\\x08&^!V\\x19\\x1b\\xcf\"\\xc1b\\x99\\x1dZ\\xf9\\x02\\t\\xf0\\x9e\\x80\\xb8\\x82\\xa0:\\x9c\\x98_\\xa4\\xb5Zy?3\\xe2.:^>\\x99r\\xf4\\xe5n>\\x91##\\xf2\\xfed\\xe9m\\xa5\\xd1\\xc5\\xbc\\x05\\xe4\\x9f\\x14\\x1cwA\\xf1#\\xd8M%\\x9c\\xdcj\\xa2\\xb4\\xe5\\xb14\\xddo{\\xdaVW}o\\xfd\\xf2\\x9d\\x06\\xd1VmnG\\xa7\\xb4\\xe7\\xf18e\\x1f\\xa3\\xde]kG\\xb9\\xc1\\xc9T\\x97H\\xa1\\xf8\\xb6o\\x86\\x87tf@\\xd4\\x0e$(\\xe1\\x9f\\x08\\xdd<i[\\x07\\xbf+\\xda\\xc7?28k\\x05\\x8c\\xc1g\\xbc\\x99\\x11\\x9d\\xe5y\\xabQ\\xec\\xa4\\x0c\\x8e\\xa0X\\xe4x\\xce\\x16\\xeeo\\xafF\\xb4\\xeaZK\\xd7\\xeb\\xe8\\xe9>0 \\x01\\x90\\x1a\\x0f\\x9c{\\x01\\x88\\xce\\xd7\\xf2\\xb7\\xdeSRB\\xa0_1\\xcf\\xef\\xca]\\xec\\xea`\\xe7\\x95\\xf9\\xe5;\\x13\\xd5\\xd9\\x87\\xc9S\\xe2\\xcb6\\x17\\xfe\\xfd\\xa6\\x81#\\xf8\\x10\\xe1\\r\\xb4\\xf3\\xb4\\xcb\\x1e7\\xf4\\x99T\\x9e\\x1d\\xa0j\\xf6\\xfea>/I\\x97\\x1c}\\xa6Xr\\xf7\\x99\\xe1\\x93\\x0bB\\xa6y\\x9bN#\\xfe\\xa0\\xe1\\xedY*\\x01\\x93\\xa6\\xef\\x9a\\x1f\\xb3\\x0fI\\xd9\\x04\\xe9(\\xbbqG\\x7f\\x0e\\x8c5G\\x17\\xbf&\\x04e\\xe7h\\xab\\xd1+\\xa6phaK\\xc8\\xa2Le\\x984Z\\x04\\xcf1^HS\\x93\\xf8pHd\\xd4\\xc8U\\xceb\\xdem\\x84\\xac$[zjc$\\xc8`\\xf4i\\x90\\x99\\x94\\x85\\x8ce-\\x03R -)6R\\xd3\\xb3x\\x82\\x95\\xcef\\xc5M\\xc7<\\xc6\\xbe\\xf2\\x8f\\x0bR\\xe2\\xd2\\xc3\\x01\\x87.\\xe0\\x83m\\xde\\xf1 \\x90l5\\x00\\x8ew\\x913\\x94g\\xe3\\xdfGx\\xf52\\x04\\x9b\\x83&*\\x03\\xa6S\\x9d\\xa8*\\x0c\\xd5\\x8d\\xb5+\\xa8\\xb7@x\\xc9&\\xd3`\\xd9\\x00[;-\\x88\\'\\xad\\xaf\\x90\\x9b7\\x8f\\x19\\xd9)4]\\xd4\\xab`N\\x96\\x1a\\xf2\\xe5\\xe6e\\x06\\xd3\\xc58\\x05\\x8d\\xc0\\xe8\\r\\xcf\\xa4f\\x8e\\x10\\xb9\\xderKu\\xd0xK\\x13\\x83@2_>&Z\\xd7\\xe8\\xb5.\\xbaO\\x0f=\\xc4c+\\xb9\\xeeS`9\\x91o\\x99\\xcaB\\x9e\\x16\\xaf\\xe6j\\x85y\\xa87\\x1f<\\xbeS\\xb6\\xc5a\\x06\\xa4y}\\xe5\\x0e&\\xc4\\x90\\xa3)_\\xc5\\x9d\\xe9\\xe8\\xfc_\\x87\\xc6\\xbf6\\xdb\\x7f\\xe4\\xe7j9Z\\x97+\\xbd}>\\xfc\\xa6\\x12\\xd5\\x1f|\\x8b\\x0c\\x86@\\x01\\xe7h\\xd6\\x15\\xd6\\xab\\xb1\\x03%\\xee\\x83\\xcf\\x99\\x8e\\xa5;p\\xff\\x00\\x89\\x8a\\xe3^Zt\\xc7\\x1c\\xdf\\xe6\\x9f[\\xd7\\xfa!Hs\\x9d\\xd7e\\xf1\\x1b\\xe9\\xf0\\x9f\\x80\\xba\\x9e\\x9c\\xa7)\\x83\\xd9\\xea\\xe7\\xba\\xc5\\x0fQu\\xfe\\']\\xd9\\xed\\x9e\\xc8K1S\\xc0Z\\xff\\x00Y\\xbaXa\\xf3\\xee\\x7f\\x8d\\xaa\\xf7\\xf4X6\\xcf\\x00\\xc6\\x12\\x9d\\x85\\xa3`\\xcd0\\x13Yg\\x85\\xe6\\xdf\\xb1\\n\\xd4\\xb2\\x94[K\\x0e\\x00&t\\xce\\x91,^\\x0c8\\xb7Y\\xa4\\xb3\\xab\\x83\\x9f\\xc2\\x96\\xb3\\x8b)s\\xa4S\\x17\\x80(\\xdb\\xd6\\xb0r\\xde\\xa0\\xe7\\xee\\'^\\xfb\\'\\xbdq\\xc2+\\xda\\x0c#\\x95B\\xa3\\xb8\\xb7\\xde\\xe8M\\x80\\xf2\\xd6\\x15)\\x9e\\x8b\\xf9sT\\xb1\\x9c\\xe21\\\\\\xc4\\xb3\\xd9\\xd8\\x94\\xbeb\\xddG\\xd4@\\xfe\\x1f+\\x9f9\\xba8b\\x0f\\xb7\\x84K\\xa1rsMKL\\xe9iP\\x0c.\\xaf\\xf2?C\\x0e\\x98_\\xf3\\x9f!\\xfd1,\\x12\\x91\\x9f\\xb1\\xb1\\xfee\\x8a1\\xe7\\xf2\\xfbH\\xa6x\\xfc\\x8f\\xb0\\xa9\\x83\\x1f\\xbc\\xfaAV\\xa2\\xc9\\x9d\\x83\\x0fHT\\'\\x8b|\\xe3Ib9\\xf9\\xdcD`\\xd8\\x828\\xe2\\x92\\xa7\\xb6\\x1b\\x87\\x0c\\xdc.\\xc8\\x00\\xe7\\xde\\xbf\\xd2X\\xe3\\xb0\\xe5\\r\\xc1\\xb0\\xe1}<\\x0c\\xe6{E\\x8a\\x1b\\x812\\xbb\\x1b\\x9b\\x1b\\xd8\\x0e\\xbe?Y\\x95\\xf4\\x98%\\xac\\xe3\\xdd$\\x058\\xe5@$B\\xdas\\xc9\\xa3\\x02\\x94m1\\xd2\\x18\\xb8\\x8bU\\xab,\\x00\\xd4 H\\x93\\x94\\x8b\\xb5\\xe6X\\xda&N\\x02\\xde\\x99 T\\xcc\\x86\\x80\\xd3\\xbd\\xa2\\xc6\\xa9&\\x13\\x15\\xacge`\\xcb0b;\\xbf?\\x9c\\x8f%+XU)F\\xf0\\x9d\\xdc\\xcf\\x90\\xfa\\x99\\xd7vz\\x89)\\xbes\\xdf:i\\x92\\xdcXy\\xdeR\\xe3\\xb0\\x8a\\xaa\\n\\\\\\xb5\\xc0\\xdd6\\xcc\\x93akN\\xdff\\xe0Y\\x11QSx*\\xf7\\x9a\\xe0\\x0e\\xa4\\xdf\\x99\\xbc\\xae\\x1c\\xbao\\xf4D7U\\xa4\\x96\\x85\\x86r/\\xba\\xa0\\x93`\\x00\\xb9\\'\\xfb\\xac%Ry\\x83|\\xee3\\x12\\x04x\\xdf]m\\xa6\\x93\\xab\\xc4\\xeaH\\x1d*\\xf7\\x05\\x806\\x16\\x04\\x95\\xb5\\xaf\\xa4a+\\x8e&\\x05\\xb0KR\\xce\\xed\\xbeFAN`[\\xa4\\xd5L*1\\x01\\x07x0\\xbb\\x0b\\xdbv\\xda\\x11\\xa5\\xf4\\x826\\x8aK\\xd9\\x98\\xa4,2\\xe3)v\\xa6\\x10\\xa5\\x1a\\xae5\\x08m\\xe2r\\xfa\\xce\\xa5i\\xd8[\\x94\\xac\\xedU?\\xf0\\xb5\\x00\\xd5\\xb7@\\xf1.\\xa0GO\\xf1gG\\xf54\\xa5\\xcc\\x9c\\x1e\\xc8R\\x17O\\xcc\\x7f\\x8f\\xa4\\xe9h\\xe1\\x01Px\\x8f\\x9f9UB\\x96\\xee\\xe8\\xe5.0\\x95M\\xad\"RK\\r\\xf8y\\x9c\\xc2\\x95\\xf49\\x84\\xc1\\x05#\\x96\\xb7\\xe5:\\x8d\\x9eA\\x00r\\x948g\\x96T\\\\\\x8c\\xc4)\\x9c\\xbf.\\xdf\"\\xc2\\xf3rh\\xa4\\xab\\x1bX\\x03\\xbaN|\\xa1\\x97h\\xdeR\\xa4yni\\x0e\\xfc9\\xa6H\\xb0\\xc5^\\x11kG\\xe4-h\\x9e\\xe4\\xdf\\xc3\\x04i\\xae\\xb3\\x16\\xa5\\xe6\\xf7\\xa3\\xd0\\xf2e&;d\\x05\\xbb\\'\\xe5:\\xaf/\\xe2!O\\x0f\\xc3\\x97\\xb79\\xd53e)\\x9e\\x9d\\x9b\\x8d\\x81\\xce\\xda\\xda4\\xf4\\xday\\x1b]\\x83\\xa2\\x96\\xd3\\xd3\\xed\\x18\\x1b\\xdc-\\xe0r\\xf2\\xe9\\x04\\x17<\\xafa\\xa7\\x03\\xe3\\xd2\\x1e\\x99\\x1c\\xef\\xe3\\xad\\xfcd\\xb4E3a\\x8f\\x11ooQ\\n\\x97\\x06\\xfa\\xcc\\x03\\x97\\xac\\xc0\\xdc\\xc7\\xa4D1\\x82C\\x0b0\\x04\\x1e\\x07I\\xc2\\xf6\\xcbd\\x1aG\\xe3)\\xba1\\nG\\xec<<A\\x9d\\xa1\\xcbM<g9\\xdbLR\\x8c#\\x825(\\x17\\xa1\\xdf\\x16>\\xf2m\\'=\\x8e^3\\x83j\\x82\\x0e\\xad{J\\xdf\\xc4I\\n\\x97\\x9c\\xc9\\x1a\\xb1\\x86\\xc4@5Y\\x134VX\\x8d\\x87\\xce\\x1d\\x1a\\xf1`\\x90\\xaa\\xd6\\x92\\xc4\\xd9=\\xc9\\x92;\\xd3$\\xe1\\x1a\\xc7\\x13\\x07\\xb87\\x9c\\xf7\\x8f\\xe5Q\\x9d\\x8f\\xd4\\xce\\x8bg\\r\\xea(\\n.\\xf2\\xa8\\x17-m\\x06G+\\xe5\\x13\\xc2\\xd0\\xf8\\x8e\\xed\\xba\\x08B\\x05\\x8d\\xcd\\x81\\x00\\xdf/8\\xe5lR\\x8e\\xe0\\xb96\\xd1@\\xcb\\x80\\x1e3\\x1b\\xadxd\\xde\\xfb+\\xdf\\x10\\xc9Y7\\xd00\\x0c7U\\x0fw\\\\\\xecA\\xefp\\xf5\\xd0N\\xef\\x0f\\x8eJ\\xa2\\xea\\xca\\xdc5\\x19[\\x85\\xa7\\x03\\x89\\xab\\xba{\\xc3wt\\x15\\t\\x91oS\\xf3\\x80\\xc2\\xa1w\\xb96\\xe3\\x91\\xb0\\x1dM\\xb5\\x9aqr8[\\x9d\\x1aCh\\xf4\\xb7A\\x02)\\x0b\\xf2\\x1c\\xed8lV\\xd7\\xac\\xb9#\\xb0Q\\xcc\\xde\\xfds\\x89\\xb6\\xd6\\xc4\\x13sT\\xfa\\xdaj\\xbeRkp\\xd1Y\\xe8\\xbf\\x04\\x7fx\\xf8\\xc3!\\x03\\x90\\x9e\\\\\\xfbZ\\xbf\\x1a\\x8f\\xe4\\xd1j\\xb8\\xfa\\x8d\\x91w\\xf0\\xdei_\\xd4\\'\\xf4?\\xe4=[\\x15\\xb4iS[\\xbdES\\xd4\\x89\\xccbv\\xdf\\xe2\\xdc\\xa2\\x0f\\xfbHGx\\xea\\xefmz\\x00\\x0f\\xcep\\x0e\\xe7[\\x93\\xe2o;\\xad\\x8d\\x85\\xdcE[ga\\x7f\\xf5\\x1c\\xda5n\\x8b\\xe3\\xa7Le0\\xa0\\xf0\\x87\\xa5F\\xc67E-\\n\\xb4\\xa5\\xa3\\xaah\\xd6\\x18K:Q\\x1aIh\\xe2\\x18P\\xad\\x9c\\x87n\\x1d\\x90\\xa3+\\x11|\\xae5\\xe7)\\xf6f\\xdc\\xac\\x99\\xef\\xef\\x0eM:>\\xdb\\xe0\\xcdDKpl\\xfd\\x0c\\xe7(l\\x8b\\r\\'5<zq\\xdb\\xca:\\\\\\x07j\\x01\\xc9\\xc6\\xefQ\\xa4\\xb8\\xa5\\xb6\\x91\\x85\\xc3\\x89\\xc0\\xe20l\\xb9\\xca\\xe7sx.W\\xa6{\\xac\\xf5\\xba;EN\\x8c\\x0f\\x9cv\\x9e*\\xfaO\\x1dLK\\x8d\\x18\\x8f9\\xe8{\\x0b\\x15\\xbfM\\x1f\\xfc\\xa0\\x1f\\xf5\\x0c\\x8f\\xb4\\xe8\\x9b\\x1f\\x8a/\\xea\\xe2\\x87\\x0e2\\x0c\\x96?\\xdda0\\xe5O\\x01\\xd2\\x1c\\xa0\"k\"\\xdc\\x12\\xb6\\xe9\\xbf\\xceoyz\\x0b\\xf0\\x93\\xc4\\xa5\\xc6CB\\t\\x11:\\x95\\xd7MO\\x05\\xb1\\xb8=9EL7F\\xb7\\xacy\\xfd\\xa6\\xfe\"\\xb7\\xf7H\\x95\\xda\\xc3?\\x1c\\xe6\\x9f\\xbb\\xa6^\\x7f)\\x1a\\r\\x0c\\xb3\\x91\\xd4s\\x17\\x9e{\\xff\\x00P6\\x81wJ@\\xe4\\xa3y\\x876?\\x96\\xfe^\\xf3\\xaf\\xc7m\\x15\\xa6\\x8c\\xeel\\x14\\x12m\\xaf\\x85\\xba\\xcf(\\xc7\\xe2\\x9a\\xadGv\\xd5\\xd8\\x9br\\x1c\\x07\\x90\\xb0\\x91O\\xa1\\xca\\xecJ\\x1e\\x9c\\x1e\\xe4\"\\x89\\x06\\x81\\x84\\x98\\x10jd\\xb7\\xa2\\xd1\\x04\\xb4\\x8bHoB$M\\x92\\xd0\\x1b\\x99\\x90\\xd9ME\\xa2.W\\x14\\x8a\\xd7\\xb37?\\xd3q\\xc8\\xd8\\xde\\xd0\\x156\\x89\\x1f\\x91wm\\xa1&\\xf6\\xf0\\x1a@\\x87\\x16\\x81\\xa9!L\\xfd\\x82\\x99F\\x8b\\x92nM\\xc9\\xe3,6{Y\\x1c\\x8dr_]eu\\xa5\\x86\\xca\\xfdk\\xcc\\\\x\\x88\\xb9_\\xe2\\xd2\\x15>\\x81VF<DQ\\x91\\x87\\x11,\\x18\\x92H\\xb7\\x94\\x13\\xd3\\x1c\\xc0\\xfe\\xf4\\x98MgD&W\\xbb\\x1e^b\\x04\\xb5\\xfa\\xc7\\x9dP_2\\xde\\x02\\xd7\\xf3\\x80\\xf8\\xc4~U\\x0b\\xd4f}O\\xd2m,\\xa0K\\x86\"\\xc5\\xac\\x8bq\\x9b\\x1be\\xd0k=\\x0b\\x0c2\\xc8\\xe6E\\xef\\xe3\\xcay\\xcb\\xa97$\\x93\\xd4\\xe7:=\\x89\\xb4\\xd8n\\xa3h\\x80(n h/\\xcf]f\\xf1I{5\\xe3\\xa4\\x8e\\xd2\\x8d0\\x15\\xd9\\x9c\\xe9eQ\\xc0\\x8d<M\\xe38Tf\\n\\r\\x86Y\\xb1\\xd0D\\xb0\\xc6\\xf2\\xc2\\x9a\\x0b\\xdb^bnj\\xab\\x0c\\xa2.\\x01\\xb5\\xa1\\xd0I*@ck\\x8ah\\xcf\\xad\\xb4\\xeaN\\x92i\\xe0\\xea\\xba*v\\xe5[\\xb0^Y\\x91+CMTr\\xc4\\xb3\\x1c\\xcefG0f\\x14\\xbc\\xbb8.\\xb6\\xb4\\xd3\\xae\\xf6V\\x88\\xe2\\xb6h2\\xcd\\x01\\x1d\\xebM%\\xdb33k\\xf4J\\xa6\\x8e~\\xa6\\x06\\xc3)k\\xd9}\\xa2Q\\xbe\\x13h\\xc6\\xeb\\xe3\\xcb\\xceG\\x13L\\x83\\xd2T\\xe227\\x11\\xcd=6\\x9b\\xd3\\xd4(\\xb3\\x0b[N1\\xd0\\xe6\\xf7\\xe1\\xf5\\x9eo\\x80\\xed=Z`\\x06\\xef\\xaf\\\\\\x8f\\xaf\\x19wO\\xb6t\\xc0\\xb8\\x0c\\x0f\\xed\"\\xff\\x001\\x94\\xea\\x9aC}\\x9d\\x8b\\x9b\\xfd>\\xd08\\x9aw\\x17\\xe2%\\x0e\\x1b\\xb5\\xf8W\\xfc\\xe5\\xd0\\xdb\\x8a\\x92/\\xd2\\xd1\\xfa]\\xa1\\xc31\\xdd\\x15\\x90\\x93\\xcc\\xd8\\xf8g/\\xc92{F\\x83\\xc5\\xb1\\xd5\\xd5A%\\xac-\\x9d\\xf9s\\x89m]\\xac\\x94\\xaew\\x86\\xb9\\rI\\xf0\\x1cg\\x11\\xb4\\xf6\\xb3\\xd5\\'\\x82\\xf0Q\\xc7\\xc6f\\xe8\\xb4\\xb4\\xdfh6\\x8f\\xc6{);\\x8a,8\\\\\\xdf\\xf3ZU\\x8asp\\x8b%\\x96\\x05\\x92j\\xd0\\xae$\\x18\\xc9\\x19\\x136L\\x8e\\xf4\\xdd\\xe3\\x02+x\\xc7\\x08\\x10\\xc2M\\xaa\\x01!\\x89\\x99n\\xb3 ~$\\xc8c\\'\\x06\\xa8o6\\x82:\\x98c\\xc7+\\xc9\\xe1\\xd1Y\\xd5n\\x14\\x1f/(\\\\MM\\xe6U\\x1f\\x95=\\xe6.\\xf5\\xe1\\x93\\xbf\\xd0\\x16\\xc2\\x11\\x9eFiP\\xa9\\xb86\"8\\x9aE\\xdf[g+Bk}\\x8c%E|\\xc9\\n\\xfcy\\x18\\xbe#\\x0e\\xc3\\x87\\x98\\x80l3\\xdf(DJ\\xa3Co9\\x9b\\xe3[\\xa9\\x95\\x88V\\xa2t\\xce\\t\\xa9\\x1b\\xe6\\x08\\x96\\x8dU\\xf8\\x85\\xbf;\\t\\xa6\\xa8\\x7f\\xa2RL\\n\\xcf\\x80\\xc4YT\\xf8\\xc6p\\xb4Y\\x08&\\xc0q\\xb9\\xce\\xdca\\xaa\\xb1\\xe6`/-&5%\\xd6\\x03l\\x9agw6N\\x17\\xd4y\\xf1\\x968^\\xd5Y\\xbb\\xe9\\xba\\xbc\\x087\\xcb\\xac\\xe5w\\xe1p\\xf6c\\xb9k\\xdfO\\x19UNg\\xa7\\xe8\\xbdk\\xd1\\xe8t\\xfbAE\\xd7yZ\\xf7\\xe8e&\\xd0\\xc7\\xb5W\\x03D\\\\\\xc0\\xfa\\x98\\x96\\xcf\\xc2\\x14RH\\xe8\"8\\xdciF \\x0c\\xcd\\xb3:yNe\\xcfWy\\xf4+\\xaas\\x85\\xb3\\x11i\\xac?|\\xd8J\\x8a\\x1bD\\xbft\\x8d|\\x8f\\x94w\\rYS\\xf2\\xbb!\\xea\\x81\\xc7\\xbc\\xda\\xad\\x18(\\x7fe\\xae!\\xf7F\\xe4\\x1a\\xbeZD\\\\\\xd7c\\xbc\\xa5*\\x0e;\\xb6\\x0c<P\\xe7 \\x98\\xe3\\x98\\xb8\\xb8\\xc8\\x82\\xb6\\xb1\\xe4b\\xf2X\\x1e\\x0cr\\xba\\xef\\x03)14\\xb2\"Z\\x9a\\xecyE14\\x99\\x86\\x96<\\xf5\\x92\\xe9h)h\\xa4\\x03\\x84\\xd1\\x10\\xb50\\xae\\x0e\\x97\\xf0\\xfb\\x1c\\xe4\\x17\\x0c\\xe7\\xf4\\x99\\xbc\\xdc\\xfe\\xcde\\x902\\x04F\\xbf\\xfc\\xf7\\xe4=f\\x8e\\xcf~\\x9e\\xb2\\xfc\\xe7\\xf6V\\xa1V\\xb9\\xcc\\x9b\\x9eg3\\x06Df\\xa6\\x15\\xd7U\\x8b1\\xb4i\\xa7\\xe8zb\\x88P \\xc3I\\x06\\x80\\x1ba\\x00\\xe20L\\x1b,\\x06-0\\xb41H2\\x90\\x00L\\xd0L\\xc60\\xd4\\xe0\\x9a\\x9c\\x03A\\xded\\x96\\xec\\xc8\\x01\\xd1\\x1a@1\\xce\\xea\\r\\x81\\xb5\\xbeP\\xcam2d\\xe1G(\\xd8\\xc35\\x81\\xb0\\x17\\xeb\\x16u\\x992h\\x9b\\x1a\\xf4\\x0b|\\x8e2?\\x8c\\xcc\\x0c\\xf3\\xe32dL\\xa4i\\xeag\\xcf\\xac\"\\x01\\x96z\\xcc\\x99%\\x14\\x07\\x1a\\xa5s\\x1ar\\x95\\xed^d\\xc9\\xd1\\x1d\\xae\\xcb\\x9fF\\x96\\xa11\\x9c;w\\x97\\x9d\\xc7\\xbc\\xc9\\x91\\xdf\\xa2Y\\xd8\\xe2\\xaa\\x80\\x9ap\\xceW\\xe2\\x1dj*\\x8bn\\x95\\xd1\\x80\\xcf\\xcf\\x98\\x992y\\xdcIh\\xed\\xbc*\\xaa\\xa3\\xab\\x0b\\xda\\xc3\\xbc,\\x00\\xfecX\\x17\\x0cX\\xf5\\x19yp\\x992k^\\x82B%B\\xc5\\xacmn=u\\x8f\\xe1\\xb6\\x91Q\\xb8\\xff\\x00\\xabPI`O\\xeeS\\xa8>3s \\x81\\x8ab+2\\x91UT\\x1a,m\\xaea\\xb47S\\xcf\\xa7\\xca5N\\xc4ok\\xe1\\x94\\xdc\\xc9TI\\x85E\\xbf\\x8f\\xb4Z\\xad5\\x0e\\x14\\x93\\x98\\xb8\\xe3\\xe8xL\\x99 L\\x0e#\\x04A\\xee5\\xc1\\x17\\x17\\xc8\\xeaE\\x8f\\x0e\\x11\\'\\xb8`\\xbe\\xb3&JD\\xa2\\xd7\\x0c\\x8bo\\xcb\\xeao\\x16\\xc5\\xe1\\x11\\x88\\xb0\\xd6d\\xc9\\xac\\x0f\\xe8N\\xae\\xc9\\xca\\xea|\\x8c\\xad\\xa9H\\x83c2d\\xde[h\\xb8m\\x98\\x16ovd\\xc9f\\x84\\n\\xc8\\x912d\\x00\\x89\\x90a2d\\x04Cvd\\xc9\\x91\\x08\\xff\\xd9'\n"
     ]
    }
   ],
   "source": [
    "f = open('C:/flower.jpg','rb')\n",
    "print(f.read())\n"
   ]
  },
  {
   "cell_type": "code",
   "execution_count": 20,
   "id": "18d2eeb6",
   "metadata": {
    "scrolled": false
   },
   "outputs": [
    {
     "name": "stdout",
     "output_type": "stream",
     "text": [
      "b'\\xff\\xd8\\xff\\xe0\\x00\\x10JFIF\\x00\\x01\\x01\\x00\\x00\\x01\\x00\\x01\\x00\\x00\\xff\\xdb\\x00\\x84\\x00\\n\\x07\\x08\\x15\\x15\\x15\\x18\\x15\\x16\\x15\\x18\\x18\\x18\\x18\\x19\\x18\\x18\\x18\\x15\\x19\\x18\\x18\\x18\\x18\\x19\\x18\\x18\\x18\\x19\\x19\\x18\\x18\\x18\\x1a\\x1c!.%\\x1c\\x1e+\\x1f\\x18\\x18&8&+/1555\\x1a$;@;4?.451\\x01\\x0c\\x0c\\x0c\\x10\\x0f\\x10\\x1a\\x12\\x12\\x1e4+!$44444444444144444444444444454444444444444444444414\\xff\\xc0\\x00\\x11\\x08\\x00\\xb7\\x01\\x13\\x03\\x01\"\\x00\\x02\\x11\\x01\\x03\\x11\\x01\\xff\\xc4\\x00\\x1b\\x00\\x00\\x02\\x02\\x03\\x01\\x00\\x00\\x00\\x00\\x00\\x00\\x00\\x00\\x00\\x00\\x00\\x03\\x04\\x02\\x05\\x00\\x01\\x06\\x07\\xff\\xc4\\x00;\\x10\\x00\\x02\\x01\\x02\\x03\\x05\\x06\\x04\\x06\\x00\\x05\\x05\\x01\\x00\\x00\\x00\\x01\\x02\\x00\\x03\\x11\\x04!1\\x05\\x12AQa\\x06\"q\\x81\\x91\\xb1\\x13\\xa1\\xc1\\xd1\\x142BR\\xe1\\xf0$br\\xa2\\xf1\\x07#C\\x92\\xc2\\x15\\xff\\xc4\\x00\\x19\\x01\\x00\\x03\\x01\\x01\\x01\\x00\\x00\\x00\\x00\\x00\\x00\\x00\\x00\\x00\\x00\\x00\\x00\\x01\\x02\\x03\\x04\\x05\\xff\\xc4\\x00&\\x11\\x00\\x03\\x01\\x00\\x02\\x02\\x02\\x02\\x01\\x05\\x01\\x00\\x00\\x00\\x00\\x00\\x00\\x01\\x02\\x11\\x03!\\x121\\x04A\"Q\\x13\\x14aq\\x81\\x912\\xff\\xda\\x00\\x0c\\x03\\x01\\x00\\x02\\x11\\x03\\x11\\x00?\\x00\\xf2\\xa6\\xc2\\x81\\x04\\xf4-\\xa4\\xb0\\xacb\\xd5\\x1cL\\xf4\\xa1eI0\\xb0\\xca$\\\\E\\xa3\\x02^kzE\\xe0\\xc3JHZ\\x1c\\xbc\\xd0x\\x12\\xd2K\\x0c\\r\\x0e\\x86\\x1c\\x18\\xbd8`d1\\x8ca\\x16\\xed,\\x82D\\xf6z\\xf1\\x96$e2\\xa7\\xd9H\\xad\\xc6E\\xc4>4\\xe7\\x02\\x04\\xb5\\xe8L\\x90\\x13\\x08\\x9b\\x13p\\x03x\\\\3\\xd4uD\\x1b\\xcc\\xc4\\x00\\'M\\xb6\\xbb\\x1ci!t}\\xf23d6\\x01W\\xfdD\\xf0\\xceXv\\x03f\\xee\\xab\\xe2Xk\\xdcK\\xff\\x00\\xb9\\x87\\xb4\\xb0\\xedEB0\\xef\\xcc\\xa3\\x9f\"m\\xed!\\xd3\\xdcE)\\xd5\\xa7\\x99\\xdaH\\t\\xa5\\x98&\\x84\\x9b\\xb4\\x90\\x13@I\\x85\\x89\\x81\\x12d\\x0b\\xc22\\x18?\\x86`\\x81\\x84\\xa4\\xbca\\xb7\\xa4\\x10ZF\\xa3\\xc6K\\xec\\x8dW\\xbc6\\x16\\x9c^\\x8a\\xdc\\xcb*I\\x13\\x06b\\x89\\xa5\\xa5s&\\xe6\\xd2t\\xdaC}\\x19\\xb6+U-\\x00\\x04o\\x13\\x12C\\x9cR5]\\x18\\xc9h=\\xfbF]\\xc5\\xa25\\xdb\\x94\\xd9\\r\\x06\\xfcL\\xdcF\\xc6j<(%V\\xeb\\x17V\\x9b\\xa8\\xf2\\x0b).\\x862*H\\xb3\\xc1\\x834LX\\x06\\x98\\xc1\\x95\\x84\\x99\\xbb(@\\xa1\\x16m\\x92m\\x04\\x1b\\x00\\x89\\n\\xa6\\td\\xc9\\x90\\xd0ie\\x81l\\xa3\\xc5\\xb2\\x958G\\xb0\\x8f\\n\\x93\\x1a]\\x96\\x98\\xbe ]\\xa4wf\\xdc\\xe7\"L\\xa4\\x04Z1\\xb30\\xadZ\\xaaS]]\\x80\\xf0\\x1cO\\xa4U\\xe7\\xa4v\\x07\\xb3\\xff\\x00\\r\\x06%\\xc1\\xdfq\\xdcS\\xfaP\\xe8|N\\xbe\\x16\\x972\\xeb\\xd1-\\x9d\\x1d\\x1c\\x06\\xea-4\\xb0E\\x01A\\xf0\\xe3np\\x1bW`-uewe\\x0c-\\xdd\\x03!\\x97?\\tpmi\\x12f\\xd3\\xc3(\\x9a\\xe4~\\x91\\xe6\\xfb\\x7f\\xb1f\\x90\\xdf\\xa2Y\\xe9\\xaa\\x12\\xf7\\xb1u*3 \\x0b\\\\\\x1f\\x94\\xe5BOq\\xdf\\xcb9\\xcbm\\xde\\xc8\\xa5K\\xbd\\x0b#\\x9c\\xcah\\x8d\\xe1\\xfbO\\xcaM\\xf1}\\xc8M\\xfe\\xcf:JQ\\xb5\\xc1\\x91\\xad\\x87\\x8c\\xb8\\xc3\\xec\\x0cB\\x12\\xcfE\\xc6\\xe8\\xcb+\\xe7\\xe5*qA\\xb7\\xbb\\xe0\\x86<\\x08#\\xder[\\xa9y\\x81\\\\\\x99\\xe8\"\\xe1/\\xca\\r\\xf0\\xb6\\x82/\\xbb\\xc4\\xc7\\xb0\\xf5\\x83\\xa9\\xcf1\\xf3\\x92\\xa9\\xfd\\x84\\xf2y<eUZ$E\\x19L\\xba\\xa9J\\xf1g\\xc3\\xcdU\\x17\\x82\\x98d\\x8f\\xac\\x85:q\\xa4L\\xa3l\\x8c\\xd6)V\\xe6A\\x0cw\\xe1H-\\x1c\\xe4h\\xeaz\\x15\\xa8M\\xa2\\x83YkR\\x84\\xacqf\\x8d\\x10\\x91\\xb6\\xa7\\xc6-PGT\\xe5\\x16\\xc4\\x89R\\xfb\\x04\\xc0\\xdad\\x8e\\xf4\\xc9e\\n\\xb2\\xc8\\xee\\xc6\\x99 Ye\\xa6Q\\xa10\\xac\\xc5\\x12w\\x80\\x03U\\x93\\xbc\\xdc\\x89\\x80\\x11\\xb4\\x90HD\\x10\\xc1blX.\\x04\\xd9XVI\\x12 \\x01\\xf0\\xc7(\\xda\\x98\\xa50M\\x80\\x04\\x9e@\\x12}\\x04\\xe8(vS\\x18\\xca\\x18R\\xb06\\xc9\\x99C\\x00x\\x90N^y\\xc9\\xf1o\\xd0\\xf7\\nW9\\xc8\\x19w\\x8d\\xec\\xa6.\\x9e\\x7f\\x0c8\\xff\\x00#o\\x1f\\xfdr?)E[y\\x0e\\xeb\\x82\\xa7\\x93\\x02\\xa7\\xd0\\xc3\\xc1\\xa0\\xd3\\xae\\xec_fF!\\xbe5A\\xff\\x00mM\\x95\\x7f{\\x8e\\x7f\\xe5\\x1f=9\\xcfL\\xdd\\xb0\\x9c\\xef`q(\\xf8D\\nsB\\xca\\xe3\\x93o\\x16\\xf6`|\\xe7Lr\\xe3y\\xd12\\x92\\x13\\x04\\x0c\\x89k\\x1e\\x93n\\xfcb\\xd5*\\xca3\\xc0\\xaef\\xe9>w\\x8b\\xfcI\\xb5h\\xd0ad^\\xf2\\xabm\\xe0i\\xd5K:_\\x93\\x0f\\xcc\\xa7\\x980\\xc9_\\x846\\xf8h4\\x9fL^\\'\\x92m]\\x9c\\xf4\\xdc\\xa3\\xe7l\\xc3~\\xe5\\xe0D_\\x0ewXZz\\x0fi\\xf6n\\xfd6`.\\xeb\\x9a\\xdb_\\xf4\\xf8O>zD\\x1c\\xf2<G\\x19\\xe7\\xf2q9\\xac^\\x89\\xf42jX\\xdai\\xdcEq\\x95,\\xf6\\xe8 EX\\xb0\\xe9\\xde\\x87\\x10\\xc6U\\xa5z\\xbc\\x90\\xad\\x06$>\\xcf5KX\\xa2T&2\\x8fh`S\\xe8b\\xaa\\xe5(\\xf1\\xa9\\xc6[\\xbd|\\xa2\\x15\\x85\\xe5i\\x92\\xe8\\xafJ\\x99In\\xdei\\xe9X\\xcd\\x83\\x04\\x86\\x03vd\\x91\\x13%\\xe8\\x02\\x06\\t\\xc4\\xb0\\xc4\\xe1\\xb8\\x88\\x93\\tR\\xf4\\xbd\\x173W\\x85e\\x93Jr\\x86\\x00M\\x85\\x8c|9\\x81!\\xa0\\x0fIq\\xb2v\\x0e\\'\\x11\\x9d:d/\\xef~\\xea\\x1f\\x02G{\\xc8\\x19\\x7f\\xd8\\xfe\\xcb%P+\\xd7[\\xa7\\xe8C\\xa3[\\xf575\\xe48\\xcfBAk\\x01`\\x05\\xadl\\x80\\xb6\\x9eR\\xe67\\xd8\\xd4\\xb6pxN\\xc10\\x04\\xd6\\xac\\x07!L_\\xd4\\xb5\\xbd\\xa0\\xb1]\\x83\\xa8lhTGRFM\\xdcp\\x0eD\\xf26\\xf1\\x13\\xd0\\xd8\\\\Fpt\\x80\\xcf\\x8f\\xb4\\xb7\\xc4\\xb0)$\\x8a\\xbd\\x85\\xd9\\xd5\\xc3S\\x08\\x9b\\xbb\\xc77\\x7f\\xd4\\xe7\\xed\\xc8K\\xa1H\\x8e7\\xe9\\xcaH\\x89\\xa3-J1\\xd6\\xc51\\t\\xfc\\x18\\x85zh\\xf9:+p\\xbb(>\\xf2\\xd6\\xa2\\xde!V\\x94<M$\\xa9\\xc3P\\xa7\\x86ri\\xa0M\\xeb\\x16\\nl\\x8d\\xc8\\xdbK\\xf5\\x12\\xe2\\x86,6z\\xfb\\x88\\x8e&\\x98+k\\x1b\\xde\\xfb\\xd7\\xd3\\xca\"\\xb5J\\xb7.\\x16\\x1a\\x7f1\\x1b)\\xd4to\\x9f\\x84E\\xd2k\\x07\\x8c\\r\\x97\\xfc\\x18J\\xcd\\x9f\\x8f\\xd2?\\x1d#\\xc1\\x8b\\x1dc\\x0b\\x02a\\x15\\xb2\\x8f\\xc4Nz4\\xcfc\\x0bA\\xed\\x00\\xc2O\\n\\xf9\\x93\\xcb!\\xf5\\x91\\x84\\xf8\\xe9d(\\x83\\xad\\xe5v\\'\\xb38j\\x8c]\\x90\\xef\\x1dX;\\x0f\\xad\\xa3?\\x8a\\xcfY/\\xc5\\xc1\\xf8\\xbe\\x99\\x9dI\\xce\\xed>\\xc2Q{\\x94wF\\xe1{:\\xf9\\x8b\\x03\\xf3\\x9c^\\xd6\\xec\\xed|6n\\xbb\\xc9\\xc2\\xa2\\xe6\\xbe|W\\xcez\\xba\\xd5\\xber,\\xe8A\\x070r \\x8b\\xdf\\xa5\\xa4W\\x1c\\xb5\\xd7@\\xa9\\xa3\\xc6Vl\\x0b\\xcb\\xee\\xd4l/\\xc3\\xb0t7\\xa6\\xec@\\x1cP\\xea\\x14\\xf3\\x16\\xbd\\x8fIINs9\\xc7\\x8c\\xd2_A\\x15f\\x99\\xe4\\xef\\x94\\x0b-\\xe2\\x1eh/\\x88o\\n\\xaf\\x06\\xc9h2\\xd0\\xc2(+\\x8b\\xc1\\x8aw\\x9aW\\x87\\xa4\"\\xc1$+\\xf8v\\x99,wfE\\xa3\\x08\\x88\\x18J\\xfcf\\x0e\\xd9\\x88\\xde\\x02\\xbd\\xc6r\\xc1\\xe9\\x06\\x11*r\\xc9\\xdf\\x13\\x92e\\xb1\\xce\\x15e\\xdd}\\x9d~\\x11\\n\\xf8\"&\\xca\\x93)Zb\\xc4_My\\x0c\\xfd\\'w\\xd9\\x8e\\xc4\\x8b-\\\\O\\x1b\\x15\\xa3\\xec\\\\\\xff\\x00\\xf3\\xeb\\xcak\\xb0\\x9d\\x9f+\\xfe&\\xaa\\xe7\\xff\\x00\\x89H\\xe1\\xfb\\xfd\\xc0\\xf5\\x9d\\xe03i\\x9f\\xb6Y\\x06@\\x00\\x00X\\x0c\\x80\\x02\\xc0\\x0e\\x16\\x12\\x17\\x12n\\xf1j\\x95&\\xe9\\x9aOa\\x8dA%C\\x12\\x01\\xcfI\\\\\\xf5m\\xc6)S\\x11\\xacxl\\xb8|\\x96\\x1dJ\\xb89\\x83\\xe76\\x0c\\xa1\\xd9[]Tn6\\\\\\x9b\\xef/\\x11\\xef\\x982N^N*\\x8a\\xc6c@\\xba\\x83\\x19\"\\xf0N\\x92\\x93&X\\x8dJR\\xb3\\x17\\x84\\xe5/X@\\xd6Qn\\x11\\xf8\\xa6tC9v\\xc4nwNG\\x9f^\\x91\\x9a\\xb8\\xf0\\xebpF\\xf0\\xb6\\xf0\\xbe\\x87\\x81\\xe8\\x0c\\x8e\\xd5\\xc2\\xa3\\x0e_\\xde\\x13\\x93+R\\x85r\\xccG\\xc3}\\xd5,Ow\\xba,\\x03\\x1bwu6\\'+\\xda\\xe4\\x0b\\xc9i\\xc3\\xd7\\xe8\\xeb\\xfe79Mj\\xfb\\xfe\\xc7W\\x81\\xc6\\x12H\\'\\xc3\\xc8\\xff\\x001\\xfau\\xc1\\x1f\\xdeS\\x9d\\x0e\\x14\\xe4\\xc0\\x8e\\x0c\\xa42\\x9e\\xa1\\x86Du\\x19BQ\\xc5\\x10\\t\\x079\\xafL\\xe9\\xe5\\xf8\\x8a\\x97\\x94\\xfd\\x97\\xf5\\xea\\x805\\xfe\\xf1\\x90j\\x9b\\xabs\\xe3iM\\x82\\xc5o\\xb3\\x17=\\xc4\\xff\\x00spQ\\xee|\\xb9\\xc6\\x85m\\xf0m\\xa7\\x0b\\xfb\\x99\\x9d/\\xd1\\xe7rp\\xb9\\xdf\\xec4\\x98\\x90x\\xe7\\xa9\\xfaM\\xfe(_\\x9fO\\xbcG\\xe1\\xc9\\xa2r\\x983\\x95\\x96\\x0b\\x89\\'/\\xef\\xac2\\xb73\\x11Ao\\xb7\\x08\\xc2\\x11\\xc6$\\xc8h\\x1e\\xd9\\xc2\\x8a\\xb4\\x1e\\x9f\\x16^\\xef\\x1e\\xf2\\xe6\\xbf1<\\xad\\x1c\\x8dg\\xb2S \\x8d-<\\x9b\\xb4\\xb8o\\x85\\x89\\xaa\\x80\\x107\\xb7\\x80<\\x9c\\x06\\xf4\\xb92mu\\xa1>\\xf0\\x00\\xab\\x0c\\xad\\x10H\\xca\\xb4\\xc5\\x9ahJ\\x8f\\x00fUy\\x14\\x82Bh\\x90Y%{L\\xb4\\x03\\xdc\\x18`\\xc7?\\x132#y\\x90\\xf1\\x00\\xb8v\\xdd\\x97\\x98<E\\xf5\\x94m\\x19\\xc2T\\x85N\\xa2*u\\x1d*\\x00D>\\x07f-Z\\x8a\\xa4\\x12\\xba\\xb5\\xad\\xf9G>\\x84\\xd8y\\xca\\xba5r\\x9d\\x17e*o;\\xf4U\\xf1\\xcc\\x9f\\xb4\\xcf\\x8f\\xff\\x00I\\x18J\\xfc\\xb0\\xea\\xceB\\xdf.\\x10l\\xd3l\\xd9E\\xdd\\xc5\\xe7n\\x9di\\x05/\\x03P\\xcd\\x17\\xe9\\x16\\xae\\xfd>r\\xa5\\x9b\\xf1\\xce\\xb1\\\\K\\x81\\xc6U\\xd6\\xc5\\xea8\\x8f\\x9c\\xd6\\xd0-\\xfd2\\x9a\\xa6\\xf0\\xd6\\xfd%\\xba\\xc3\\xd8\\xe1\\xe1X\\x98\\xe5\\x0cFl\\x0f\\x00H\\xf2\\xcf\\xda\\xfe\\x91\\xfd\\x97\\xda\\n\\x94\\xc6\\xe1\\xb3/S\\xa0\\x9c\\xa6+\\x19\\xc0\\xeb16\\x85\\xda\\xc4[\\xc7\\xe53\\xfeE\\xb8i|\\\\uNk;\\xcf\\xfaz\\x96\\xcf\\xdb\\xc8\\xe4\\x02\\x08&^!V\\x19\\x1b\\xcf\"\\xc1b\\x99\\x1dZ\\xf9\\x02\\t\\xf0\\x9e\\x80\\xb8\\x82\\xa0:\\x9c\\x98_\\xa4\\xb5Zy?3\\xe2.:^>\\x99r\\xf4\\xe5n>\\x91##\\xf2\\xfed\\xe9m\\xa5\\xd1\\xc5\\xbc\\x05\\xe4\\x9f\\x14\\x1cwA\\xf1#\\xd8M%\\x9c\\xdcj\\xa2\\xb4\\xe5\\xb14\\xddo{\\xdaVW}o\\xfd\\xf2\\x9d\\x06\\xd1VmnG\\xa7\\xb4\\xe7\\xf18e\\x1f\\xa3\\xde]kG\\xb9\\xc1\\xc9T\\x97H\\xa1\\xf8\\xb6o\\x86\\x87tf@\\xd4\\x0e$(\\xe1\\x9f\\x08\\xdd<i[\\x07\\xbf+\\xda\\xc7?28k\\x05\\x8c\\xc1g\\xbc\\x99\\x11\\x9d\\xe5y\\xabQ\\xec\\xa4\\x0c\\x8e\\xa0X\\xe4x\\xce\\x16\\xeeo\\xafF\\xb4\\xeaZK\\xd7\\xeb\\xe8\\xe9>0 \\x01\\x90\\x1a\\x0f\\x9c{\\x01\\x88\\xce\\xd7\\xf2\\xb7\\xdeSRB\\xa0_1\\xcf\\xef\\xca]\\xec\\xea`\\xe7\\x95\\xf9\\xe5;\\x13\\xd5\\xd9\\x87\\xc9S\\xe2\\xcb6\\x17\\xfe\\xfd\\xa6\\x81#\\xf8\\x10\\xe1\\r\\xb4\\xf3\\xb4\\xcb\\x1e7\\xf4\\x99T\\x9e\\x1d\\xa0j\\xf6\\xfea>/I\\x97\\x1c}\\xa6Xr\\xf7\\x99\\xe1\\x93\\x0bB\\xa6y\\x9bN#\\xfe\\xa0\\xe1\\xedY*\\x01\\x93\\xa6\\xef\\x9a\\x1f\\xb3\\x0fI\\xd9\\x04\\xe9(\\xbbqG\\x7f\\x0e\\x8c5G\\x17\\xbf&\\x04e\\xe7h\\xab\\xd1+\\xa6phaK\\xc8\\xa2Le\\x984Z\\x04\\xcf1^HS\\x93\\xf8pHd\\xd4\\xc8U\\xceb\\xdem\\x84\\xac$[zjc$\\xc8`\\xf4i\\x90\\x99\\x94\\x85\\x8ce-\\x03R -)6R\\xd3\\xb3x\\x82\\x95\\xcef\\xc5M\\xc7<\\xc6\\xbe\\xf2\\x8f\\x0bR\\xe2\\xd2\\xc3\\x01\\x87.\\xe0\\x83m\\xde\\xf1 \\x90l5\\x00\\x8ew\\x913\\x94g\\xe3\\xdfGx\\xf52\\x04\\x9b\\x83&*\\x03\\xa6S\\x9d\\xa8*\\x0c\\xd5\\x8d\\xb5+\\xa8\\xb7@x\\xc9&\\xd3`\\xd9\\x00[;-\\x88\\'\\xad\\xaf\\x90\\x9b7\\x8f\\x19\\xd9)4]\\xd4\\xab`N\\x96\\x1a\\xf2\\xe5\\xe6e\\x06\\xd3\\xc58\\x05\\x8d\\xc0\\xe8\\r\\xcf\\xa4f\\x8e\\x10\\xb9\\xderKu\\xd0xK\\x13\\x83@2_>&Z\\xd7\\xe8\\xb5.\\xbaO\\x0f=\\xc4c+\\xb9\\xeeS`9\\x91o\\x99\\xcaB\\x9e\\x16\\xaf\\xe6j\\x85y\\xa87\\x1f<\\xbeS\\xb6\\xc5a\\x06\\xa4y}\\xe5\\x0e&\\xc4\\x90\\xa3)_\\xc5\\x9d\\xe9\\xe8\\xfc_\\x87\\xc6\\xbf6\\xdb\\x7f\\xe4\\xe7j9Z\\x97+\\xbd}>\\xfc\\xa6\\x12\\xd5\\x1f|\\x8b\\x0c\\x86@\\x01\\xe7h\\xd6\\x15\\xd6\\xab\\xb1\\x03%\\xee\\x83\\xcf\\x99\\x8e\\xa5;p\\xff\\x00\\x89\\x8a\\xe3^Zt\\xc7\\x1c\\xdf\\xe6\\x9f[\\xd7\\xfa!Hs\\x9d\\xd7e\\xf1\\x1b\\xe9\\xf0\\x9f\\x80\\xba\\x9e\\x9c\\xa7)\\x83\\xd9\\xea\\xe7\\xba\\xc5\\x0fQu\\xfe\\']\\xd9\\xed\\x9e\\xc8K1S\\xc0Z\\xff\\x00Y\\xbaXa\\xf3\\xee\\x7f\\x8d\\xaa\\xf7\\xf4X6\\xcf\\x00\\xc6\\x12\\x9d\\x85\\xa3`\\xcd0\\x13Yg\\x85\\xe6\\xdf\\xb1\\n\\xd4\\xb2\\x94[K\\x0e\\x00&t\\xce\\x91,^\\x0c8\\xb7Y\\xa4\\xb3\\xab\\x83\\x9f\\xc2\\x96\\xb3\\x8b)s\\xa4S\\x17\\x80(\\xdb\\xd6\\xb0r\\xde\\xa0\\xe7\\xee\\'^\\xfb\\'\\xbdq\\xc2+\\xda\\x0c#\\x95B\\xa3\\xb8\\xb7\\xde\\xe8M\\x80\\xf2\\xd6\\x15)\\x9e\\x8b\\xf9sT\\xb1\\x9c\\xe21\\\\\\xc4\\xb3\\xd9\\xd8\\x94\\xbeb\\xddG\\xd4@\\xfe\\x1f+\\x9f9\\xba8b\\x0f\\xb7\\x84K\\xa1rsMKL\\xe9iP\\x0c.\\xaf\\xf2?C\\x0e\\x98_\\xf3\\x9f!\\xfd1,\\x12\\x91\\x9f\\xb1\\xb1\\xfee\\x8a1\\xe7\\xf2\\xfbH\\xa6x\\xfc\\x8f\\xb0\\xa9\\x83\\x1f\\xbc\\xfaAV\\xa2\\xc9\\x9d\\x83\\x0fHT\\'\\x8b|\\xe3Ib9\\xf9\\xdcD`\\xd8\\x828\\xe2\\x92\\xa7\\xb6\\x1b\\x87\\x0c\\xdc.\\xc8\\x00\\xe7\\xde\\xbf\\xd2X\\xe3\\xb0\\xe5\\r\\xc1\\xb0\\xe1}<\\x0c\\xe6{E\\x8a\\x1b\\x812\\xbb\\x1b\\x9b\\x1b\\xd8\\x0e\\xbe?Y\\x95\\xf4\\x98%\\xac\\xe3\\xdd$\\x058\\xe5@$B\\xdas\\xc9\\xa3\\x02\\x94m1\\xd2\\x18\\xb8\\x8bU\\xab,\\x00\\xd4 H\\x93\\x94\\x8b\\xb5\\xe6X\\xda&N\\x02\\xde\\x99 T\\xcc\\x86\\x80\\xd3\\xbd\\xa2\\xc6\\xa9&\\x13\\x15\\xacge`\\xcb0b;\\xbf?\\x9c\\x8f%+XU)F\\xf0\\x9d\\xdc\\xcf\\x90\\xfa\\x99\\xd7vz\\x89)\\xbes\\xdf:i\\x92\\xdcXy\\xdeR\\xe3\\xb0\\x8a\\xaa\\n\\\\\\xb5\\xc0\\xdd6\\xcc\\x93akN\\xdff\\xe0Y\\x11QSx*\\xf7\\x9a\\xe0\\x0e\\xa4\\xdf\\x99\\xbc\\xae\\x1c\\xbao\\xf4D7U\\xa4\\x96\\x85\\x86r/\\xba\\xa0\\x93`\\x00\\xb9\\'\\xfb\\xac%Ry\\x83|\\xee3\\x12\\x04x\\xdf]m\\xa6\\x93\\xab\\xc4\\xeaH\\x1d*\\xf7\\x05\\x806\\x16\\x04\\x95\\xb5\\xaf\\xa4a+\\x8e&\\x05\\xb0KR\\xce\\xed\\xbeFAN`[\\xa4\\xd5L*1\\x01\\x07x0\\xbb\\x0b\\xdbv\\xda\\x11\\xa5\\xf4\\x826\\x8aK\\xd9\\x98\\xa4,2\\xe3)v\\xa6\\x10\\xa5\\x1a\\xae5\\x08m\\xe2r\\xfa\\xce\\xa5i\\xd8[\\x94\\xac\\xedU?\\xf0\\xb5\\x00\\xd5\\xb7@\\xf1.\\xa0GO\\xf1gG\\xf54\\xa5\\xcc\\x9c\\x1e\\xc8R\\x17O\\xcc\\x7f\\x8f\\xa4\\xe9h\\xe1\\x01Px\\x8f\\x9f9UB\\x96\\xee\\xe8\\xe5.0\\x95M\\xad\"RK\\r\\xf8y\\x9c\\xc2\\x95\\xf49\\x84\\xc1\\x05#\\x96\\xb7\\xe5:\\x8d\\x9eA\\x00r\\x948g\\x96T\\\\\\x8c\\xc4)\\x9c\\xbf.\\xdf\"\\xc2\\xf3rh\\xa4\\xab\\x1bX\\x03\\xbaN|\\xa1\\x97h\\xdeR\\xa4yni\\x0e\\xfc9\\xa6H\\xb0\\xc5^\\x11kG\\xe4-h\\x9e\\xe4\\xdf\\xc3\\x04i\\xae\\xb3\\x16\\xa5\\xe6\\xf7\\xa3\\xd0\\xf2e&;d\\x05\\xbb\\'\\xe5:\\xaf/\\xe2!O\\x0f\\xc3\\x97\\xb79\\xd53e)\\x9e\\x9d\\x9b\\x8d\\x81\\xce\\xda\\xda4\\xf4\\xday\\x1b]\\x83\\xa2\\x96\\xd3\\xd3\\xed\\x18\\x1b\\xdc-\\xe0r\\xf2\\xe9\\x04\\x17<\\xafa\\xa7\\x03\\xe3\\xd2\\x1e\\x99\\x1c\\xef\\xe3\\xad\\xfcd\\xb4E3a\\x8f\\x11ooQ\\n\\x97\\x06\\xfa\\xcc\\x03\\x97\\xac\\xc0\\xdc\\xc7\\xa4D1\\x82C\\x0b0\\x04\\x1e\\x07I\\xc2\\xf6\\xcbd\\x1aG\\xe3)\\xba1\\nG\\xec<<A\\x9d\\xa1\\xcbM<g9\\xdbLR\\x8c#\\x825(\\x17\\xa1\\xdf\\x16>\\xf2m\\'=\\x8e^3\\x83j\\x82\\x0e\\xad{J\\xdf\\xc4I\\n\\x97\\x9c\\xc9\\x1a\\xb1\\x86\\xc4@5Y\\x134VX\\x8d\\x87\\xce\\x1d\\x1a\\xf1`\\x90\\xaa\\xd6\\x92\\xc4\\xd9=\\xc9\\x92;\\xd3$\\xe1\\x1a\\xc7\\x13\\x07\\xb87\\x9c\\xf7\\x8f\\xe5Q\\x9d\\x8f\\xd4\\xce\\x8bg\\r\\xea(\\n.\\xf2\\xa8\\x17-m\\x06G+\\xe5\\x13\\xc2\\xd0\\xf8\\x8e\\xed\\xba\\x08B\\x05\\x8d\\xcd\\x81\\x00\\xdf/8\\xe5lR\\x8e\\xe0\\xb96\\xd1@\\xcb\\x80\\x1e3\\x1b\\xadxd\\xde\\xfb+\\xdf\\x10\\xc9Y7\\xd00\\x0c7U\\x0fw\\\\\\xecA\\xefp\\xf5\\xd0N\\xef\\x0f\\x8eJ\\xa2\\xea\\xca\\xdc5\\x19[\\x85\\xa7\\x03\\x89\\xab\\xba{\\xc3wt\\x15\\t\\x91oS\\xf3\\x80\\xc2\\xa1w\\xb96\\xe3\\x91\\xb0\\x1dM\\xb5\\x9aqr8[\\x9d\\x1aCh\\xf4\\xb7A\\x02)\\x0b\\xf2\\x1c\\xed8lV\\xd7\\xac\\xb9#\\xb0Q\\xcc\\xde\\xfds\\x89\\xb6\\xd6\\xc4\\x13sT\\xfa\\xdaj\\xbeRkp\\xd1Y\\xe8\\xbf\\x04\\x7fx\\xf8\\xc3!\\x03\\x90\\x9e\\\\\\xfbZ\\xbf\\x1a\\x8f\\xe4\\xd1j\\xb8\\xfa\\x8d\\x91w\\xf0\\xdei_\\xd4\\'\\xf4?\\xe4=[\\x15\\xb4iS[\\xbdES\\xd4\\x89\\xccbv\\xdf\\xe2\\xdc\\xa2\\x0f\\xfbHGx\\xea\\xefmz\\x00\\x0f\\xcep\\x0e\\xe7[\\x93\\xe2o;\\xad\\x8d\\x85\\xdcE[ga\\x7f\\xf5\\x1c\\xda5n\\x8b\\xe3\\xa7Le0\\xa0\\xf0\\x87\\xa5F\\xc67E-\\n\\xb4\\xa5\\xa3\\xaah\\xd6\\x18K:Q\\x1aIh\\xe2\\x18P\\xad\\x9c\\x87n\\x1d\\x90\\xa3+\\x11|\\xae5\\xe7)\\xf6f\\xdc\\xac\\x99\\xef\\xef\\x0eM:>\\xdb\\xe0\\xcdDKpl\\xfd\\x0c\\xe7(l\\x8b\\r\\'5<zq\\xdb\\xca:\\\\\\x07j\\x01\\xc9\\xc6\\xefQ\\xa4\\xb8\\xa5\\xb6\\x91\\x85\\xc3\\x89\\xc0\\xe20l\\xb9\\xca\\xe7sx.W\\xa6{\\xac\\xf5\\xba;EN\\x8c\\x0f\\x9cv\\x9e*\\xfaO\\x1dLK\\x8d\\x18\\x8f9\\xe8{\\x0b\\x15\\xbfM\\x1f\\xfc\\xa0\\x1f\\xf5\\x0c\\x8f\\xb4\\xe8\\x9b\\x1f\\x8a/\\xea\\xe2\\x87\\x0e2\\x0c\\x96?\\xdda0\\xe5O\\x01\\xd2\\x1c\\xa0\"k\"\\xdc\\x12\\xb6\\xe9\\xbf\\xceoyz\\x0b\\xf0\\x93\\xc4\\xa5\\xc6CB\\t\\x11:\\x95\\xd7MO\\x05\\xb1\\xb8=9EL7F\\xb7\\xacy\\xfd\\xa6\\xfe\"\\xb7\\xf7H\\x95\\xda\\xc3?\\x1c\\xe6\\x9f\\xbb\\xa6^\\x7f)\\x1a\\r\\x0c\\xb3\\x91\\xd4s\\x17\\x9e{\\xff\\x00P6\\x81wJ@\\xe4\\xa3y\\x876?\\x96\\xfe^\\xf3\\xaf\\xc7m\\x15\\xa6\\x8c\\xeel\\x14\\x12m\\xaf\\x85\\xba\\xcf(\\xc7\\xe2\\x9a\\xadGv\\xd5\\xd8\\x9br\\x1c\\x07\\x90\\xb0\\x91O\\xa1\\xca\\xecJ\\x1e\\x9c\\x1e\\xe4\"\\x89\\x06\\x81\\x84\\x98\\x10jd\\xb7\\xa2\\xd1\\x04\\xb4\\x8bHoB$M\\x92\\xd0\\x1b\\x99\\x90\\xd9ME\\xa2.W\\x14\\x8a\\xd7\\xb37?\\xd3q\\xc8\\xd8\\xde\\xd0\\x156\\x89\\x1f\\x91wm\\xa1&\\xf6\\xf0\\x1a@\\x87\\x16\\x81\\xa9!L\\xfd\\x82\\x99F\\x8b\\x92nM\\xc9\\xe3,6{Y\\x1c\\x8dr_]eu\\xa5\\x86\\xca\\xfdk\\xcc\\\\x\\x88\\xb9_\\xe2\\xd2\\x15>\\x81VF<DQ\\x91\\x87\\x11,\\x18\\x92H\\xb7\\x94\\x13\\xd3\\x1c\\xc0\\xfe\\xf4\\x98MgD&W\\xbb\\x1e^b\\x04\\xb5\\xfa\\xc7\\x9dP_2\\xde\\x02\\xd7\\xf3\\x80\\xf8\\xc4~U\\x0b\\xd4f}O\\xd2m,\\xa0K\\x86\"\\xc5\\xac\\x8bq\\x9b\\x1be\\xd0k=\\x0b\\x0c2\\xc8\\xe6E\\xef\\xe3\\xcay\\xcb\\xa97$\\x93\\xd4\\xe7:=\\x89\\xb4\\xd8n\\xa3h\\x80(n h/\\xcf]f\\xf1I{5\\xe3\\xa4\\x8e\\xd2\\x8d0\\x15\\xd9\\x9c\\xe9eQ\\xc0\\x8d<M\\xe38Tf\\n\\r\\x86Y\\xb1\\xd0D\\xb0\\xc6\\xf2\\xc2\\x9a\\x0b\\xdb^bnj\\xab\\x0c\\xa2.\\x01\\xb5\\xa1\\xd0I*@ck\\x8ah\\xcf\\xad\\xb4\\xeaN\\x92i\\xe0\\xea\\xba*v\\xe5[\\xb0^Y\\x91+CMTr\\xc4\\xb3\\x1c\\xcefG0f\\x14\\xbc\\xbb8.\\xb6\\xb4\\xd3\\xae\\xf6V\\x88\\xe2\\xb6h2\\xcd\\x01\\x1d\\xebM%\\xdb33k\\xf4J\\xa6\\x8e~\\xa6\\x06\\xc3)k\\xd9}\\xa2Q\\xbe\\x13h\\xc6\\xeb\\xe3\\xcb\\xceG\\x13L\\x83\\xd2T\\xe227\\x11\\xcd=6\\x9b\\xd3\\xd4(\\xb3\\x0b[N1\\xd0\\xe6\\xf7\\xe1\\xf5\\x9eo\\x80\\xed=Z`\\x06\\xef\\xaf\\\\\\x8f\\xaf\\x19wO\\xb6t\\xc0\\xb8\\x0c\\x0f\\xed\"\\xff\\x001\\x94\\xea\\x9aC}\\x9d\\x8b\\x9b\\xfd>\\xd08\\x9aw\\x17\\xe2%\\x0e\\x1b\\xb5\\xf8W\\xfc\\xe5\\xd0\\xdb\\x8a\\x92/\\xd2\\xd1\\xfa]\\xa1\\xc31\\xdd\\x15\\x90\\x93\\xcc\\xd8\\xf8g/\\xc92{F\\x83\\xc5\\xb1\\xd5\\xd5A%\\xac-\\x9d\\xf9s\\x89m]\\xac\\x94\\xaew\\x86\\xb9\\rI\\xf0\\x1cg\\x11\\xb4\\xf6\\xb3\\xd5\\'\\x82\\xf0Q\\xc7\\xc6f\\xe8\\xb4\\xb4\\xdfh6\\x8f\\xc6{);\\x8a,8\\\\\\xdf\\xf3ZU\\x8asp\\x8b%\\x96\\x05\\x92j\\xd0\\xae$\\x18\\xc9\\x19\\x136L\\x8e\\xf4\\xdd\\xe3\\x02+x\\xc7\\x08\\x10\\xc2M\\xaa\\x01!\\x89\\x99n\\xb3 ~$\\xc8c\\'\\x06\\xa8o6\\x82:\\x98c\\xc7+\\xc9\\xe1\\xd1Y\\xd5n\\x14\\x1f/(\\\\MM\\xe6U\\x1f\\x95=\\xe6.\\xf5\\xe1\\x93\\xbf\\xd0\\x16\\xc2\\x11\\x9eFiP\\xa9\\xb86\"8\\x9aE\\xdf[g+Bk}\\x8c%E|\\xc9\\n\\xfcy\\x18\\xbe#\\x0e\\xc3\\x87\\x98\\x80l3\\xdf(DJ\\xa3Co9\\x9b\\xe3[\\xa9\\x95\\x88V\\xa2t\\xce\\t\\xa9\\x1b\\xe6\\x08\\x96\\x8dU\\xf8\\x85\\xbf;\\t\\xa6\\xa8\\x7f\\xa2RL\\n\\xcf\\x80\\xc4YT\\xf8\\xc6p\\xb4Y\\x08&\\xc0q\\xb9\\xce\\xdca\\xaa\\xb1\\xe6`/-&5%\\xd6\\x03l\\x9agw6N\\x17\\xd4y\\xf1\\x968^\\xd5Y\\xbb\\xe9\\xba\\xbc\\x087\\xcb\\xac\\xe5w\\xe1p\\xf6c\\xb9k\\xdfO\\x19UNg\\xa7\\xe8\\xbdk\\xd1\\xe8t\\xfbAE\\xd7yZ\\xf7\\xe8e&\\xd0\\xc7\\xb5W\\x03D\\\\\\xc0\\xfa\\x98\\x96\\xcf\\xc2\\x14RH\\xe8\"8\\xdciF \\x0c\\xcd\\xb3:yNe\\xcfWy\\xf4+\\xaas\\x85\\xb3\\x11i\\xac?|\\xd8J\\x8a\\x1bD\\xbft\\x8d|\\x8f\\x94w\\rYS\\xf2\\xbb!\\xea\\x81\\xc7\\xbc\\xda\\xad\\x18(\\x7fe\\xae!\\xf7F\\xe4\\x1a\\xbeZD\\\\\\xd7c\\xbc\\xa5*\\x0e;\\xb6\\x0c<P\\xe7 \\x98\\xe3\\x98\\xb8\\xb8\\xc8\\x82\\xb6\\xb1\\xe4b\\xf2X\\x1e\\x0cr\\xba\\xef\\x03)14\\xb2\"Z\\x9a\\xecyE14\\x99\\x86\\x96<\\xf5\\x92\\xe9h)h\\xa4\\x03\\x84\\xd1\\x10\\xb50\\xae\\x0e\\x97\\xf0\\xfb\\x1c\\xe4\\x17\\x0c\\xe7\\xf4\\x99\\xbc\\xdc\\xfe\\xcde\\x902\\x04F\\xbf\\xfc\\xf7\\xe4=f\\x8e\\xcf~\\x9e\\xb2\\xfc\\xe7\\xf6V\\xa1V\\xb9\\xcc\\x9b\\x9eg3\\x06Df\\xa6\\x15\\xd7U\\x8b1\\xb4i\\xa7\\xe8zb\\x88P \\xc3I\\x06\\x80\\x1ba\\x00\\xe20L\\x1b,\\x06-0\\xb41H2\\x90\\x00L\\xd0L\\xc60\\xd4\\xe0\\x9a\\x9c\\x03A\\xded\\x96\\xec\\xc8\\x01\\xd1\\x1a@1\\xce\\xea\\r\\x81\\xb5\\xbeP\\xcam2d\\xe1G(\\xd8\\xc35\\x81\\xb0\\x17\\xeb\\x16u\\x992h\\x9b\\x1a\\xf4\\x0b|\\x8e2?\\x8c\\xcc\\x0c\\xf3\\xe32dL\\xa4i\\xeag\\xcf\\xac\"\\x01\\x96z\\xcc\\x99%\\x14\\x07\\x1a\\xa5s\\x1ar\\x95\\xed^d\\xc9\\xd1\\x1d\\xae\\xcb\\x9fF\\x96\\xa11\\x9c;w\\x97\\x9d\\xc7\\xbc\\xc9\\x91\\xdf\\xa2Y\\xd8\\xe2\\xaa\\x80\\x9ap\\xceW\\xe2\\x1dj*\\x8bn\\x95\\xd1\\x80\\xcf\\xcf\\x98\\x992y\\xdcIh\\xed\\xbc*\\xaa\\xa3\\xab\\x0b\\xda\\xc3\\xbc,\\x00\\xfecX\\x17\\x0cX\\xf5\\x19yp\\x992k^\\x82B%B\\xc5\\xacmn=u\\x8f\\xe1\\xb6\\x91Q\\xb8\\xff\\x00\\xabPI`O\\xeeS\\xa8>3s \\x81\\x8ab+2\\x91UT\\x1a,m\\xaea\\xb47S\\xcf\\xa7\\xca5N\\xc4ok\\xe1\\x94\\xdc\\xc9TI\\x85E\\xbf\\x8f\\xb4Z\\xad5\\x0e\\x14\\x93\\x98\\xb8\\xe3\\xe8xL\\x99 L\\x0e#\\x04A\\xee5\\xc1\\x17\\x17\\xc8\\xeaE\\x8f\\x0e\\x11\\'\\xb8`\\xbe\\xb3&JD\\xa2\\xd7\\x0c\\x8bo\\xcb\\xeao\\x16\\xc5\\xe1\\x11\\x88\\xb0\\xd6d\\xc9\\xac\\x0f\\xe8N\\xae\\xc9\\xca\\xea|\\x8c\\xad\\xa9H\\x83c2d\\xde[h\\xb8m\\x98\\x16ovd\\xc9f\\x84\\n\\xc8\\x912d\\x00\\x89\\x90a2d\\x04Cvd\\xc9\\x91\\x08\\xff\\xd9'\n"
     ]
    }
   ],
   "source": [
    "f = open(\"C:/flower.jpg\",'rb')\n",
    "print(f.read())"
   ]
  },
  {
   "cell_type": "code",
   "execution_count": 31,
   "id": "654eea75",
   "metadata": {},
   "outputs": [
    {
     "name": "stdout",
     "output_type": "stream",
     "text": [
      "<_io.TextIOWrapper name='C:/flower.jpg' mode='rt' encoding='cp1252'>\n"
     ]
    }
   ],
   "source": [
    "f = open('C:/flower.jpg', 'rt')\n",
    "print(f)"
   ]
  },
  {
   "cell_type": "code",
   "execution_count": 147,
   "id": "1ad898ca",
   "metadata": {},
   "outputs": [
    {
     "name": "stdout",
     "output_type": "stream",
     "text": [
      "<_io.TextIOWrapper name='C:/flower.jpg' mode='r' encoding='cp1252'>\n"
     ]
    }
   ],
   "source": [
    "f = open('C:/flower.jpg','r')\n",
    "print(f)\n"
   ]
  },
  {
   "cell_type": "code",
   "execution_count": 78,
   "id": "5dd3e1a9",
   "metadata": {},
   "outputs": [
    {
     "ename": "PermissionError",
     "evalue": "[Errno 13] Permission denied: 'C:/flower.jpg'",
     "output_type": "error",
     "traceback": [
      "\u001b[1;31m---------------------------------------------------------------------------\u001b[0m",
      "\u001b[1;31mPermissionError\u001b[0m                           Traceback (most recent call last)",
      "Input \u001b[1;32mIn [78]\u001b[0m, in \u001b[0;36m<cell line: 1>\u001b[1;34m()\u001b[0m\n\u001b[1;32m----> 1\u001b[0m f \u001b[38;5;241m=\u001b[39m \u001b[38;5;28;43mopen\u001b[39;49m\u001b[43m(\u001b[49m\u001b[38;5;124;43m'\u001b[39;49m\u001b[38;5;124;43mC:/flower.jpg\u001b[39;49m\u001b[38;5;124;43m'\u001b[39;49m\u001b[43m,\u001b[49m\u001b[43m \u001b[49m\u001b[38;5;124;43m'\u001b[39;49m\u001b[38;5;124;43mw\u001b[39;49m\u001b[38;5;124;43m'\u001b[39;49m\u001b[43m)\u001b[49m\n\u001b[0;32m      2\u001b[0m \u001b[38;5;28mprint\u001b[39m(f)\n",
      "\u001b[1;31mPermissionError\u001b[0m: [Errno 13] Permission denied: 'C:/flower.jpg'"
     ]
    }
   ],
   "source": [
    "f = open('C:/flower.jpg', 'w')\n",
    "print(f)"
   ]
  },
  {
   "cell_type": "code",
   "execution_count": 77,
   "id": "29073ca1",
   "metadata": {},
   "outputs": [
    {
     "name": "stdout",
     "output_type": "stream",
     "text": [
      "<_io.TextIOWrapper name='C:/flower.jpg' mode='rt' encoding='cp1252'>\n"
     ]
    }
   ],
   "source": [
    "f = open('C:/flower.jpg', 'rt')\n",
    "print(f)"
   ]
  },
  {
   "cell_type": "code",
   "execution_count": 80,
   "id": "520510d7",
   "metadata": {},
   "outputs": [],
   "source": [
    "myfile.txt  = 'my name is vaishali'"
   ]
  },
  {
   "cell_type": "code",
   "execution_count": 107,
   "id": "ec0585b5",
   "metadata": {},
   "outputs": [
    {
     "name": "stdout",
     "output_type": "stream",
     "text": [
      "<_io.TextIOWrapper name='myfile.txt' mode='r' encoding='cp1252'>\n"
     ]
    }
   ],
   "source": [
    "f = open('myfile.txt','r')\n",
    "print(f)"
   ]
  },
  {
   "cell_type": "code",
   "execution_count": 123,
   "id": "38fd23f2",
   "metadata": {},
   "outputs": [
    {
     "name": "stdout",
     "output_type": "stream",
     "text": [
      "\n"
     ]
    }
   ],
   "source": [
    "h = open('abc.txt',\"r\")\n",
    "print(h.read())"
   ]
  },
  {
   "cell_type": "code",
   "execution_count": 88,
   "id": "640ebac5",
   "metadata": {
    "scrolled": false
   },
   "outputs": [
    {
     "name": "stdout",
     "output_type": "stream",
     "text": [
      "b'\\xff\\xd8\\xff\\xe0\\x00\\x10JFIF\\x00\\x01\\x01\\x00\\x00\\x01\\x00\\x01\\x00\\x00\\xff\\xdb\\x00\\x84\\x00'\n",
      "b'\\x07\\x08\\x15\\x15\\x15\\x18\\x15\\x16\\x15\\x18\\x18\\x18\\x18\\x19\\x18\\x18\\x18\\x15\\x19\\x18\\x18\\x18\\x18\\x19\\x18\\x18\\x18\\x19\\x19\\x18\\x18\\x18\\x1a\\x1c!.%\\x1c\\x1e+\\x1f\\x18\\x18&8&+/1555\\x1a$;@;4?.451\\x01\\x0c\\x0c\\x0c\\x10\\x0f\\x10\\x1a\\x12\\x12\\x1e4+!$44444444444144444444444444454444444444444444444414\\xff\\xc0\\x00\\x11\\x08\\x00\\xb7\\x01\\x13\\x03\\x01\"\\x00\\x02\\x11\\x01\\x03\\x11\\x01\\xff\\xc4\\x00\\x1b\\x00\\x00\\x02\\x02\\x03\\x01\\x00\\x00\\x00\\x00\\x00\\x00\\x00\\x00\\x00\\x00\\x00\\x03\\x04\\x02\\x05\\x00\\x01\\x06\\x07\\xff\\xc4\\x00;\\x10\\x00\\x02\\x01\\x02\\x03\\x05\\x06\\x04\\x06\\x00\\x05\\x05\\x01\\x00\\x00\\x00\\x01\\x02\\x00\\x03\\x11\\x04!1\\x05\\x12AQa\\x06\"q\\x81\\x91\\xb1\\x13\\xa1\\xc1\\xd1\\x142BR\\xe1\\xf0$br\\xa2\\xf1\\x07#C\\x92\\xc2\\x15\\xff\\xc4\\x00\\x19\\x01\\x00\\x03\\x01\\x01\\x01\\x00\\x00\\x00\\x00\\x00\\x00\\x00\\x00\\x00\\x00\\x00\\x00\\x01\\x02\\x03\\x04\\x05\\xff\\xc4\\x00&\\x11\\x00\\x03\\x01\\x00\\x02\\x02\\x02\\x02\\x01\\x05\\x01\\x00\\x00\\x00\\x00\\x00\\x00\\x01\\x02\\x11\\x03!\\x121\\x04A\"Q\\x13\\x14aq\\x81\\x912\\xff\\xda\\x00\\x0c\\x03\\x01\\x00\\x02\\x11\\x03\\x11\\x00?\\x00\\xf2\\xa6\\xc2\\x81\\x04\\xf4-\\xa4\\xb0\\xacb\\xd5\\x1cL\\xf4\\xa1eI0\\xb0\\xca$\\\\E\\xa3\\x02^kzE\\xe0\\xc3JHZ\\x1c\\xbc\\xd0x\\x12\\xd2K\\x0c\\r\\x0e\\x86\\x1c\\x18\\xbd8`d1\\x8ca\\x16\\xed,\\x82D\\xf6z\\xf1\\x96$e2\\xa7\\xd9H\\xad\\xc6E\\xc4>4\\xe7\\x02\\x04\\xb5\\xe8L\\x90\\x13\\x08\\x9b\\x13p\\x03x\\\\3\\xd4uD\\x1b\\xcc\\xc4\\x00\\'M\\xb6\\xbb\\x1ci!t}\\xf23d6\\x01W\\xfdD\\xf0\\xceXv\\x03f\\xee\\xab\\xe2Xk\\xdcK\\xff\\x00\\xb9\\x87\\xb4\\xb0\\xedEB0\\xef\\xcc\\xa3\\x9f\"m\\xed!\\xd3\\xdcE)\\xd5\\xa7\\x99\\xdaH\\t\\xa5\\x98&\\x84\\x9b\\xb4\\x90\\x13@I\\x85\\x89\\x81\\x12d\\x0b\\xc22\\x18?\\x86`\\x81\\x84\\xa4\\xbca\\xb7\\xa4\\x10ZF\\xa3\\xc6K\\xec\\x8dW\\xbc6\\x16\\x9c^\\x8a\\xdc\\xcb*I\\x13\\x06b\\x89\\xa5\\xa5s&\\xe6\\xd2t\\xdaC}\\x19\\xb6+U-\\x00\\x04o\\x13\\x12C\\x9cR5]\\x18\\xc9h=\\xfbF]\\xc5\\xa25\\xdb\\x94\\xd9\\r\\x06\\xfcL\\xdcF\\xc6j<(%V\\xeb\\x17V\\x9b\\xa8\\xf2\\x0b).\\x862*H\\xb3\\xc1\\x834LX\\x06\\x98\\xc1\\x95\\x84\\x99\\xbb(@\\xa1\\x16m\\x92m\\x04\\x1b\\x00\\x89'\n",
      "b'\\xa6\\td\\xc9\\x90\\xd0ie\\x81l\\xa3\\xc5\\xb2\\x958G\\xb0\\x8f'\n",
      "b'\\x93\\x1a]\\x96\\x98\\xbe ]\\xa4wf\\xdc\\xe7\"L\\xa4\\x04Z1\\xb30\\xadZ\\xaaS]]\\x80\\xf0\\x1cO\\xa4U\\xe7\\xa4v\\x07\\xb3\\xff\\x00\\r\\x06%\\xc1\\xdfq\\xdcS\\xfaP\\xe8|N\\xbe\\x16\\x972\\xeb\\xd1-\\x9d\\x1d\\x1c\\x06\\xea-4\\xb0E\\x01A\\xf0\\xe3np\\x1bW`-uewe\\x0c-\\xdd\\x03!\\x97?\\tpmi\\x12f\\xd3\\xc3(\\x9a\\xe4~\\x91\\xe6\\xfb\\x7f\\xb1f\\x90\\xdf\\xa2Y\\xe9\\xaa\\x12\\xf7\\xb1u*3 \\x0b\\\\\\x1f\\x94\\xe5BOq\\xdf\\xcb9\\xcbm\\xde\\xc8\\xa5K\\xbd\\x0b#\\x9c\\xcah\\x8d\\xe1\\xfbO\\xcaM\\xf1}\\xc8M\\xfe\\xcf:JQ\\xb5\\xc1\\x91\\xad\\x87\\x8c\\xb8\\xc3\\xec\\x0cB\\x12\\xcfE\\xc6\\xe8\\xcb+\\xe7\\xe5*qA\\xb7\\xbb\\xe0\\x86<\\x08#\\xder[\\xa9y\\x81\\\\\\x99\\xe8\"\\xe1/\\xca\\r\\xf0\\xb6\\x82/\\xbb\\xc4\\xc7\\xb0\\xf5\\x83\\xa9\\xcf1\\xf3\\x92\\xa9\\xfd\\x84\\xf2y<eUZ$E\\x19L\\xba\\xa9J\\xf1g\\xc3\\xcdU\\x17\\x82\\x98d\\x8f\\xac\\x85:q\\xa4L\\xa3l\\x8c\\xd6)V\\xe6A\\x0cw\\xe1H-\\x1c\\xe4h\\xeaz\\x15\\xa8M\\xa2\\x83YkR\\x84\\xacqf\\x8d\\x10\\x91\\xb6\\xa7\\xc6-PGT\\xe5\\x16\\xc4\\x89R\\xfb\\x04\\xc0\\xdad\\x8e\\xf4\\xc9e'\n",
      "b'\\xb2\\xc8\\xee\\xc6\\x99 Ye\\xa6Q\\xa10\\xac\\xc5\\x12w\\x80\\x03U\\x93\\xbc\\xdc\\x89\\x80\\x11\\xb4\\x90HD\\x10\\xc1blX.\\x04\\xd9XVI\\x12 \\x01\\xf0\\xc7(\\xda\\x98\\xa50M\\x80\\x04\\x9e@\\x12}\\x04\\xe8(vS\\x18\\xca\\x18R\\xb06\\xc9\\x99C\\x00x\\x90N^y\\xc9\\xf1o\\xd0\\xf7'\n",
      "b'W9\\xc8\\x19w\\x8d\\xec\\xa6.\\x9e\\x7f\\x0c8\\xff\\x00#o\\x1f\\xfdr?)E[y\\x0e\\xeb\\x82\\xa7\\x93\\x02\\xa7\\xd0\\xc3\\xc1\\xa0\\xd3\\xae\\xec_fF!\\xbe5A\\xff\\x00mM\\x95\\x7f{\\x8e\\x7f\\xe5\\x1f=9\\xcfL\\xdd\\xb0\\x9c\\xef`q(\\xf8D'\n",
      "b\"sB\\xca\\xe3\\x93o\\x16\\xf6`|\\xe7Lr\\xe3y\\xd12\\x92\\x13\\x04\\x0c\\x89k\\x1e\\x93n\\xfcb\\xd5*\\xca3\\xc0\\xaef\\xe9>w\\x8b\\xfcI\\xb5h\\xd0ad^\\xf2\\xabm\\xe0i\\xd5K:_\\x93\\x0f\\xcc\\xa7\\x980\\xc9_\\x846\\xf8h4\\x9fL^'\\x92m]\\x9c\\xf4\\xdc\\xa3\\xe7l\\xc3~\\xe5\\xe0D_\\x0ewXZz\\x0fi\\xf6n\\xfd6`.\\xeb\\x9a\\xdb_\\xf4\\xf8O>zD\\x1c\\xf2<G\\x19\\xe7\\xf2q9\\xac^\\x89\\xf42jX\\xdai\\xdcEq\\x95,\\xf6\\xe8 EX\\xb0\\xe9\\xde\\x87\\x10\\xc6U\\xa5z\\xbc\\x90\\xad\\x06$>\\xcf5KX\\xa2T&2\\x8fh`S\\xe8b\\xaa\\xe5(\\xf1\\xa9\\xc6[\\xbd|\\xa2\\x15\\x85\\xe5i\\x92\\xe8\\xafJ\\x99In\\xdei\\xe9X\\xcd\\x83\\x04\\x86\\x03vd\\x91\\x13%\\xe8\\x02\\x06\\t\\xc4\\xb0\\xc4\\xe1\\xb8\\x88\\x93\\tR\\xf4\\xbd\\x173W\\x85e\\x93Jr\\x86\\x00M\\x85\\x8c|9\\x81!\\xa0\\x0fIq\\xb2v\\x0e'\\x11\\x9d:d/\\xef~\\xea\\x1f\\x02G{\\xc8\\x19\\x7f\\xd8\\xfe\\xcb%P+\\xd7[\\xa7\\xe8C\\xa3[\\xf575\\xe48\\xcfBAk\\x01`\\x05\\xadl\\x80\\xb6\\x9eR\\xe67\\xd8\\xd4\\xb6pxN\\xc10\\x04\\xd6\\xac\\x07!L_\\xd4\\xb5\\xbd\\xa0\\xb1]\\x83\\xa8lhTGRFM\\xdcp\\x0eD\\xf26\\xf1\\x13\\xd0\\xd8\\\\Fpt\\x80\\xcf\\x8f\\xb4\\xb7\\xc4\\xb0)$\\x8a\\xbd\\x85\\xd9\\xd5\\xc3S\\x08\\x9b\\xbb\\xc77\\x7f\\xd4\\xe7\\xed\\xc8K\\xa1H\\x8e7\\xe9\\xcaH\\x89\\xa3-J1\\xd6\\xc51\\t\\xfc\\x18\\x85zh\\xf9:+p\\xbb(>\\xf2\\xd6\\xa2\\xde!V\\x94<M$\\xa9\\xc3P\\xa7\\x86ri\\xa0M\\xeb\\x16\"\n",
      "b'l\\x8d\\xc8\\xdbK\\xf5\\x12\\xe2\\x86,6z\\xfb\\x88\\x8e&\\x98+k\\x1b\\xde\\xfb\\xd7\\xd3\\xca\"\\xb5J\\xb7.\\x16\\x1a\\x7f1\\x1b)\\xd4to\\x9f\\x84E\\xd2k\\x07\\x8c\\r\\x97\\xfc\\x18J\\xcd\\x9f\\x8f\\xd2?\\x1d#\\xc1\\x8b\\x1dc\\x0b\\x02a\\x15\\xb2\\x8f\\xc4Nz4\\xcfc\\x0bA\\xed\\x00\\xc2O'\n",
      "b\"\\xf9\\x93\\xcb!\\xf5\\x91\\x84\\xf8\\xe9d(\\x83\\xad\\xe5v'\\xb38j\\x8c]\\x90\\xef\\x1dX;\\x0f\\xad\\xa3?\\x8a\\xcfY/\\xc5\\xc1\\xf8\\xbe\\x99\\x9dI\\xce\\xed>\\xc2Q{\\x94wF\\xe1{:\\xf9\\x8b\\x03\\xf3\\x9c^\\xd6\\xec\\xed|6n\\xbb\\xc9\\xc2\\xa2\\xe6\\xbe|W\\xcez\\xba\\xd5\\xber,\\xe8A\\x070r \\x8b\\xdf\\xa5\\xa4W\\x1c\\xb5\\xd7@\\xa9\\xa3\\xc6Vl\\x0b\\xcb\\xee\\xd4l/\\xc3\\xb0t7\\xa6\\xec@\\x1cP\\xea\\x14\\xf3\\x16\\xbd\\x8fIINs9\\xc7\\x8c\\xd2_A\\x15f\\x99\\xe4\\xef\\x94\\x0b-\\xe2\\x1eh/\\x88o\"\n",
      "b'\\xaf\\x06\\xc9h2\\xd0\\xc2(+\\x8b\\xc1\\x8aw\\x9aW\\x87\\xa4\"\\xc1$+\\xf8v\\x99,wfE\\xa3\\x08\\x88\\x18J\\xfcf\\x0e\\xd9\\x88\\xde\\x02\\xbd\\xc6r\\xc1\\xe9\\x06\\x11*r\\xc9\\xdf\\x13\\x92e\\xb1\\xce\\x15e\\xdd}\\x9d~\\x11'\n",
      "b'\\xf8\"&\\xca\\x93)Zb\\xc4_My\\x0c\\xfd\\'w\\xd9\\x8e\\xc4\\x8b-\\\\O\\x1b\\x15\\xa3\\xec\\\\\\xff\\x00\\xf3\\xeb\\xcak\\xb0\\x9d\\x9f+\\xfe&\\xaa\\xe7\\xff\\x00\\x89H\\xe1\\xfb\\xfd\\xc0\\xf5\\x9d\\xe03i\\x9f\\xb6Y\\x06@\\x00\\x00X\\x0c\\x80\\x02\\xc0\\x0e\\x16\\x12\\x17\\x12n\\xf1j\\x95&\\xe9\\x9aOa\\x8dA%C\\x12\\x01\\xcfI\\\\\\xf5m\\xc6)S\\x11\\xacxl\\xb8|\\x96\\x1dJ\\xb89\\x83\\xe76\\x0c\\xa1\\xd9[]Tn6\\\\\\x9b\\xef/\\x11\\xef\\x982N^N*\\x8a\\xc6c@\\xba\\x83\\x19\"\\xf0N\\x92\\x93&X\\x8dJR\\xb3\\x17\\x84\\xe5/X@\\xd6Qn\\x11\\xf8\\xa6tC9v\\xc4nwNG\\x9f^\\x91\\x9a\\xb8\\xf0\\xebpF\\xf0\\xb6\\xf0\\xbe\\x87\\x81\\xe8\\x0c\\x8e\\xd5\\xc2\\xa3\\x0e_\\xde\\x13\\x93+R\\x85r\\xccG\\xc3}\\xd5,Ow\\xba,\\x03\\x1bwu6\\'+\\xda\\xe4\\x0b\\xc9i\\xc3\\xd7\\xe8\\xeb\\xfe79Mj\\xfb\\xfe\\xc7W\\x81\\xc6\\x12H\\'\\xc3\\xc8\\xff\\x001\\xfau\\xc1\\x1f\\xdeS\\x9d\\x0e\\x14\\xe4\\xc0\\x8e\\x0c\\xa42\\x9e\\xa1\\x86Du\\x19BQ\\xc5\\x10\\t\\x079\\xafL\\xe9\\xe5\\xf8\\x8a\\x97\\x94\\xfd\\x97\\xf5\\xea\\x805\\xfe\\xf1\\x90j\\x9b\\xabs\\xe3iM\\x82\\xc5o\\xb3\\x17=\\xc4\\xff\\x00spQ\\xee|\\xb9\\xc6\\x85m\\xf0m\\xa7\\x0b\\xfb\\x99\\x9d/\\xd1\\xe7rp\\xb9\\xdf\\xec4\\x98\\x90x\\xe7\\xa9\\xfaM\\xfe(_\\x9fO\\xbcG\\xe1\\xc9\\xa2r\\x983\\x95\\x96\\x0b\\x89\\'/\\xef\\xac2\\xb73\\x11Ao\\xb7\\x08\\xc2\\x11\\xc6$\\xc8h\\x1e\\xd9\\xc2\\x8a\\xb4\\x1e\\x9f\\x16^\\xef\\x1e\\xf2\\xe6\\xbf1<\\xad\\x1c\\x8dg\\xb2S \\x8d-<\\x9b\\xb4\\xb8o\\x85\\x89\\xaa\\x80\\x107\\xb7\\x80<\\x9c\\x06\\xf4\\xb92mu\\xa1>\\xf0\\x00\\xab\\x0c\\xad\\x10H\\xca\\xb4\\xc5\\x9ahJ\\x8f\\x00fUy\\x14\\x82Bh\\x90Y%{L\\xb4\\x03\\xdc\\x18`\\xc7?\\x132#y\\x90\\xf1\\x00\\xb8v\\xdd\\x97\\x98<E\\xf5\\x94m\\x19\\xc2T\\x85N\\xa2*u\\x1d*\\x00D>\\x07f-Z\\x8a\\xa4\\x12\\xba\\xb5\\xad\\xf9G>\\x84\\xd8y\\xca\\xba5r\\x9d\\x17e*o;\\xf4U\\xf1\\xcc\\x9f\\xb4\\xcf\\x8f\\xff\\x00I\\x18J\\xfc\\xb0\\xea\\xceB\\xdf.\\x10l\\xd3l\\xd9E\\xdd\\xc5\\xe7n\\x9di\\x05/\\x03P\\xcd\\x17\\xe9\\x16\\xae\\xfd>r\\xa5\\x9b\\xf1\\xce\\xb1\\\\K\\x81\\xc6U\\xd6\\xc5\\xea8\\x8f\\x9c\\xd6\\xd0-\\xfd2\\x9a\\xa6\\xf0\\xd6\\xfd%\\xba\\xc3\\xd8\\xe1\\xe1X\\x98\\xe5\\x0cFl\\x0f\\x00H\\xf2\\xcf\\xda\\xfe\\x91\\xfd\\x97\\xda'\n",
      "b'\\x94\\xc6\\xe1\\xb3/S\\xa0\\x9c\\xa6+\\x19\\xc0\\xeb16\\x85\\xda\\xc4[\\xc7\\xe53\\xfeE\\xb8i|\\\\uNk;\\xcf\\xfaz\\x96\\xcf\\xdb\\xc8\\xe4\\x02\\x08&^!V\\x19\\x1b\\xcf\"\\xc1b\\x99\\x1dZ\\xf9\\x02\\t\\xf0\\x9e\\x80\\xb8\\x82\\xa0:\\x9c\\x98_\\xa4\\xb5Zy?3\\xe2.:^>\\x99r\\xf4\\xe5n>\\x91##\\xf2\\xfed\\xe9m\\xa5\\xd1\\xc5\\xbc\\x05\\xe4\\x9f\\x14\\x1cwA\\xf1#\\xd8M%\\x9c\\xdcj\\xa2\\xb4\\xe5\\xb14\\xddo{\\xdaVW}o\\xfd\\xf2\\x9d\\x06\\xd1VmnG\\xa7\\xb4\\xe7\\xf18e\\x1f\\xa3\\xde]kG\\xb9\\xc1\\xc9T\\x97H\\xa1\\xf8\\xb6o\\x86\\x87tf@\\xd4\\x0e$(\\xe1\\x9f\\x08\\xdd<i[\\x07\\xbf+\\xda\\xc7?28k\\x05\\x8c\\xc1g\\xbc\\x99\\x11\\x9d\\xe5y\\xabQ\\xec\\xa4\\x0c\\x8e\\xa0X\\xe4x\\xce\\x16\\xeeo\\xafF\\xb4\\xeaZK\\xd7\\xeb\\xe8\\xe9>0 \\x01\\x90\\x1a\\x0f\\x9c{\\x01\\x88\\xce\\xd7\\xf2\\xb7\\xdeSRB\\xa0_1\\xcf\\xef\\xca]\\xec\\xea`\\xe7\\x95\\xf9\\xe5;\\x13\\xd5\\xd9\\x87\\xc9S\\xe2\\xcb6\\x17\\xfe\\xfd\\xa6\\x81#\\xf8\\x10\\xe1\\r\\xb4\\xf3\\xb4\\xcb\\x1e7\\xf4\\x99T\\x9e\\x1d\\xa0j\\xf6\\xfea>/I\\x97\\x1c}\\xa6Xr\\xf7\\x99\\xe1\\x93\\x0bB\\xa6y\\x9bN#\\xfe\\xa0\\xe1\\xedY*\\x01\\x93\\xa6\\xef\\x9a\\x1f\\xb3\\x0fI\\xd9\\x04\\xe9(\\xbbqG\\x7f\\x0e\\x8c5G\\x17\\xbf&\\x04e\\xe7h\\xab\\xd1+\\xa6phaK\\xc8\\xa2Le\\x984Z\\x04\\xcf1^HS\\x93\\xf8pHd\\xd4\\xc8U\\xceb\\xdem\\x84\\xac$[zjc$\\xc8`\\xf4i\\x90\\x99\\x94\\x85\\x8ce-\\x03R -)6R\\xd3\\xb3x\\x82\\x95\\xcef\\xc5M\\xc7<\\xc6\\xbe\\xf2\\x8f\\x0bR\\xe2\\xd2\\xc3\\x01\\x87.\\xe0\\x83m\\xde\\xf1 \\x90l5\\x00\\x8ew\\x913\\x94g\\xe3\\xdfGx\\xf52\\x04\\x9b\\x83&*\\x03\\xa6S\\x9d\\xa8*\\x0c\\xd5\\x8d\\xb5+\\xa8\\xb7@x\\xc9&\\xd3`\\xd9\\x00[;-\\x88\\'\\xad\\xaf\\x90\\x9b7\\x8f\\x19\\xd9)4]\\xd4\\xab`N\\x96\\x1a\\xf2\\xe5\\xe6e\\x06\\xd3\\xc58\\x05\\x8d\\xc0\\xe8\\r\\xcf\\xa4f\\x8e\\x10\\xb9\\xderKu\\xd0xK\\x13\\x83@2_>&Z\\xd7\\xe8\\xb5.\\xbaO\\x0f=\\xc4c+\\xb9\\xeeS`9\\x91o\\x99\\xcaB\\x9e\\x16\\xaf\\xe6j\\x85y\\xa87\\x1f<\\xbeS\\xb6\\xc5a\\x06\\xa4y}\\xe5\\x0e&\\xc4\\x90\\xa3)_\\xc5\\x9d\\xe9\\xe8\\xfc_\\x87\\xc6\\xbf6\\xdb\\x7f\\xe4\\xe7j9Z\\x97+\\xbd}>\\xfc\\xa6\\x12\\xd5\\x1f|\\x8b\\x0c\\x86@\\x01\\xe7h\\xd6\\x15\\xd6\\xab\\xb1\\x03%\\xee\\x83\\xcf\\x99\\x8e\\xa5;p\\xff\\x00\\x89\\x8a\\xe3^Zt\\xc7\\x1c\\xdf\\xe6\\x9f[\\xd7\\xfa!Hs\\x9d\\xd7e\\xf1\\x1b\\xe9\\xf0\\x9f\\x80\\xba\\x9e\\x9c\\xa7)\\x83\\xd9\\xea\\xe7\\xba\\xc5\\x0fQu\\xfe\\']\\xd9\\xed\\x9e\\xc8K1S\\xc0Z\\xff\\x00Y\\xbaXa\\xf3\\xee\\x7f\\x8d\\xaa\\xf7\\xf4X6\\xcf\\x00\\xc6\\x12\\x9d\\x85\\xa3`\\xcd0\\x13Yg\\x85\\xe6\\xdf\\xb1'\n",
      "b\"\\xd4\\xb2\\x94[K\\x0e\\x00&t\\xce\\x91,^\\x0c8\\xb7Y\\xa4\\xb3\\xab\\x83\\x9f\\xc2\\x96\\xb3\\x8b)s\\xa4S\\x17\\x80(\\xdb\\xd6\\xb0r\\xde\\xa0\\xe7\\xee'^\\xfb'\\xbdq\\xc2+\\xda\\x0c#\\x95B\\xa3\\xb8\\xb7\\xde\\xe8M\\x80\\xf2\\xd6\\x15)\\x9e\\x8b\\xf9sT\\xb1\\x9c\\xe21\\\\\\xc4\\xb3\\xd9\\xd8\\x94\\xbeb\\xddG\\xd4@\\xfe\\x1f+\\x9f9\\xba8b\\x0f\\xb7\\x84K\\xa1rsMKL\\xe9iP\\x0c.\\xaf\\xf2?C\\x0e\\x98_\\xf3\\x9f!\\xfd1,\\x12\\x91\\x9f\\xb1\\xb1\\xfee\\x8a1\\xe7\\xf2\\xfbH\\xa6x\\xfc\\x8f\\xb0\\xa9\\x83\\x1f\\xbc\\xfaAV\\xa2\\xc9\\x9d\\x83\\x0fHT'\\x8b|\\xe3Ib9\\xf9\\xdcD`\\xd8\\x828\\xe2\\x92\\xa7\\xb6\\x1b\\x87\\x0c\\xdc.\\xc8\\x00\\xe7\\xde\\xbf\\xd2X\\xe3\\xb0\\xe5\\r\\xc1\\xb0\\xe1}<\\x0c\\xe6{E\\x8a\\x1b\\x812\\xbb\\x1b\\x9b\\x1b\\xd8\\x0e\\xbe?Y\\x95\\xf4\\x98%\\xac\\xe3\\xdd$\\x058\\xe5@$B\\xdas\\xc9\\xa3\\x02\\x94m1\\xd2\\x18\\xb8\\x8bU\\xab,\\x00\\xd4 H\\x93\\x94\\x8b\\xb5\\xe6X\\xda&N\\x02\\xde\\x99 T\\xcc\\x86\\x80\\xd3\\xbd\\xa2\\xc6\\xa9&\\x13\\x15\\xacge`\\xcb0b;\\xbf?\\x9c\\x8f%+XU)F\\xf0\\x9d\\xdc\\xcf\\x90\\xfa\\x99\\xd7vz\\x89)\\xbes\\xdf:i\\x92\\xdcXy\\xdeR\\xe3\\xb0\\x8a\\xaa\"\n",
      "b'\\\\\\xb5\\xc0\\xdd6\\xcc\\x93akN\\xdff\\xe0Y\\x11QSx*\\xf7\\x9a\\xe0\\x0e\\xa4\\xdf\\x99\\xbc\\xae\\x1c\\xbao\\xf4D7U\\xa4\\x96\\x85\\x86r/\\xba\\xa0\\x93`\\x00\\xb9\\'\\xfb\\xac%Ry\\x83|\\xee3\\x12\\x04x\\xdf]m\\xa6\\x93\\xab\\xc4\\xeaH\\x1d*\\xf7\\x05\\x806\\x16\\x04\\x95\\xb5\\xaf\\xa4a+\\x8e&\\x05\\xb0KR\\xce\\xed\\xbeFAN`[\\xa4\\xd5L*1\\x01\\x07x0\\xbb\\x0b\\xdbv\\xda\\x11\\xa5\\xf4\\x826\\x8aK\\xd9\\x98\\xa4,2\\xe3)v\\xa6\\x10\\xa5\\x1a\\xae5\\x08m\\xe2r\\xfa\\xce\\xa5i\\xd8[\\x94\\xac\\xedU?\\xf0\\xb5\\x00\\xd5\\xb7@\\xf1.\\xa0GO\\xf1gG\\xf54\\xa5\\xcc\\x9c\\x1e\\xc8R\\x17O\\xcc\\x7f\\x8f\\xa4\\xe9h\\xe1\\x01Px\\x8f\\x9f9UB\\x96\\xee\\xe8\\xe5.0\\x95M\\xad\"RK\\r\\xf8y\\x9c\\xc2\\x95\\xf49\\x84\\xc1\\x05#\\x96\\xb7\\xe5:\\x8d\\x9eA\\x00r\\x948g\\x96T\\\\\\x8c\\xc4)\\x9c\\xbf.\\xdf\"\\xc2\\xf3rh\\xa4\\xab\\x1bX\\x03\\xbaN|\\xa1\\x97h\\xdeR\\xa4yni\\x0e\\xfc9\\xa6H\\xb0\\xc5^\\x11kG\\xe4-h\\x9e\\xe4\\xdf\\xc3\\x04i\\xae\\xb3\\x16\\xa5\\xe6\\xf7\\xa3\\xd0\\xf2e&;d\\x05\\xbb\\'\\xe5:\\xaf/\\xe2!O\\x0f\\xc3\\x97\\xb79\\xd53e)\\x9e\\x9d\\x9b\\x8d\\x81\\xce\\xda\\xda4\\xf4\\xday\\x1b]\\x83\\xa2\\x96\\xd3\\xd3\\xed\\x18\\x1b\\xdc-\\xe0r\\xf2\\xe9\\x04\\x17<\\xafa\\xa7\\x03\\xe3\\xd2\\x1e\\x99\\x1c\\xef\\xe3\\xad\\xfcd\\xb4E3a\\x8f\\x11ooQ'\n",
      "b'\\x97\\x06\\xfa\\xcc\\x03\\x97\\xac\\xc0\\xdc\\xc7\\xa4D1\\x82C\\x0b0\\x04\\x1e\\x07I\\xc2\\xf6\\xcbd\\x1aG\\xe3)\\xba1'\n",
      "b\"G\\xec<<A\\x9d\\xa1\\xcbM<g9\\xdbLR\\x8c#\\x825(\\x17\\xa1\\xdf\\x16>\\xf2m'=\\x8e^3\\x83j\\x82\\x0e\\xad{J\\xdf\\xc4I\"\n",
      "b'\\x97\\x9c\\xc9\\x1a\\xb1\\x86\\xc4@5Y\\x134VX\\x8d\\x87\\xce\\x1d\\x1a\\xf1`\\x90\\xaa\\xd6\\x92\\xc4\\xd9=\\xc9\\x92;\\xd3$\\xe1\\x1a\\xc7\\x13\\x07\\xb87\\x9c\\xf7\\x8f\\xe5Q\\x9d\\x8f\\xd4\\xce\\x8bg\\r\\xea('\n",
      "b\".\\xf2\\xa8\\x17-m\\x06G+\\xe5\\x13\\xc2\\xd0\\xf8\\x8e\\xed\\xba\\x08B\\x05\\x8d\\xcd\\x81\\x00\\xdf/8\\xe5lR\\x8e\\xe0\\xb96\\xd1@\\xcb\\x80\\x1e3\\x1b\\xadxd\\xde\\xfb+\\xdf\\x10\\xc9Y7\\xd00\\x0c7U\\x0fw\\\\\\xecA\\xefp\\xf5\\xd0N\\xef\\x0f\\x8eJ\\xa2\\xea\\xca\\xdc5\\x19[\\x85\\xa7\\x03\\x89\\xab\\xba{\\xc3wt\\x15\\t\\x91oS\\xf3\\x80\\xc2\\xa1w\\xb96\\xe3\\x91\\xb0\\x1dM\\xb5\\x9aqr8[\\x9d\\x1aCh\\xf4\\xb7A\\x02)\\x0b\\xf2\\x1c\\xed8lV\\xd7\\xac\\xb9#\\xb0Q\\xcc\\xde\\xfds\\x89\\xb6\\xd6\\xc4\\x13sT\\xfa\\xdaj\\xbeRkp\\xd1Y\\xe8\\xbf\\x04\\x7fx\\xf8\\xc3!\\x03\\x90\\x9e\\\\\\xfbZ\\xbf\\x1a\\x8f\\xe4\\xd1j\\xb8\\xfa\\x8d\\x91w\\xf0\\xdei_\\xd4'\\xf4?\\xe4=[\\x15\\xb4iS[\\xbdES\\xd4\\x89\\xccbv\\xdf\\xe2\\xdc\\xa2\\x0f\\xfbHGx\\xea\\xefmz\\x00\\x0f\\xcep\\x0e\\xe7[\\x93\\xe2o;\\xad\\x8d\\x85\\xdcE[ga\\x7f\\xf5\\x1c\\xda5n\\x8b\\xe3\\xa7Le0\\xa0\\xf0\\x87\\xa5F\\xc67E-\"\n",
      "b'\\xb4\\xa5\\xa3\\xaah\\xd6\\x18K:Q\\x1aIh\\xe2\\x18P\\xad\\x9c\\x87n\\x1d\\x90\\xa3+\\x11|\\xae5\\xe7)\\xf6f\\xdc\\xac\\x99\\xef\\xef\\x0eM:>\\xdb\\xe0\\xcdDKpl\\xfd\\x0c\\xe7(l\\x8b\\r\\'5<zq\\xdb\\xca:\\\\\\x07j\\x01\\xc9\\xc6\\xefQ\\xa4\\xb8\\xa5\\xb6\\x91\\x85\\xc3\\x89\\xc0\\xe20l\\xb9\\xca\\xe7sx.W\\xa6{\\xac\\xf5\\xba;EN\\x8c\\x0f\\x9cv\\x9e*\\xfaO\\x1dLK\\x8d\\x18\\x8f9\\xe8{\\x0b\\x15\\xbfM\\x1f\\xfc\\xa0\\x1f\\xf5\\x0c\\x8f\\xb4\\xe8\\x9b\\x1f\\x8a/\\xea\\xe2\\x87\\x0e2\\x0c\\x96?\\xdda0\\xe5O\\x01\\xd2\\x1c\\xa0\"k\"\\xdc\\x12\\xb6\\xe9\\xbf\\xceoyz\\x0b\\xf0\\x93\\xc4\\xa5\\xc6CB\\t\\x11:\\x95\\xd7MO\\x05\\xb1\\xb8=9EL7F\\xb7\\xacy\\xfd\\xa6\\xfe\"\\xb7\\xf7H\\x95\\xda\\xc3?\\x1c\\xe6\\x9f\\xbb\\xa6^\\x7f)\\x1a\\r\\x0c\\xb3\\x91\\xd4s\\x17\\x9e{\\xff\\x00P6\\x81wJ@\\xe4\\xa3y\\x876?\\x96\\xfe^\\xf3\\xaf\\xc7m\\x15\\xa6\\x8c\\xeel\\x14\\x12m\\xaf\\x85\\xba\\xcf(\\xc7\\xe2\\x9a\\xadGv\\xd5\\xd8\\x9br\\x1c\\x07\\x90\\xb0\\x91O\\xa1\\xca\\xecJ\\x1e\\x9c\\x1e\\xe4\"\\x89\\x06\\x81\\x84\\x98\\x10jd\\xb7\\xa2\\xd1\\x04\\xb4\\x8bHoB$M\\x92\\xd0\\x1b\\x99\\x90\\xd9ME\\xa2.W\\x14\\x8a\\xd7\\xb37?\\xd3q\\xc8\\xd8\\xde\\xd0\\x156\\x89\\x1f\\x91wm\\xa1&\\xf6\\xf0\\x1a@\\x87\\x16\\x81\\xa9!L\\xfd\\x82\\x99F\\x8b\\x92nM\\xc9\\xe3,6{Y\\x1c\\x8dr_]eu\\xa5\\x86\\xca\\xfdk\\xcc\\\\x\\x88\\xb9_\\xe2\\xd2\\x15>\\x81VF<DQ\\x91\\x87\\x11,\\x18\\x92H\\xb7\\x94\\x13\\xd3\\x1c\\xc0\\xfe\\xf4\\x98MgD&W\\xbb\\x1e^b\\x04\\xb5\\xfa\\xc7\\x9dP_2\\xde\\x02\\xd7\\xf3\\x80\\xf8\\xc4~U\\x0b\\xd4f}O\\xd2m,\\xa0K\\x86\"\\xc5\\xac\\x8bq\\x9b\\x1be\\xd0k=\\x0b\\x0c2\\xc8\\xe6E\\xef\\xe3\\xcay\\xcb\\xa97$\\x93\\xd4\\xe7:=\\x89\\xb4\\xd8n\\xa3h\\x80(n h/\\xcf]f\\xf1I{5\\xe3\\xa4\\x8e\\xd2\\x8d0\\x15\\xd9\\x9c\\xe9eQ\\xc0\\x8d<M\\xe38Tf'\n",
      "b'\\r\\x86Y\\xb1\\xd0D\\xb0\\xc6\\xf2\\xc2\\x9a\\x0b\\xdb^bnj\\xab\\x0c\\xa2.\\x01\\xb5\\xa1\\xd0I*@ck\\x8ah\\xcf\\xad\\xb4\\xeaN\\x92i\\xe0\\xea\\xba*v\\xe5[\\xb0^Y\\x91+CMTr\\xc4\\xb3\\x1c\\xcefG0f\\x14\\xbc\\xbb8.\\xb6\\xb4\\xd3\\xae\\xf6V\\x88\\xe2\\xb6h2\\xcd\\x01\\x1d\\xebM%\\xdb33k\\xf4J\\xa6\\x8e~\\xa6\\x06\\xc3)k\\xd9}\\xa2Q\\xbe\\x13h\\xc6\\xeb\\xe3\\xcb\\xceG\\x13L\\x83\\xd2T\\xe227\\x11\\xcd=6\\x9b\\xd3\\xd4(\\xb3\\x0b[N1\\xd0\\xe6\\xf7\\xe1\\xf5\\x9eo\\x80\\xed=Z`\\x06\\xef\\xaf\\\\\\x8f\\xaf\\x19wO\\xb6t\\xc0\\xb8\\x0c\\x0f\\xed\"\\xff\\x001\\x94\\xea\\x9aC}\\x9d\\x8b\\x9b\\xfd>\\xd08\\x9aw\\x17\\xe2%\\x0e\\x1b\\xb5\\xf8W\\xfc\\xe5\\xd0\\xdb\\x8a\\x92/\\xd2\\xd1\\xfa]\\xa1\\xc31\\xdd\\x15\\x90\\x93\\xcc\\xd8\\xf8g/\\xc92{F\\x83\\xc5\\xb1\\xd5\\xd5A%\\xac-\\x9d\\xf9s\\x89m]\\xac\\x94\\xaew\\x86\\xb9\\rI\\xf0\\x1cg\\x11\\xb4\\xf6\\xb3\\xd5\\'\\x82\\xf0Q\\xc7\\xc6f\\xe8\\xb4\\xb4\\xdfh6\\x8f\\xc6{);\\x8a,8\\\\\\xdf\\xf3ZU\\x8asp\\x8b%\\x96\\x05\\x92j\\xd0\\xae$\\x18\\xc9\\x19\\x136L\\x8e\\xf4\\xdd\\xe3\\x02+x\\xc7\\x08\\x10\\xc2M\\xaa\\x01!\\x89\\x99n\\xb3 ~$\\xc8c\\'\\x06\\xa8o6\\x82:\\x98c\\xc7+\\xc9\\xe1\\xd1Y\\xd5n\\x14\\x1f/(\\\\MM\\xe6U\\x1f\\x95=\\xe6.\\xf5\\xe1\\x93\\xbf\\xd0\\x16\\xc2\\x11\\x9eFiP\\xa9\\xb86\"8\\x9aE\\xdf[g+Bk}\\x8c%E|\\xc9'\n",
      "b'\\xfcy\\x18\\xbe#\\x0e\\xc3\\x87\\x98\\x80l3\\xdf(DJ\\xa3Co9\\x9b\\xe3[\\xa9\\x95\\x88V\\xa2t\\xce\\t\\xa9\\x1b\\xe6\\x08\\x96\\x8dU\\xf8\\x85\\xbf;\\t\\xa6\\xa8\\x7f\\xa2RL'\n",
      "b'\\xcf\\x80\\xc4YT\\xf8\\xc6p\\xb4Y\\x08&\\xc0q\\xb9\\xce\\xdca\\xaa\\xb1\\xe6`/-&5%\\xd6\\x03l\\x9agw6N\\x17\\xd4y\\xf1\\x968^\\xd5Y\\xbb\\xe9\\xba\\xbc\\x087\\xcb\\xac\\xe5w\\xe1p\\xf6c\\xb9k\\xdfO\\x19UNg\\xa7\\xe8\\xbdk\\xd1\\xe8t\\xfbAE\\xd7yZ\\xf7\\xe8e&\\xd0\\xc7\\xb5W\\x03D\\\\\\xc0\\xfa\\x98\\x96\\xcf\\xc2\\x14RH\\xe8\"8\\xdciF \\x0c\\xcd\\xb3:yNe\\xcfWy\\xf4+\\xaas\\x85\\xb3\\x11i\\xac?|\\xd8J\\x8a\\x1bD\\xbft\\x8d|\\x8f\\x94w\\rYS\\xf2\\xbb!\\xea\\x81\\xc7\\xbc\\xda\\xad\\x18(\\x7fe\\xae!\\xf7F\\xe4\\x1a\\xbeZD\\\\\\xd7c\\xbc\\xa5*\\x0e;\\xb6\\x0c<P\\xe7 \\x98\\xe3\\x98\\xb8\\xb8\\xc8\\x82\\xb6\\xb1\\xe4b\\xf2X\\x1e\\x0cr\\xba\\xef\\x03)14\\xb2\"Z\\x9a\\xecyE14\\x99\\x86\\x96<\\xf5\\x92\\xe9h)h\\xa4\\x03\\x84\\xd1\\x10\\xb50\\xae\\x0e\\x97\\xf0\\xfb\\x1c\\xe4\\x17\\x0c\\xe7\\xf4\\x99\\xbc\\xdc\\xfe\\xcde\\x902\\x04F\\xbf\\xfc\\xf7\\xe4=f\\x8e\\xcf~\\x9e\\xb2\\xfc\\xe7\\xf6V\\xa1V\\xb9\\xcc\\x9b\\x9eg3\\x06Df\\xa6\\x15\\xd7U\\x8b1\\xb4i\\xa7\\xe8zb\\x88P \\xc3I\\x06\\x80\\x1ba\\x00\\xe20L\\x1b,\\x06-0\\xb41H2\\x90\\x00L\\xd0L\\xc60\\xd4\\xe0\\x9a\\x9c\\x03A\\xded\\x96\\xec\\xc8\\x01\\xd1\\x1a@1\\xce\\xea\\r\\x81\\xb5\\xbeP\\xcam2d\\xe1G(\\xd8\\xc35\\x81\\xb0\\x17\\xeb\\x16u\\x992h\\x9b\\x1a\\xf4\\x0b|\\x8e2?\\x8c\\xcc\\x0c\\xf3\\xe32dL\\xa4i\\xeag\\xcf\\xac\"\\x01\\x96z\\xcc\\x99%\\x14\\x07\\x1a\\xa5s\\x1ar\\x95\\xed^d\\xc9\\xd1\\x1d\\xae\\xcb\\x9fF\\x96\\xa11\\x9c;w\\x97\\x9d\\xc7\\xbc\\xc9\\x91\\xdf\\xa2Y\\xd8\\xe2\\xaa\\x80\\x9ap\\xceW\\xe2\\x1dj*\\x8bn\\x95\\xd1\\x80\\xcf\\xcf\\x98\\x992y\\xdcIh\\xed\\xbc*\\xaa\\xa3\\xab\\x0b\\xda\\xc3\\xbc,\\x00\\xfecX\\x17\\x0cX\\xf5\\x19yp\\x992k^\\x82B%B\\xc5\\xacmn=u\\x8f\\xe1\\xb6\\x91Q\\xb8\\xff\\x00\\xabPI`O\\xeeS\\xa8>3s \\x81\\x8ab+2\\x91UT\\x1a,m\\xaea\\xb47S\\xcf\\xa7\\xca5N\\xc4ok\\xe1\\x94\\xdc\\xc9TI\\x85E\\xbf\\x8f\\xb4Z\\xad5\\x0e\\x14\\x93\\x98\\xb8\\xe3\\xe8xL\\x99 L\\x0e#\\x04A\\xee5\\xc1\\x17\\x17\\xc8\\xeaE\\x8f\\x0e\\x11\\'\\xb8`\\xbe\\xb3&JD\\xa2\\xd7\\x0c\\x8bo\\xcb\\xeao\\x16\\xc5\\xe1\\x11\\x88\\xb0\\xd6d\\xc9\\xac\\x0f\\xe8N\\xae\\xc9\\xca\\xea|\\x8c\\xad\\xa9H\\x83c2d\\xde[h\\xb8m\\x98\\x16ovd\\xc9f\\x84'\n",
      "b'\\xc8\\x912d\\x00\\x89\\x90a2d\\x04Cvd\\xc9\\x91\\x08\\xff\\xd9'\n"
     ]
    }
   ],
   "source": [
    "f = open(\"C:/flower.jpg\",'rb')\n",
    "\n",
    "lines = f.readlines()\n",
    "\n",
    "for line in lines:\n",
    "\n",
    "    print(line.rstrip())"
   ]
  },
  {
   "cell_type": "code",
   "execution_count": 15,
   "id": "97dbf4cb",
   "metadata": {},
   "outputs": [],
   "source": [
    "with open(\"C:/flower11.jpg\",\"rb\") as f:\n",
    "    with open(\"F:/flower11_new.jpg\", 'wb') as file:\n",
    "        file.write(f.read())"
   ]
  },
  {
   "cell_type": "code",
   "execution_count": 17,
   "id": "242fdc63",
   "metadata": {},
   "outputs": [],
   "source": [
    "with open (\"C:/flower11.jpg\",\"rb\") as f:\n",
    "    with open(\"F:/flower11_new.jpg\", 'wb') as file:\n",
    "        file.write(f.read())\n",
    "        \n"
   ]
  },
  {
   "cell_type": "code",
   "execution_count": 14,
   "id": "2024c29d",
   "metadata": {},
   "outputs": [
    {
     "name": "stdout",
     "output_type": "stream",
     "text": [
      "<_io.TextIOWrapper name='C:/flower.jpg' mode='r' encoding='cp1252'>\n"
     ]
    }
   ],
   "source": [
    "f = open(\"C:/flower.jpg\",'r')\n",
    "print(f)\n",
    "\n"
   ]
  },
  {
   "cell_type": "code",
   "execution_count": 145,
   "id": "b6e36267",
   "metadata": {},
   "outputs": [
    {
     "name": "stdout",
     "output_type": "stream",
     "text": [
      "Now the file has more content!Now the file has more content!Now the file has more content!Now the file has more content!Now the file has more content!\n"
     ]
    }
   ],
   "source": [
    "f = open(\"demofile2.txt\", \"a\")\n",
    "f.write(\"Now the file has more content!\")\n",
    "f.close()\n",
    "\n",
    "#open and read the file after the appending:\n",
    "f = open(\"demofile2.txt\", \"r\")\n",
    "print(f.read())"
   ]
  },
  {
   "cell_type": "code",
   "execution_count": 164,
   "id": "585d2993",
   "metadata": {},
   "outputs": [
    {
     "name": "stdout",
     "output_type": "stream",
     "text": [
      "I want 3 pieces of item number 567 for 49.00 dollars.\n"
     ]
    }
   ],
   "source": [
    "quantity = 3\n",
    "itemno = 567\n",
    "price = 49\n",
    "myorder = \"I want {} pieces of item number {} for {:.2f} dollars.\"\n",
    "print(myorder.format(quantity, itemno, price))\n"
   ]
  },
  {
   "cell_type": "code",
   "execution_count": 125,
   "id": "77441310",
   "metadata": {},
   "outputs": [
    {
     "name": "stdout",
     "output_type": "stream",
     "text": [
      "The price is 49 dollars\n"
     ]
    }
   ],
   "source": [
    "price = 49\n",
    "txt = \"The price is {} dollars\"\n",
    "print(txt.format(price))"
   ]
  },
  {
   "cell_type": "code",
   "execution_count": 128,
   "id": "9e34f130",
   "metadata": {},
   "outputs": [
    {
     "name": "stdout",
     "output_type": "stream",
     "text": [
      "item quantity is 50\n"
     ]
    }
   ],
   "source": [
    "price =50\n",
    "txt = \"item quantity is 50\"\n",
    "print(txt.format(price))"
   ]
  },
  {
   "cell_type": "code",
   "execution_count": 130,
   "id": "825f8b51",
   "metadata": {},
   "outputs": [
    {
     "name": "stdout",
     "output_type": "stream",
     "text": [
      "The price is49 dollars\n"
     ]
    }
   ],
   "source": [
    "price = 49\n",
    "txt = \"The price is{} dollars\"\n",
    "print(txt.format(price))"
   ]
  },
  {
   "cell_type": "code",
   "execution_count": 132,
   "id": "794bd5ac",
   "metadata": {},
   "outputs": [
    {
     "name": "stdout",
     "output_type": "stream",
     "text": [
      "The price is 49.00 dollars\n"
     ]
    }
   ],
   "source": [
    "txt = \"The price is {:.2f} dollars\"\n",
    "print(txt.format(price))"
   ]
  },
  {
   "cell_type": "code",
   "execution_count": 14,
   "id": "42c309ab",
   "metadata": {},
   "outputs": [
    {
     "name": "stdout",
     "output_type": "stream",
     "text": [
      "<_io.BufferedReader name='C:/flower.jpg'>\n"
     ]
    }
   ],
   "source": [
    "f = open(\"C:/flower.jpg\",'rb')\n",
    "print(f)"
   ]
  },
  {
   "cell_type": "code",
   "execution_count": 277,
   "id": "2561e20c",
   "metadata": {},
   "outputs": [
    {
     "name": "stdout",
     "output_type": "stream",
     "text": [
      "my name is bhawana.\n",
      "its my class.\n"
     ]
    }
   ],
   "source": [
    "f = open (\"C:/xyz.txt\",\"r\")\n",
    "print(f.read())"
   ]
  },
  {
   "cell_type": "code",
   "execution_count": 279,
   "id": "e3093fd8",
   "metadata": {},
   "outputs": [
    {
     "name": "stdout",
     "output_type": "stream",
     "text": [
      "b'my name is bhawana.\\r\\nits my class.'\n"
     ]
    }
   ],
   "source": [
    "f = open(\"C:/xyz.txt\",\"rb\")\n",
    "print(f.read())\n"
   ]
  },
  {
   "cell_type": "code",
   "execution_count": 244,
   "id": "8f9ef24b",
   "metadata": {},
   "outputs": [
    {
     "name": "stdout",
     "output_type": "stream",
     "text": [
      "HELLO WORLD in f.\n"
     ]
    }
   ],
   "source": [
    "f = open(\"C:/Users/LENOVO/abcc.txt\",\"r\")\n",
    "print(f.read())"
   ]
  },
  {
   "cell_type": "code",
   "execution_count": 208,
   "id": "38d2aec6",
   "metadata": {},
   "outputs": [
    {
     "name": "stdout",
     "output_type": "stream",
     "text": [
      "b'HELLO WORLD in f.'\n"
     ]
    }
   ],
   "source": [
    "f = open(\"C:/Users/LENOVO/abcc.txt\",'rb')\n",
    "print(f.read())\n"
   ]
  },
  {
   "cell_type": "code",
   "execution_count": 22,
   "id": "2235f626",
   "metadata": {},
   "outputs": [],
   "source": [
    "f = open(\"C:/Users/LENOVO/abcc.txt\",\"w\")\n",
    "f.write(\"HELLO WORLD in f.\")\n",
    "f.close()\n",
    "\n",
    "\n",
    "       "
   ]
  },
  {
   "cell_type": "code",
   "execution_count": 259,
   "id": "04b861ac",
   "metadata": {},
   "outputs": [
    {
     "ename": "FileNotFoundError",
     "evalue": "[Errno 2] No such file or directory: 'C:/world1.text'",
     "output_type": "error",
     "traceback": [
      "\u001b[1;31m---------------------------------------------------------------------------\u001b[0m",
      "\u001b[1;31mFileNotFoundError\u001b[0m                         Traceback (most recent call last)",
      "Input \u001b[1;32mIn [259]\u001b[0m, in \u001b[0;36m<cell line: 1>\u001b[1;34m()\u001b[0m\n\u001b[1;32m----> 1\u001b[0m f \u001b[38;5;241m=\u001b[39m \u001b[38;5;28;43mopen\u001b[39;49m\u001b[43m(\u001b[49m\u001b[38;5;124;43m\"\u001b[39;49m\u001b[38;5;124;43mC:/world1.text\u001b[39;49m\u001b[38;5;124;43m\"\u001b[39;49m\u001b[43m,\u001b[49m\u001b[38;5;124;43m\"\u001b[39;49m\u001b[38;5;124;43mr\u001b[39;49m\u001b[38;5;124;43m\"\u001b[39;49m\u001b[43m)\u001b[49m\n\u001b[0;32m      2\u001b[0m \u001b[38;5;28mprint\u001b[39m(f\u001b[38;5;241m.\u001b[39mread())\n",
      "\u001b[1;31mFileNotFoundError\u001b[0m: [Errno 2] No such file or directory: 'C:/world1.text'"
     ]
    }
   ],
   "source": [
    "f = open(\"C:/world1.text\",\"r\")\n",
    "print(f.read())\n",
    "\n",
    "\n"
   ]
  },
  {
   "cell_type": "code",
   "execution_count": 229,
   "id": "af75e0aa",
   "metadata": {},
   "outputs": [
    {
     "name": "stdout",
     "output_type": "stream",
     "text": [
      "b'HELLO WORLD in f.'\n"
     ]
    }
   ],
   "source": [
    "f = open(\"C:/Users/LENOVO/abcc.txt\",\"rb\")\n",
    "print(f.read())\n"
   ]
  },
  {
   "cell_type": "code",
   "execution_count": 210,
   "id": "c13c4341",
   "metadata": {},
   "outputs": [
    {
     "name": "stdout",
     "output_type": "stream",
     "text": [
      "HELLO WORLD in f.\n"
     ]
    }
   ],
   "source": [
    "f = open(\"C:/Users/LENOVO/abcc.txt\", \"r\")\n",
    "for x in f:\n",
    "  print(x)\n"
   ]
  },
  {
   "cell_type": "code",
   "execution_count": 68,
   "id": "e0256b7f",
   "metadata": {},
   "outputs": [],
   "source": [
    "f =open(\"C:/Users/LENOVO/abcc.txt\",mode=\"r\")\n",
    "number_of_words=0\n",
    "number_of_chars=0\n",
    "number_of_lines=0\n",
    "for line in f:\n",
    "    number_of_lines+=1\n",
    "    line=line.strip(\"\\n\")\n",
    "    number_of_chars += len(line)\n",
    "    \n",
    "    list1=line.split()\n",
    "    number_of_words += len(list1)\n",
    "f.close()    "
   ]
  },
  {
   "cell_type": "code",
   "execution_count": 11,
   "id": "e1364756",
   "metadata": {},
   "outputs": [],
   "source": [
    "f = open(\"C:/Users/LENOVO/abcc.txt\",\"w\")\n",
    "f.write(\"Hello! Welcome to demofile.txt\")\n",
    "f.close()\n"
   ]
  },
  {
   "cell_type": "markdown",
   "id": "0b1e644f",
   "metadata": {},
   "source": [
    "# check image in the save drive"
   ]
  },
  {
   "cell_type": "code",
   "execution_count": 67,
   "id": "a73ccb9c",
   "metadata": {},
   "outputs": [],
   "source": [
    "with open(\"C:/flower.jpg\",\"rb\") as f:\n",
    "    with open(\"F:/flower_new.jpg\", 'wb') as file:\n",
    "        file.write(f.read())"
   ]
  },
  {
   "cell_type": "code",
   "execution_count": 70,
   "id": "3f3f5aed",
   "metadata": {},
   "outputs": [],
   "source": [
    "c1 = Customer(\"95774238923\")"
   ]
  },
  {
   "cell_type": "code",
   "execution_count": 71,
   "id": "2d2ea2a6",
   "metadata": {},
   "outputs": [
    {
     "name": "stdout",
     "output_type": "stream",
     "text": [
      "95774238923\n"
     ]
    }
   ],
   "source": [
    "c1.get_number()"
   ]
  },
  {
   "cell_type": "code",
   "execution_count": 11,
   "id": "298e5a13",
   "metadata": {},
   "outputs": [
    {
     "name": "stdout",
     "output_type": "stream",
     "text": [
      "Mike Olsen\n"
     ]
    }
   ],
   "source": [
    "class Person:\n",
    "  def __init__(self, fname, lname):\n",
    "    self.firstname = fname\n",
    "    self.lastname = lname\n",
    "\n",
    "  def printname(self):\n",
    "        print(self.firstname, self.lastname)\n",
    "x = person(\"Mike\", \"Olsen\")\n",
    "x.printname()"
   ]
  },
  {
   "cell_type": "code",
   "execution_count": 7,
   "id": "4142515d",
   "metadata": {},
   "outputs": [
    {
     "name": "stdout",
     "output_type": "stream",
     "text": [
      "Mike Olsen\n"
     ]
    }
   ],
   "source": [
    "class Person:\n",
    "  def __init__(self, fname, lname):\n",
    "    self.firstname = fname\n",
    "    self.lastname = lname\n",
    "\n",
    "  def printname(self):\n",
    "    print(self.firstname, self.lastname)\n",
    "\n",
    "class Student(Person):\n",
    "  def __init__(self, fname, lname):\n",
    "    super().__init__(fname, lname)\n",
    "\n",
    "x = Student(\"Mike\", \"Olsen\")\n",
    "x.printname()\n",
    "\n"
   ]
  },
  {
   "cell_type": "code",
   "execution_count": 75,
   "id": "bd56eed1",
   "metadata": {},
   "outputs": [],
   "source": [
    "with open(\"F:/tree.jpg\" ,\"rb\") as f:\n",
    "          with open(\"F:/tree.jpg\",\"wb\") as file:\n",
    "            file.write(f.read())"
   ]
  },
  {
   "cell_type": "code",
   "execution_count": 105,
   "id": "c145e38e",
   "metadata": {},
   "outputs": [],
   "source": [
    "with open(\"C:/butterf.jpg\",\"rb\") as f:\n",
    "    with open(\"F:/butterfa.jpg\",\"wb\") as file:\n",
    "        file.write(f.read())"
   ]
  },
  {
   "cell_type": "code",
   "execution_count": 108,
   "id": "b5406052",
   "metadata": {},
   "outputs": [],
   "source": [
    "with open(\"C:/butterf.jpg\",\"rb\") as f:\n",
    "    with open(\"F:/butterfbb.jpg\",\"wb\") as file:\n",
    "        file.write(f.read())"
   ]
  },
  {
   "cell_type": "code",
   "execution_count": 87,
   "id": "99179ddb",
   "metadata": {},
   "outputs": [
    {
     "name": "stdout",
     "output_type": "stream",
     "text": [
      "HELLO WORLD in f.\n"
     ]
    }
   ],
   "source": [
    "f = open(\"C:/Users/LENOVO/abcc.txt\",\"r\")\n",
    "print(f.readline())\n",
    "f.close()"
   ]
  },
  {
   "cell_type": "code",
   "execution_count": 96,
   "id": "f1d9af12",
   "metadata": {},
   "outputs": [
    {
     "name": "stdout",
     "output_type": "stream",
     "text": [
      "craft javapoint\n"
     ]
    }
   ],
   "source": [
    "class customer:\n",
    "    def __init__(self,filename,officename):\n",
    "        self.filename = filename\n",
    "        self.officename = officename\n",
    "    def printname(self):\n",
    "        print(self.filename,self.officename)\n",
    "x = customer(\"craft\", \"javapoint\")\n",
    "x.printname()    "
   ]
  },
  {
   "cell_type": "code",
   "execution_count": null,
   "id": "c5846d5f",
   "metadata": {},
   "outputs": [],
   "source": [
    " def printname(self):\n",
    "    print(self.firstname, self.lastname)\n",
    "\n",
    "#Use the Person class to create an object, and then execute the printname method:\n",
    "\n",
    "x = Person(\"John\", \"Doe\")\n",
    "x.printname()"
   ]
  },
  {
   "cell_type": "code",
   "execution_count": 94,
   "id": "5cb0f500",
   "metadata": {},
   "outputs": [
    {
     "name": "stdout",
     "output_type": "stream",
     "text": [
      "John Doe\n"
     ]
    }
   ],
   "source": [
    "class Person:\n",
    "  def __init__(self, fname, lname):\n",
    "    self.firstname = fname\n",
    "    self.lastname = lname\n",
    "\n",
    "  def printname(self):\n",
    "    print(self.firstname, self.lastname)\n",
    "\n",
    "#Use the Person class to create an object, and then execute the printname method:\n",
    "\n",
    "x = Person(\"John\", \"Doe\")\n",
    "x.printname()"
   ]
  },
  {
   "cell_type": "code",
   "execution_count": 97,
   "id": "ad22779a",
   "metadata": {},
   "outputs": [
    {
     "name": "stdout",
     "output_type": "stream",
     "text": [
      "95774238923\n"
     ]
    }
   ],
   "source": [
    "class Customer:\n",
    "    def __init__(self,mob):\n",
    "        self.number = mob\n",
    "        \n",
    "    def get_number(self):\n",
    "        print(self.number)\n",
    "c1 = Customer(\"95774238923\")\n",
    "c1.get_number()"
   ]
  },
  {
   "cell_type": "code",
   "execution_count": 102,
   "id": "265a81b7",
   "metadata": {},
   "outputs": [
    {
     "name": "stdout",
     "output_type": "stream",
     "text": [
      "A+ 10th\n"
     ]
    }
   ],
   "source": [
    "class section:\n",
    "    def __init__(self,section,standard):\n",
    "        self.section = section\n",
    "        self.standard = standard\n",
    "    def printname(self):\n",
    "        print(self.section,self.standard)\n",
    "x = section(\"A+\",\"10th\")\n",
    "x.printname()\n",
    "\n",
    "        "
   ]
  },
  {
   "cell_type": "code",
   "execution_count": 113,
   "id": "8da90fa7",
   "metadata": {},
   "outputs": [],
   "source": [
    " with open(\"C:/butterf.jpg\",\"rb\") as f:\n",
    "    with open(\"F:/butterfa.jpg\",\"wb\") as file:\n",
    "        file.write(f.read())"
   ]
  },
  {
   "cell_type": "code",
   "execution_count": 115,
   "id": "352b759f",
   "metadata": {},
   "outputs": [
    {
     "name": "stdout",
     "output_type": "stream",
     "text": [
      "bhawana 28\n"
     ]
    }
   ],
   "source": [
    "class section:\n",
    "    def __init__(self, name,age):\n",
    "        self.name = name\n",
    "        self.age  = age\n",
    "    def printname(self):\n",
    "        print(self.name,self.age)\n",
    "x= section(\"bhawana\",\"28\")\n",
    "x.printname()"
   ]
  },
  {
   "cell_type": "code",
   "execution_count": 120,
   "id": "ee7da78b",
   "metadata": {},
   "outputs": [
    {
     "name": "stdout",
     "output_type": "stream",
     "text": [
      "englis 5th\n"
     ]
    }
   ],
   "source": [
    "class function:\n",
    "    def __init__(self,subject,row):\n",
    "        self.subject =subject\n",
    "        self.row     = row\n",
    "    def printname(self):\n",
    "        print(self.subject,self.row)\n",
    "x = function(\"englis\",\"5th\")\n",
    "x.printname()"
   ]
  },
  {
   "cell_type": "code",
   "execution_count": 8,
   "id": "9911253a",
   "metadata": {},
   "outputs": [
    {
     "name": "stdout",
     "output_type": "stream",
     "text": [
      "indore xyz\n"
     ]
    }
   ],
   "source": [
    "class function():\n",
    "    def __init__(self,city,colony):\n",
    "        self.city = city\n",
    "        self.colony = colony\n",
    "    def printname(self):\n",
    "        print(self.city,self.colony)\n",
    "x = function(\"indore\",\"xyz\")\n",
    "x.printname()\n",
    "\n",
    "        \n",
    "        \n",
    "        \n",
    "        \n",
    "        \n",
    "        \n",
    "        "
   ]
  },
  {
   "cell_type": "code",
   "execution_count": null,
   "id": "f85fc465",
   "metadata": {},
   "outputs": [],
   "source": [
    "alphabets=[chr(i) for i in range(65,91)]\n",
    "vowels = list(filter(lambda x: x in [\"A\",\"E\",\"I\",\"O\",\"U\"],alphabets))\n",
    "consonent = list(filter(lambda x: x not in [\"A\",\"E\",\"I\",\"O\",\"U\"],alphabets))"
   ]
  },
  {
   "cell_type": "code",
   "execution_count": 4,
   "id": "020a8092",
   "metadata": {},
   "outputs": [],
   "source": [
    "alphabets=[chr(i)for i in range(65,91)]\n",
    "vowels = list(filter(lambda x:x in[\"A\",\"E\",\"I\",\"O\",\"U\"],alphabets ))\n",
    "consonent = list(filter(lambda x: x not in[\"A\",\"E\",\"I\",\"O\",\"U\"],alphabets))"
   ]
  },
  {
   "cell_type": "code",
   "execution_count": 5,
   "id": "09912125",
   "metadata": {},
   "outputs": [
    {
     "name": "stdout",
     "output_type": "stream",
     "text": [
      "['A', 'E', 'I', 'O', 'U']\n"
     ]
    }
   ],
   "source": [
    "print(vowels)"
   ]
  },
  {
   "cell_type": "code",
   "execution_count": 6,
   "id": "7eabcb02",
   "metadata": {},
   "outputs": [
    {
     "name": "stdout",
     "output_type": "stream",
     "text": [
      "['B', 'C', 'D', 'F', 'G', 'H', 'J', 'K', 'L', 'M', 'N', 'P', 'Q', 'R', 'S', 'T', 'V', 'W', 'X', 'Y', 'Z']\n"
     ]
    }
   ],
   "source": [
    "print(consonent)"
   ]
  },
  {
   "cell_type": "code",
   "execution_count": 10,
   "id": "a0c699f7",
   "metadata": {},
   "outputs": [
    {
     "name": "stdout",
     "output_type": "stream",
     "text": [
      "[10, 11, 12, 13, 14, 15, 16, 17, 18, 19, 20, 21, 22, 23, 24, 25, 26, 27, 28, 29, 30, 31, 32, 33, 34, 35, 36, 37, 38, 39]\n"
     ]
    }
   ],
   "source": [
    "random =(range(0,30))\n",
    "random_map = list(map(lambda x:x+10,random))\n",
    "print(random_map)"
   ]
  },
  {
   "cell_type": "code",
   "execution_count": 11,
   "id": "60beda3a",
   "metadata": {},
   "outputs": [
    {
     "name": "stdout",
     "output_type": "stream",
     "text": [
      "[5, 6, 7, 8, 9, 10, 11, 12, 13, 14, 15, 16, 17, 18, 19, 20, 21, 22, 23, 24, 25, 26, 27, 28, 29, 30, 31, 32, 33, 34]\n"
     ]
    }
   ],
   "source": [
    "random_num = (range(1,10))\n",
    "random_map =list(map(lambda x:x+5,random))\n",
    "print(random_map)"
   ]
  },
  {
   "cell_type": "code",
   "execution_count": 13,
   "id": "507213a6",
   "metadata": {},
   "outputs": [
    {
     "name": "stdout",
     "output_type": "stream",
     "text": [
      "[0, 2, 4, 6, 8, 10, 12, 14, 16, 18, 20, 22, 24, 26, 28]\n"
     ]
    }
   ],
   "source": [
    "num = (range(1,20))\n",
    "even_num =list(filter(lambda x: x%2==0,random))\n",
    "print(even_num)"
   ]
  },
  {
   "cell_type": "code",
   "execution_count": 40,
   "id": "b76c904f",
   "metadata": {},
   "outputs": [
    {
     "name": "stdout",
     "output_type": "stream",
     "text": [
      "indore xyz\n"
     ]
    }
   ],
   "source": [
    "class function():\n",
    "    def __init__(self,city,colony):\n",
    "        self.city = city\n",
    "        self.colony = colony\n",
    "    def printname(self):\n",
    "        print(self.city,self.colony)\n",
    "x = function(\"indore\",\"xyz\")\n",
    "x.printname()\n"
   ]
  },
  {
   "cell_type": "code",
   "execution_count": 18,
   "id": "ede28a34",
   "metadata": {},
   "outputs": [
    {
     "name": "stdout",
     "output_type": "stream",
     "text": [
      "A+ 10th\n"
     ]
    }
   ],
   "source": [
    "class section:\n",
    "    def __init__(self,section,standard):\n",
    "        self.section = section\n",
    "        self.standard = standard\n",
    "    def printname(self):\n",
    "        print(self.section,self.standard)\n",
    "x = section(\"A+\",\"10th\")\n",
    "x.printname()\n",
    "\n",
    "        "
   ]
  },
  {
   "cell_type": "code",
   "execution_count": 22,
   "id": "99fb146d",
   "metadata": {},
   "outputs": [
    {
     "name": "stdout",
     "output_type": "stream",
     "text": [
      "A++ first\n"
     ]
    }
   ],
   "source": [
    "class section():\n",
    " def __init__(self,section,standard):\n",
    "        self.section= section\n",
    "        self.standard= standard\n",
    " def printname(self):\n",
    "        print(self.section,self.standard)\n",
    "x = section('A++','first')\n",
    "x.printname()\n",
    "    "
   ]
  },
  {
   "cell_type": "code",
   "execution_count": 23,
   "id": "d6e42502",
   "metadata": {},
   "outputs": [
    {
     "name": "stdout",
     "output_type": "stream",
     "text": [
      "b++ second\n"
     ]
    }
   ],
   "source": [
    "class section():\n",
    "    def __init__(self,standard,section):\n",
    "        self.standard = standard\n",
    "        self.section = section\n",
    "    def printname(self):\n",
    "        print(self.standard,self.section)\n",
    "x= section('b++','second')\n",
    "x.printname()\n",
    "        "
   ]
  },
  {
   "cell_type": "code",
   "execution_count": 26,
   "id": "3e4e9c2e",
   "metadata": {},
   "outputs": [
    {
     "name": "stdout",
     "output_type": "stream",
     "text": [
      "ayz indore\n"
     ]
    }
   ],
   "source": [
    "class Details():\n",
    " def __init__(self,name,address):\n",
    "        self.name = name\n",
    "        self.address = address\n",
    " def printname(self):\n",
    "     print(self.name,self.address)\n",
    "x = Details('ayz','indore')\n",
    "x.printname()\n",
    "        "
   ]
  },
  {
   "cell_type": "code",
   "execution_count": 29,
   "id": "e53da002",
   "metadata": {},
   "outputs": [
    {
     "name": "stdout",
     "output_type": "stream",
     "text": [
      "(2, 4)\n"
     ]
    }
   ],
   "source": [
    "import  numpy as np\n",
    "\n",
    "arr = np.array([[1, 2, 3, 4], [5, 6, 7, 8]])\n",
    "\n",
    "print(arr.shape)"
   ]
  },
  {
   "cell_type": "code",
   "execution_count": 30,
   "id": "fcb4c4bf",
   "metadata": {},
   "outputs": [
    {
     "name": "stdout",
     "output_type": "stream",
     "text": [
      "[1 2 3 4 5 6]\n"
     ]
    }
   ],
   "source": [
    "import numpy as np\n",
    "\n",
    "arr = np.array([[1, 2, 3], [4, 5, 6]])\n",
    "\n",
    "newarr = arr.reshape(-1)\n",
    "\n",
    "print(newarr)"
   ]
  },
  {
   "cell_type": "code",
   "execution_count": 34,
   "id": "14e60d65",
   "metadata": {},
   "outputs": [
    {
     "name": "stdout",
     "output_type": "stream",
     "text": [
      "[1 2 3]\n",
      "[1 2 3]\n"
     ]
    }
   ],
   "source": [
    "import numpy as np\n",
    "arr = np.array([1,2,3])\n",
    "newarr = arr.view()\n",
    "print(newarr)\n",
    "print(arr)"
   ]
  },
  {
   "cell_type": "code",
   "execution_count": null,
   "id": "5f2c65cb",
   "metadata": {},
   "outputs": [],
   "source": [
    "import numpy as np\n",
    "arr = np.array([2,5,6,7])\n",
    "y = arr.view()\n",
    "arr[1] = 32\n",
    "print(arr)\n",
    "print(y)\n"
   ]
  },
  {
   "cell_type": "code",
   "execution_count": 37,
   "id": "7fef47de",
   "metadata": {},
   "outputs": [
    {
     "name": "stdout",
     "output_type": "stream",
     "text": [
      "[4 5 6 7]\n",
      "[4 5 6 7]\n"
     ]
    }
   ],
   "source": [
    "import numpy as np\n",
    "arr = np.array([4,5,6,7])\n",
    "x = arr.view()\n",
    "print(arr)\n",
    "print(x)"
   ]
  },
  {
   "cell_type": "code",
   "execution_count": null,
   "id": "924aff80",
   "metadata": {},
   "outputs": [],
   "source": [
    "import pandas as pd\n",
    "\n",
    "a = [1, 7, 2]\n",
    "\n",
    "myvar = pd.Series(a)\n",
    "\n",
    "print(myvar)"
   ]
  },
  {
   "cell_type": "code",
   "execution_count": 45,
   "id": "732d1a11",
   "metadata": {},
   "outputs": [
    {
     "name": "stdout",
     "output_type": "stream",
     "text": [
      "0    22\n",
      "1    24\n",
      "2     3\n",
      "dtype: int64\n"
     ]
    }
   ],
   "source": [
    "import pandas as pd\n",
    "A =[22,24,3]\n",
    "myarr = pd.Series(A)\n",
    "print(myarr)\n"
   ]
  },
  {
   "cell_type": "code",
   "execution_count": 49,
   "id": "c448eff9",
   "metadata": {},
   "outputs": [
    {
     "name": "stdout",
     "output_type": "stream",
     "text": [
      "a1    1\n",
      "a2    2\n",
      "a3    3\n",
      "dtype: int64\n"
     ]
    }
   ],
   "source": [
    "import pandas as pd\n",
    "A =[1,2,3]\n",
    "myarr = pd.Series(A,index =['a1','a2','a3'])\n",
    "print(myarr)"
   ]
  },
  {
   "cell_type": "code",
   "execution_count": null,
   "id": "25c7c29b",
   "metadata": {},
   "outputs": [],
   "source": [
    "class Details():\n",
    " def __init__(self,name,address):\n",
    "        self.name = name\n",
    "        self.address = address\n",
    " def printname(self):\n",
    "     print(self.name,self.address)\n",
    "x = Details('ayz','indore')\n",
    "x.printname()\n",
    "        "
   ]
  },
  {
   "cell_type": "code",
   "execution_count": 4,
   "id": "f2187766",
   "metadata": {},
   "outputs": [
    {
     "name": "stdout",
     "output_type": "stream",
     "text": [
      "bhawana\n"
     ]
    }
   ],
   "source": [
    "class function():\n",
    "  def __init__(self,name):\n",
    "        self.name = name\n",
    "  def printname(self):\n",
    "        print(self.name)\n",
    "x = function('bhawana')\n",
    "x.printname()\n",
    "        "
   ]
  },
  {
   "cell_type": "code",
   "execution_count": 1,
   "id": "5c127138",
   "metadata": {},
   "outputs": [
    {
     "name": "stdout",
     "output_type": "stream",
     "text": [
      "<_io.TextIOWrapper name='C:\\\\opq.txt' mode='r' encoding='cp1252'>\n"
     ]
    }
   ],
   "source": [
    "f = open('C:\\opq.txt','r')\n",
    "print(f)"
   ]
  },
  {
   "cell_type": "code",
   "execution_count": 4,
   "id": "b38df42e",
   "metadata": {},
   "outputs": [
    {
     "name": "stdout",
     "output_type": "stream",
     "text": [
      "its a as pen,\n",
      "she is good girl,\n",
      "he is good boy.\n"
     ]
    }
   ],
   "source": [
    "f = open('C:\\opq.txt','r')\n",
    "print(f.read())"
   ]
  },
  {
   "cell_type": "code",
   "execution_count": 28,
   "id": "2d3ff6b1",
   "metadata": {},
   "outputs": [],
   "source": [
    "f = open(r'C:\\Users\\LENOVO\\Downloads\\opq.txt','w')\n",
    "f.write('its a as pen,f.')\n",
    "f.close()"
   ]
  },
  {
   "cell_type": "code",
   "execution_count": 23,
   "id": "00522f81",
   "metadata": {},
   "outputs": [
    {
     "ename": "PermissionError",
     "evalue": "[Errno 13] Permission denied: 'C:\\\\opq.txt'",
     "output_type": "error",
     "traceback": [
      "\u001b[1;31m---------------------------------------------------------------------------\u001b[0m",
      "\u001b[1;31mPermissionError\u001b[0m                           Traceback (most recent call last)",
      "Input \u001b[1;32mIn [23]\u001b[0m, in \u001b[0;36m<cell line: 1>\u001b[1;34m()\u001b[0m\n\u001b[1;32m----> 1\u001b[0m f \u001b[38;5;241m=\u001b[39m \u001b[38;5;28;43mopen\u001b[39;49m\u001b[43m(\u001b[49m\u001b[38;5;124;43m\"\u001b[39;49m\u001b[38;5;124;43mC:\u001b[39;49m\u001b[38;5;124;43m\\\u001b[39;49m\u001b[38;5;124;43mopq.txt\u001b[39;49m\u001b[38;5;124;43m\"\u001b[39;49m\u001b[43m,\u001b[49m\u001b[38;5;124;43m\"\u001b[39;49m\u001b[38;5;124;43mw\u001b[39;49m\u001b[38;5;124;43m\"\u001b[39;49m\u001b[43m)\u001b[49m\n\u001b[0;32m      2\u001b[0m f\u001b[38;5;241m.\u001b[39mwrite(\u001b[38;5;124m\"\u001b[39m\u001b[38;5;124mshe is good girl.txt\u001b[39m\u001b[38;5;124m\"\u001b[39m)\n\u001b[0;32m      3\u001b[0m f\u001b[38;5;241m.\u001b[39mclose()\n",
      "\u001b[1;31mPermissionError\u001b[0m: [Errno 13] Permission denied: 'C:\\\\opq.txt'"
     ]
    }
   ],
   "source": [
    "f = open(\"C:\\opq.txt\",\"w\")\n",
    "f.write(\"she is good girl.txt\")\n",
    "f.close()\n"
   ]
  },
  {
   "cell_type": "code",
   "execution_count": null,
   "id": "f0ab84a2",
   "metadata": {},
   "outputs": [],
   "source": []
  }
 ],
 "metadata": {
  "kernelspec": {
   "display_name": "Python 3 (ipykernel)",
   "language": "python",
   "name": "python3"
  },
  "language_info": {
   "codemirror_mode": {
    "name": "ipython",
    "version": 3
   },
   "file_extension": ".py",
   "mimetype": "text/x-python",
   "name": "python",
   "nbconvert_exporter": "python",
   "pygments_lexer": "ipython3",
   "version": "3.10.6"
  },
  "vscode": {
   "interpreter": {
    "hash": "f2ccb58c476f33ba3e3aee7ac07234ef6b8217ef24ad64d2a7d4fed1a57c1cd2"
   }
  }
 },
 "nbformat": 4,
 "nbformat_minor": 5
}
