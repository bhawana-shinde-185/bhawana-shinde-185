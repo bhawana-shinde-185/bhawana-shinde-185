{
 "cells": [
  {
   "cell_type": "code",
   "execution_count": null,
   "id": "3eedfe54",
   "metadata": {},
   "outputs": [],
   "source": [
    "age1=int(input(\"your age1 : \"))\n",
    "age2=int(input(\"your age2 : \"))\n",
    "def Rules():\n",
    "    if age1 >= 17 and age2 <= 65:\n",
    "        print(\"you can drive\")\n",
    "    else:\n",
    "        print(\"you are underage\")\n",
    "    "
   ]
  },
  {
   "cell_type": "code",
   "execution_count": null,
   "id": "e2ad9c9f",
   "metadata": {},
   "outputs": [],
   "source": [
    "def name():\n",
    "    username = input(\"your name:\")\n",
    "    print(\"my name is:\" + username)\n",
    "    name()\n",
    "    "
   ]
  },
  {
   "cell_type": "code",
   "execution_count": null,
   "id": "5e159c43",
   "metadata": {},
   "outputs": [],
   "source": [
    "def function():\n",
    "    a = 350\n",
    "    b = 300\n",
    "    print(\"A\") if a > b else print(\"=\") if a == b else print(\"B\")\n",
    "function()\n"
   ]
  },
  {
   "cell_type": "code",
   "execution_count": null,
   "id": "e343e654",
   "metadata": {},
   "outputs": [],
   "source": [
    "username = input(\"your name:\")\n",
    "print(\"my name is:\" + username)\n",
    "\n",
    "    "
   ]
  },
  {
   "cell_type": "code",
   "execution_count": null,
   "id": "4be57f0a",
   "metadata": {},
   "outputs": [],
   "source": [
    "username = input(\"your name:\")\n",
    "print(\"my name is:\"+username)"
   ]
  },
  {
   "cell_type": "code",
   "execution_count": null,
   "id": "dc1f4d0f",
   "metadata": {},
   "outputs": [],
   "source": [
    "username = input(\"your age:\")\n",
    "print(\"my age is:\"+username)"
   ]
  },
  {
   "cell_type": "code",
   "execution_count": null,
   "id": "78cb11b0",
   "metadata": {},
   "outputs": [],
   "source": [
    "username = input(\"your name\")\n",
    "print(\"my name is:\"+ username)"
   ]
  },
  {
   "cell_type": "code",
   "execution_count": null,
   "id": "dddd4efb",
   "metadata": {},
   "outputs": [],
   "source": [
    "age1=int(input(\"your age1 : \"))\n",
    "age2=int(input(\"your age2 : \"))\n"
   ]
  },
  {
   "cell_type": "code",
   "execution_count": null,
   "id": "e2f58a73",
   "metadata": {},
   "outputs": [],
   "source": [
    "username = input(\"your name\")\n",
    "print(\"my name is :\"+username)\n"
   ]
  },
  {
   "cell_type": "code",
   "execution_count": null,
   "id": "0428c2d4",
   "metadata": {},
   "outputs": [],
   "source": [
    "def my_function(fname):\n",
    "  print(fname + \" Refsnes\")\n",
    "\n",
    "my_function(\"Emil\")\n",
    "my_function(\"Tobias\")\n",
    "my_function(\"Linus\")"
   ]
  },
  {
   "cell_type": "code",
   "execution_count": null,
   "id": "1d6032d8",
   "metadata": {},
   "outputs": [],
   "source": []
  },
  {
   "cell_type": "code",
   "execution_count": null,
   "id": "c1286db6",
   "metadata": {},
   "outputs": [],
   "source": []
  }
 ],
 "metadata": {
  "kernelspec": {
   "display_name": "Python 3 (ipykernel)",
   "language": "python",
   "name": "python3"
  },
  "language_info": {
   "codemirror_mode": {
    "name": "ipython",
    "version": 3
   },
   "file_extension": ".py",
   "mimetype": "text/x-python",
   "name": "python",
   "nbconvert_exporter": "python",
   "pygments_lexer": "ipython3",
   "version": "3.10.6"
  }
 },
 "nbformat": 4,
 "nbformat_minor": 5
}
