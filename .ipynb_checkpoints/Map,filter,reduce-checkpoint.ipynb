{
 "cells": [
  {
   "cell_type": "code",
   "execution_count": 1,
   "id": "427069a4",
   "metadata": {},
   "outputs": [
    {
     "name": "stdout",
     "output_type": "stream",
     "text": [
      "[-3, -2, -1, 0, 1, 2, 3, 4, 5, 6]\n"
     ]
    }
   ],
   "source": [
    "random =[i for i in range(0,10)]\n",
    "random_map = list(map(lambda x : x-3 ,random))\n",
    "print(random_map)"
   ]
  },
  {
   "cell_type": "code",
   "execution_count": 4,
   "id": "1b9642f1",
   "metadata": {},
   "outputs": [
    {
     "name": "stdout",
     "output_type": "stream",
     "text": [
      "[0, 2, 4, 6, 8, 10, 12, 14, 16, 18]\n"
     ]
    }
   ],
   "source": [
    "num = (range(0,20))\n",
    "even_num = list(filter(lambda x: x%2==0,num))\n",
    "print(even_num)\n",
    "\n"
   ]
  },
  {
   "cell_type": "code",
   "execution_count": 32,
   "id": "541c9fff",
   "metadata": {},
   "outputs": [
    {
     "name": "stdout",
     "output_type": "stream",
     "text": [
      "[1, 3, 5, 7, 9, 11, 13, 15, 17, 19, 21, 23, 25, 27, 29, 31, 33]\n"
     ]
    }
   ],
   "source": [
    "num = (range(0,35))\n",
    "odd_num = list(filter(lambda x: x%2!=0,num))\n",
    "print(odd_num)"
   ]
  },
  {
   "cell_type": "code",
   "execution_count": 10,
   "id": "2f7e361e",
   "metadata": {},
   "outputs": [
    {
     "name": "stdout",
     "output_type": "stream",
     "text": [
      "[2, 3, 4, 5, 6, 7, 8, 9, 10, 11, 12, 13, 14, 15, 16, 17, 18, 19, 20, 21, 22, 23, 24, 25, 26, 27, 28, 29, 30, 31]\n"
     ]
    }
   ],
   "source": [
    "numbers =( i for i in range(0,30))\n",
    "random_numbers= list(map(lambda x: x+2,numbers))\n",
    "print(random_numbers)"
   ]
  },
  {
   "cell_type": "code",
   "execution_count": 6,
   "id": "57f12bed",
   "metadata": {},
   "outputs": [],
   "source": [
    "random =[chr(i)for i in range(65,91)]"
   ]
  },
  {
   "cell_type": "code",
   "execution_count": 7,
   "id": "808947e9",
   "metadata": {},
   "outputs": [],
   "source": [
    "random_map = list(map(lambda x : x + \"E\",random ))"
   ]
  },
  {
   "cell_type": "code",
   "execution_count": 8,
   "id": "f193ad8c",
   "metadata": {},
   "outputs": [
    {
     "data": {
      "text/plain": [
       "['AE',\n",
       " 'BE',\n",
       " 'CE',\n",
       " 'DE',\n",
       " 'EE',\n",
       " 'FE',\n",
       " 'GE',\n",
       " 'HE',\n",
       " 'IE',\n",
       " 'JE',\n",
       " 'KE',\n",
       " 'LE',\n",
       " 'ME',\n",
       " 'NE',\n",
       " 'OE',\n",
       " 'PE',\n",
       " 'QE',\n",
       " 'RE',\n",
       " 'SE',\n",
       " 'TE',\n",
       " 'UE',\n",
       " 'VE',\n",
       " 'WE',\n",
       " 'XE',\n",
       " 'YE',\n",
       " 'ZE']"
      ]
     },
     "execution_count": 8,
     "metadata": {},
     "output_type": "execute_result"
    }
   ],
   "source": [
    "random_map"
   ]
  },
  {
   "cell_type": "code",
   "execution_count": 9,
   "id": "1c0a45ea",
   "metadata": {
    "scrolled": true
   },
   "outputs": [
    {
     "name": "stdout",
     "output_type": "stream",
     "text": [
      "[-3, -2, -1, 0, 1, 2, 3, 4, 5, 6]\n"
     ]
    }
   ],
   "source": [
    "random =[i for i in range(0,10)]\n",
    "random_map = list(map(lambda x : x-3 ,random))\n",
    "print(random_map)"
   ]
  },
  {
   "cell_type": "code",
   "execution_count": 97,
   "id": "15fbb53c",
   "metadata": {},
   "outputs": [
    {
     "name": "stdout",
     "output_type": "stream",
     "text": [
      "[-5, -4, -3, -2, -1, 0, 1, 2, 3, 4]\n"
     ]
    }
   ],
   "source": [
    "random =[i for i in range(0,10)]\n",
    "random_map = list(map(lambda x : x-5 ,random))\n",
    "print(random_map)\n"
   ]
  },
  {
   "cell_type": "code",
   "execution_count": 13,
   "id": "918d4a92",
   "metadata": {},
   "outputs": [],
   "source": [
    "random = [chr(i) for i in range(65,91)]\n"
   ]
  },
  {
   "cell_type": "code",
   "execution_count": null,
   "id": "47a892d4",
   "metadata": {},
   "outputs": [],
   "source": [
    "random_map = list(map(lambda x : x + \"E\",random ))\n"
   ]
  },
  {
   "cell_type": "code",
   "execution_count": 16,
   "id": "1f779e51",
   "metadata": {},
   "outputs": [
    {
     "data": {
      "text/plain": [
       "['AE',\n",
       " 'BE',\n",
       " 'CE',\n",
       " 'DE',\n",
       " 'EE',\n",
       " 'FE',\n",
       " 'GE',\n",
       " 'HE',\n",
       " 'IE',\n",
       " 'JE',\n",
       " 'KE',\n",
       " 'LE',\n",
       " 'ME',\n",
       " 'NE',\n",
       " 'OE',\n",
       " 'PE',\n",
       " 'QE',\n",
       " 'RE',\n",
       " 'SE',\n",
       " 'TE',\n",
       " 'UE',\n",
       " 'VE',\n",
       " 'WE',\n",
       " 'XE',\n",
       " 'YE',\n",
       " 'ZE']"
      ]
     },
     "execution_count": 16,
     "metadata": {},
     "output_type": "execute_result"
    }
   ],
   "source": [
    "random_map"
   ]
  },
  {
   "cell_type": "code",
   "execution_count": 18,
   "id": "5fa84656",
   "metadata": {},
   "outputs": [
    {
     "name": "stdout",
     "output_type": "stream",
     "text": [
      "[10, 11, 12, 13, 14, 15, 16, 17, 18, 19, 20, 21, 22, 23, 24, 25, 26, 27, 28, 29, 30, 31, 32, 33, 34, 35, 36, 37, 38, 39]\n"
     ]
    }
   ],
   "source": [
    "random =(range(0,30))\n",
    "random_map = list(map(lambda x:x+10,random))\n",
    "print(random_map)"
   ]
  },
  {
   "cell_type": "code",
   "execution_count": 27,
   "id": "b0d4b1d9",
   "metadata": {},
   "outputs": [
    {
     "name": "stdout",
     "output_type": "stream",
     "text": [
      "[0, 2, 4, 6, 8, 10, 12, 14, 16, 18, 20, 22, 24, 26, 28, 30, 32, 34, 36, 38, 40, 42, 44, 46, 48, 50, 52, 54, 56, 58, 60, 62, 64, 66, 68, 70, 72, 74, 76, 78, 80, 82, 84, 86, 88, 90, 92, 94, 96, 98, 100, 102, 104, 106, 108, 110, 112, 114, 116, 118, 120, 122, 124, 126, 128, 130, 132, 134, 136, 138, 140, 142, 144, 146, 148, 150, 152, 154, 156, 158, 160, 162, 164, 166, 168, 170, 172, 174, 176, 178, 180, 182, 184, 186, 188, 190, 192, 194, 196, 198, 200, 202, 204, 206, 208, 210, 212, 214, 216, 218, 220, 222, 224, 226, 228, 230, 232, 234, 236, 238]\n"
     ]
    }
   ],
   "source": [
    "random =(range(0,120))\n",
    "random_map = list(map(lambda x,:x+x,random))\n",
    "print(random_map)\n"
   ]
  },
  {
   "cell_type": "code",
   "execution_count": 36,
   "id": "851ac3e4",
   "metadata": {},
   "outputs": [
    {
     "name": "stdout",
     "output_type": "stream",
     "text": [
      "[0, 2, 4, 6, 8, 10, 12, 14, 16, 18, 20, 22, 24, 26, 28, 30, 32, 34, 36, 38, 40, 42, 44, 46, 48, 50, 52, 54, 56, 58, 60, 62, 64, 66, 68, 70, 72, 74, 76, 78, 80, 82, 84, 86, 88, 90, 92, 94, 96, 98]\n"
     ]
    }
   ],
   "source": [
    "num1=(range(0,50))\n",
    "num2=(range(0,50))\n",
    "check_list=list(map(lambda x,y:x+y,num1,num2))\n",
    "print(check_list)\n",
    "\n"
   ]
  },
  {
   "cell_type": "code",
   "execution_count": 37,
   "id": "db54d704",
   "metadata": {},
   "outputs": [
    {
     "name": "stdout",
     "output_type": "stream",
     "text": [
      "[1, 4, 9, 16, 25, 36, 49, 64, 81]\n"
     ]
    }
   ],
   "source": [
    "numbers = (range(1,10))\n",
    "squared = list(map(lambda num: num ** 2, numbers))\n",
    "\n",
    "print(squared)"
   ]
  },
  {
   "cell_type": "code",
   "execution_count": 38,
   "id": "bc960c0f",
   "metadata": {},
   "outputs": [
    {
     "name": "stdout",
     "output_type": "stream",
     "text": [
      "66\n"
     ]
    }
   ],
   "source": [
    "import functools\n",
    "numbers =(range(0,12))\n",
    "print(functools.reduce(lambda a,b: a+b,numbers))\n",
    "\n"
   ]
  },
  {
   "cell_type": "code",
   "execution_count": 59,
   "id": "8e13031c",
   "metadata": {},
   "outputs": [
    {
     "name": "stdout",
     "output_type": "stream",
     "text": [
      "[0, 2, 4, 6, 8, 10, 12, 14, 16, 18]\n"
     ]
    }
   ],
   "source": [
    "def function():\n",
    "    num = range(0,52)\n",
    "    even_num =list(filter(lambda x:x%2==0,num))\n",
    "print(even_num)\n",
    "function()\n",
    "    "
   ]
  },
  {
   "cell_type": "code",
   "execution_count": 60,
   "id": "19a5eeb1",
   "metadata": {},
   "outputs": [
    {
     "name": "stdout",
     "output_type": "stream",
     "text": [
      "[1, 3, 5, 7, 9, 11, 13, 15, 17, 19, 21, 23, 25, 27, 29, 31, 33]\n"
     ]
    }
   ],
   "source": [
    "def function():\n",
    "    num = (range(1,20))\n",
    "    odd_num = list(filter(lambda x: x%2!=0,num))\n",
    "print(odd_num)\n",
    "function()\n"
   ]
  },
  {
   "cell_type": "code",
   "execution_count": 66,
   "id": "e3eb34f9",
   "metadata": {},
   "outputs": [
    {
     "name": "stdout",
     "output_type": "stream",
     "text": [
      "range(0, 120)\n"
     ]
    }
   ],
   "source": [
    "# def function():\n",
    "#     num = (range(0,30))\n",
    "#     random=list(map(lambda x:x+5,num))\n",
    "# print(random) \n",
    "# function()\n",
    "    \n",
    "    "
   ]
  },
  {
   "cell_type": "code",
   "execution_count": 74,
   "id": "1c68c6cb",
   "metadata": {},
   "outputs": [
    {
     "name": "stdout",
     "output_type": "stream",
     "text": [
      "['AH', 'BH', 'CH', 'DH', 'EH', 'FH', 'GH', 'HH', 'IH', 'JH', 'KH', 'LH', 'MH', 'NH', 'OH', 'PH', 'QH', 'RH', 'SH', 'TH', 'UH', 'VH', 'WH', 'XH', 'YH', 'ZH']\n"
     ]
    }
   ],
   "source": [
    "random = [chr(i) for i in range(65,91)]\n",
    "random = list(map(lambda x: x+\"H\",random))\n",
    "print(random)\n"
   ]
  },
  {
   "cell_type": "code",
   "execution_count": 80,
   "id": "1dd7462d",
   "metadata": {},
   "outputs": [
    {
     "name": "stdout",
     "output_type": "stream",
     "text": [
      "['Aj', 'Bj', 'Cj', 'Dj', 'Ej', 'Fj', 'Gj', 'Hj', 'Ij', 'Jj', 'Kj', 'Lj', 'Mj', 'Nj', 'Oj', 'Pj', 'Qj', 'Rj', 'Sj', 'Tj', 'Uj', 'Vj', 'Wj', 'Xj', 'Yj', 'Zj']\n"
     ]
    }
   ],
   "source": [
    "random = [chr(i)for i in range(65,91)]\n",
    "random_map  = list(map(lambda x: x+\"j\",random))\n",
    "print(random_map) \n"
   ]
  },
  {
   "cell_type": "code",
   "execution_count": 82,
   "id": "e15dba8a",
   "metadata": {},
   "outputs": [
    {
     "name": "stdout",
     "output_type": "stream",
     "text": [
      "['Ak', 'Bk', 'Ck', 'Dk', 'Ek', 'Fk', 'Gk', 'Hk', 'Ik', 'Jk', 'Kk', 'Lk', 'Mk', 'Nk', 'Ok', 'Pk', 'Qk', 'Rk', 'Sk', 'Tk', 'Uk', 'Vk', 'Wk', 'Xk', 'Yk', 'Zk']\n"
     ]
    }
   ],
   "source": [
    "def function():\n",
    "    random = [chr(i)for i in range(65,91)]\n",
    "random_map  = list(map(lambda x: x+\"k\",random))\n",
    "print(random_map)\n",
    "function()\n",
    "\n"
   ]
  },
  {
   "cell_type": "code",
   "execution_count": 84,
   "id": "300fe787",
   "metadata": {},
   "outputs": [
    {
     "name": "stdout",
     "output_type": "stream",
     "text": [
      "['AM', 'BM', 'CM', 'DM', 'EM', 'FM', 'GM', 'HM', 'IM', 'JM', 'KM', 'LM', 'MM', 'NM', 'OM', 'PM', 'QM', 'RM', 'SM', 'TM', 'UM', 'VM', 'WM', 'XM', 'YM', 'ZM']\n"
     ]
    }
   ],
   "source": [
    "def fucntion():\n",
    "    name =range(65,91)\n",
    "random_name =list(map(lambda x: x+\"M\",random)) \n",
    "print(random_name)\n",
    "fucntion()\n",
    "    \n",
    "    "
   ]
  },
  {
   "cell_type": "code",
   "execution_count": 85,
   "id": "05f91a5f",
   "metadata": {},
   "outputs": [],
   "source": [
    "alphabets=[chr(i) for i in range(65,91)]\n",
    "vowels = list(filter(lambda x: x in [\"A\",\"E\",\"I\",\"O\",\"U\"],alphabets))\n",
    "consonent = list(filter(lambda x: x not in [\"A\",\"E\",\"I\",\"O\",\"U\"],alphabets))"
   ]
  },
  {
   "cell_type": "code",
   "execution_count": 86,
   "id": "b354d266",
   "metadata": {},
   "outputs": [
    {
     "name": "stdout",
     "output_type": "stream",
     "text": [
      "['A', 'E', 'I', 'O', 'U']\n"
     ]
    }
   ],
   "source": [
    "print(vowels)\n"
   ]
  },
  {
   "cell_type": "code",
   "execution_count": 87,
   "id": "3347eca4",
   "metadata": {},
   "outputs": [
    {
     "name": "stdout",
     "output_type": "stream",
     "text": [
      "['B', 'C', 'D', 'F', 'G', 'H', 'J', 'K', 'L', 'M', 'N', 'P', 'Q', 'R', 'S', 'T', 'V', 'W', 'X', 'Y', 'Z']\n"
     ]
    }
   ],
   "source": [
    "print(consonent)"
   ]
  },
  {
   "cell_type": "code",
   "execution_count": 89,
   "id": "f88f4970",
   "metadata": {},
   "outputs": [
    {
     "name": "stdout",
     "output_type": "stream",
     "text": [
      "['A', 'E', 'I', 'O', 'U'] ['B', 'C', 'D', 'F', 'G', 'H', 'J', 'K', 'L', 'M', 'N', 'P', 'Q', 'R', 'S', 'T', 'V', 'W', 'X', 'Y', 'Z']\n"
     ]
    }
   ],
   "source": [
    "def function():\n",
    "  alphabets=[chr(i) for i in range(65,91)]\n",
    "vowels = list(filter(lambda x: x in [\"A\",\"E\",\"I\",\"O\",\"U\"],alphabets))\n",
    "consonent = list(filter(lambda x: x not in [\"A\",\"E\",\"I\",\"O\",\"U\"],alphabets))\n",
    "print(vowels,consonent)\n",
    "function()\n"
   ]
  },
  {
   "cell_type": "code",
   "execution_count": 92,
   "id": "cc9193ee",
   "metadata": {},
   "outputs": [
    {
     "name": "stdout",
     "output_type": "stream",
     "text": [
      "8385\n"
     ]
    }
   ],
   "source": [
    "import functools\n",
    "numbers =(range(0,130))\n",
    "print(functools.reduce(lambda a,b: a+b,numbers))\n",
    "\n"
   ]
  },
  {
   "cell_type": "code",
   "execution_count": 93,
   "id": "f544263d",
   "metadata": {},
   "outputs": [
    {
     "name": "stdout",
     "output_type": "stream",
     "text": [
      "66\n"
     ]
    }
   ],
   "source": [
    "import functools\n",
    "numbers =(range(0,12))\n",
    "print(functools.reduce(lambda a,b: a+b,numbers))\n",
    "\n"
   ]
  },
  {
   "cell_type": "code",
   "execution_count": 96,
   "id": "43c98808",
   "metadata": {},
   "outputs": [
    {
     "name": "stdout",
     "output_type": "stream",
     "text": [
      "362880\n"
     ]
    }
   ],
   "source": [
    "import functools\n",
    "numbers =(range(1,10))\n",
    "print(functools.reduce(lambda a,b:a*b,numbers ))"
   ]
  },
  {
   "cell_type": "code",
   "execution_count": null,
   "id": "a2c49f59",
   "metadata": {},
   "outputs": [],
   "source": []
  }
 ],
 "metadata": {
  "kernelspec": {
   "display_name": "Python 3 (ipykernel)",
   "language": "python",
   "name": "python3"
  },
  "language_info": {
   "codemirror_mode": {
    "name": "ipython",
    "version": 3
   },
   "file_extension": ".py",
   "mimetype": "text/x-python",
   "name": "python",
   "nbconvert_exporter": "python",
   "pygments_lexer": "ipython3",
   "version": "3.10.5"
  }
 },
 "nbformat": 4,
 "nbformat_minor": 5
}
