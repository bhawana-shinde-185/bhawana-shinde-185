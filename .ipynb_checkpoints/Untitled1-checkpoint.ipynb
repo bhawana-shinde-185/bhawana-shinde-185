{
 "cells": [
  {
   "cell_type": "code",
   "execution_count": null,
   "id": "4524a564",
   "metadata": {},
   "outputs": [],
   "source": [
    "def fun():\n",
    "    for i in range(1,10):\n",
    "        if i<=10:\n",
    "            print(i)\n",
    "    else:\n",
    "        print(\"lll\")\n",
    "        return fun()\n",
    "fun()"
   ]
  },
  {
   "cell_type": "code",
   "execution_count": null,
   "id": "dab36677",
   "metadata": {},
   "outputs": [],
   "source": []
  }
 ],
 "metadata": {
  "kernelspec": {
   "display_name": "Python 3 (ipykernel)",
   "language": "python",
   "name": "python3"
  },
  "language_info": {
   "codemirror_mode": {
    "name": "ipython",
    "version": 3
   },
   "file_extension": ".py",
   "mimetype": "text/x-python",
   "name": "python",
   "nbconvert_exporter": "python",
   "pygments_lexer": "ipython3",
   "version": "3.10.6"
  }
 },
 "nbformat": 4,
 "nbformat_minor": 5
}
